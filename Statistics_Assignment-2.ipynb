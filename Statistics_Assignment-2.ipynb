{
 "cells": [
  {
   "cell_type": "markdown",
   "id": "f7e27763",
   "metadata": {},
   "source": [
    "***1) What is statistics? <br>***\n",
    "Ans-Statistics is the branch of mathematics that deals with the collection, analysis, interpretation, presentation, and organization of data. It is used to describe and analyze data, make predictions, and inform decision-making in various fields such as business, economics, medicine, and engineering.\n",
    "\n",
    "Statistics can be divided into two main categories: descriptive statistics and inferential statistics.\n",
    "\n",
    "Descriptive statistics involves the use of numerical and graphical techniques to summarize and describe the characteristics of a dataset. These techniques include measures of central tendency, such as mean, median, and mode, and measures of variability, such as variance and standard deviation.\n",
    "\n",
    "Inferential statistics involves using statistical methods to make inferences about a population based on a sample. These methods involve hypothesis testing, confidence intervals, and regression analysis, among others. Inferential statistics is used to make predictions about future observations, to determine the effectiveness of a treatment or intervention, and to identify relationships between variables.\n",
    "\n",
    "Statistics is an important tool in many fields, as it provides a way to make informed decisions based on data and evidence. It is used in business to analyze market trends, in medicine to evaluate the effectiveness of treatments, and in social sciences to understand human behavior."
   ]
  },
  {
   "cell_type": "markdown",
   "id": "34578c29",
   "metadata": {},
   "source": [
    "***2)Statistics have majorly categorised into two types:Descriptive statistics,Inferential statistics.***\n",
    "1) Descriptive Statistics :\n",
    "- In this type of statistics, the data is summarised through the given observations. \n",
    "  The summarisation is one from a sample of population using parameters such as the mean or standard deviation. <br>\n",
    "\n",
    "2) Inferential Statistics\n",
    "- it is used to draw conclusions from the data that depends on random variations such as observational errors, sampling variation, etc."
   ]
  },
  {
   "cell_type": "markdown",
   "id": "53647469",
   "metadata": {},
   "source": [
    "***3)How data is classified into majorly categories?***\n",
    "1) Qualitative or Categorical Data:\n",
    "- Qualitative data, also known as the categorical data, describes the data that fits into the categories. \n",
    "- Qualitative data are not numerical.\n",
    "\n",
    "***The Categorical data is classified into majorly categories:***  <br>\n",
    "1)- Nominal data ----> Nominal data is one of the types of qualitative information which helps to label the variables without providing the numerical value. Nominal data is also called the nominal scale.\n",
    "- Examples of nominal data are letters, symbols, words, gender etc.\n",
    "\n",
    "2) Ordinal data ----> Ordinal data/variable is a type of data that follows a natural order. \n",
    "- The significant feature of the nominal data is that the difference between the data values is not determined. \n",
    "- This variable is mostly found in surveys, finance, economics, questionnaires, and so on.\n",
    "\n",
    "***2) Quantitative or Numerical Data ----->***\n",
    "- Quantitative data is also known as numerical data which represents the numerical value (i.e., how much, how often, how many). \n",
    "- Numerical data gives information about the quantities of a specific thing.\n",
    "- The Quantitative or Numerical Data is classified into majorly categories:\n",
    "\n",
    "1)Discrete data ----> Discrete data can take only discrete values. \n",
    "- Discrete information contains only a finite number of possible values. \n",
    "- Those values cannot be subdivided meaningfully. Here, things can be counted in whole numbers.\n",
    "- Example: Number of students in the class  <br>\n",
    "\n",
    "2)Continuous data ----> Continuous data is data that can be calculated. \n",
    "- It has an infinite number of probable values that can be selected within a given specific range.\n",
    "- Example: Temperature range"
   ]
  },
  {
   "cell_type": "code",
   "execution_count": 1,
   "id": "581a5374",
   "metadata": {},
   "outputs": [],
   "source": [
    "import pandas as pd \n",
    "data1 = [['Nominal data can’t be quantified, neither they have any intrinsic ordering' ,\n",
    "          ' Ordinal data gives some kind of sequential order by their position on the scale'],\n",
    "        ['Nominal data is qualitative data or categorical data' , \n",
    "         'Ordinal data is said to be “in-between” qualitative data and quantitative data'],\n",
    "        ['Examples: Eye color, housing style, gender, hair color, religion, marital status, ethnicity, etc ' , \n",
    "         'Examples: Economic status, customer satisfaction, education level, letter grades, etc']]"
   ]
  },
  {
   "cell_type": "code",
   "execution_count": 2,
   "id": "2774e997",
   "metadata": {},
   "outputs": [],
   "source": [
    "df1 = pd.DataFrame(data1,columns=['Nominal Data', ' Ordinal Data'])"
   ]
  },
  {
   "cell_type": "code",
   "execution_count": 3,
   "id": "a81d47e5",
   "metadata": {},
   "outputs": [
    {
     "data": {
      "text/html": [
       "<div>\n",
       "<style scoped>\n",
       "    .dataframe tbody tr th:only-of-type {\n",
       "        vertical-align: middle;\n",
       "    }\n",
       "\n",
       "    .dataframe tbody tr th {\n",
       "        vertical-align: top;\n",
       "    }\n",
       "\n",
       "    .dataframe thead th {\n",
       "        text-align: right;\n",
       "    }\n",
       "</style>\n",
       "<table border=\"1\" class=\"dataframe\">\n",
       "  <thead>\n",
       "    <tr style=\"text-align: right;\">\n",
       "      <th></th>\n",
       "      <th>Nominal Data</th>\n",
       "      <th>Ordinal Data</th>\n",
       "    </tr>\n",
       "  </thead>\n",
       "  <tbody>\n",
       "    <tr>\n",
       "      <th>0</th>\n",
       "      <td>Nominal data can’t be quantified, neither they...</td>\n",
       "      <td>Ordinal data gives some kind of sequential or...</td>\n",
       "    </tr>\n",
       "    <tr>\n",
       "      <th>1</th>\n",
       "      <td>Nominal data is qualitative data or categorica...</td>\n",
       "      <td>Ordinal data is said to be “in-between” qualit...</td>\n",
       "    </tr>\n",
       "    <tr>\n",
       "      <th>2</th>\n",
       "      <td>Examples: Eye color, housing style, gender, ha...</td>\n",
       "      <td>Examples: Economic status, customer satisfacti...</td>\n",
       "    </tr>\n",
       "  </tbody>\n",
       "</table>\n",
       "</div>"
      ],
      "text/plain": [
       "                                        Nominal Data  \\\n",
       "0  Nominal data can’t be quantified, neither they...   \n",
       "1  Nominal data is qualitative data or categorica...   \n",
       "2  Examples: Eye color, housing style, gender, ha...   \n",
       "\n",
       "                                        Ordinal Data  \n",
       "0   Ordinal data gives some kind of sequential or...  \n",
       "1  Ordinal data is said to be “in-between” qualit...  \n",
       "2  Examples: Economic status, customer satisfacti...  "
      ]
     },
     "execution_count": 3,
     "metadata": {},
     "output_type": "execute_result"
    }
   ],
   "source": [
    "df1"
   ]
  },
  {
   "cell_type": "code",
   "execution_count": 4,
   "id": "bfe1b4a1",
   "metadata": {},
   "outputs": [],
   "source": [
    "data2 = [[ 'Discrete data are countable and finite; they are whole numbers or integers' , \n",
    "          'Continuous data are measurable; they are in the form of fractions or decimal'],\n",
    "         [ 'Discrete data are represented mainly by bar graphs' , \n",
    "          'Continuous data are represented in the form of a histogram'],\n",
    "         ['Examples: Total students in a class, number of days in a week, size of a shoe, etc' , \n",
    "          'Example: Temperature of room, the weight of a person, length of an object, etc']]"
   ]
  },
  {
   "cell_type": "code",
   "execution_count": 5,
   "id": "4d5186e3",
   "metadata": {},
   "outputs": [],
   "source": [
    "df2 = pd.DataFrame(data2,columns=['Discrete Data' , 'Continuous Data'])"
   ]
  },
  {
   "cell_type": "code",
   "execution_count": 6,
   "id": "e2227e61",
   "metadata": {},
   "outputs": [
    {
     "data": {
      "text/html": [
       "<div>\n",
       "<style scoped>\n",
       "    .dataframe tbody tr th:only-of-type {\n",
       "        vertical-align: middle;\n",
       "    }\n",
       "\n",
       "    .dataframe tbody tr th {\n",
       "        vertical-align: top;\n",
       "    }\n",
       "\n",
       "    .dataframe thead th {\n",
       "        text-align: right;\n",
       "    }\n",
       "</style>\n",
       "<table border=\"1\" class=\"dataframe\">\n",
       "  <thead>\n",
       "    <tr style=\"text-align: right;\">\n",
       "      <th></th>\n",
       "      <th>Discrete Data</th>\n",
       "      <th>Continuous Data</th>\n",
       "    </tr>\n",
       "  </thead>\n",
       "  <tbody>\n",
       "    <tr>\n",
       "      <th>0</th>\n",
       "      <td>Discrete data are countable and finite; they a...</td>\n",
       "      <td>Continuous data are measurable; they are in th...</td>\n",
       "    </tr>\n",
       "    <tr>\n",
       "      <th>1</th>\n",
       "      <td>Discrete data are represented mainly by bar gr...</td>\n",
       "      <td>Continuous data are represented in the form of...</td>\n",
       "    </tr>\n",
       "    <tr>\n",
       "      <th>2</th>\n",
       "      <td>Examples: Total students in a class, number of...</td>\n",
       "      <td>Example: Temperature of room, the weight of a ...</td>\n",
       "    </tr>\n",
       "  </tbody>\n",
       "</table>\n",
       "</div>"
      ],
      "text/plain": [
       "                                       Discrete Data  \\\n",
       "0  Discrete data are countable and finite; they a...   \n",
       "1  Discrete data are represented mainly by bar gr...   \n",
       "2  Examples: Total students in a class, number of...   \n",
       "\n",
       "                                     Continuous Data  \n",
       "0  Continuous data are measurable; they are in th...  \n",
       "1  Continuous data are represented in the form of...  \n",
       "2  Example: Temperature of room, the weight of a ...  "
      ]
     },
     "execution_count": 6,
     "metadata": {},
     "output_type": "execute_result"
    }
   ],
   "source": [
    "df2"
   ]
  },
  {
   "cell_type": "code",
   "execution_count": 7,
   "id": "d54768f6",
   "metadata": {},
   "outputs": [
    {
     "name": "stdout",
     "output_type": "stream",
     "text": [
      " Difference between Nominal and Ordinal Data\n"
     ]
    }
   ],
   "source": [
    "print(\" Difference between Nominal and Ordinal Data\")                                                "
   ]
  },
  {
   "cell_type": "code",
   "execution_count": 8,
   "id": "9107f4ef",
   "metadata": {},
   "outputs": [],
   "source": [
    "import pandas as pd \n",
    "data1 = [['Nominal data can’t be quantified, neither they have any intrinsic ordering' ,\n",
    "          ' Ordinal data gives some kind of sequential order by their position on the scale'],\n",
    "        ['Nominal data is qualitative data or categorical data' , \n",
    "         'Ordinal data is said to be “in-between” qualitative data and quantitative data'],\n",
    "        ['Examples: Eye color, housing style, gender, hair color, religion, marital status, ethnicity, etc ' , \n",
    "         'Examples: Economic status, customer satisfaction, education level, letter grades, etc']]"
   ]
  },
  {
   "cell_type": "code",
   "execution_count": 9,
   "id": "a4ab4dc1",
   "metadata": {},
   "outputs": [
    {
     "data": {
      "text/html": [
       "<div>\n",
       "<style scoped>\n",
       "    .dataframe tbody tr th:only-of-type {\n",
       "        vertical-align: middle;\n",
       "    }\n",
       "\n",
       "    .dataframe tbody tr th {\n",
       "        vertical-align: top;\n",
       "    }\n",
       "\n",
       "    .dataframe thead th {\n",
       "        text-align: right;\n",
       "    }\n",
       "</style>\n",
       "<table border=\"1\" class=\"dataframe\">\n",
       "  <thead>\n",
       "    <tr style=\"text-align: right;\">\n",
       "      <th></th>\n",
       "      <th>Nominal Data</th>\n",
       "      <th>Ordinal Data</th>\n",
       "    </tr>\n",
       "  </thead>\n",
       "  <tbody>\n",
       "    <tr>\n",
       "      <th>0</th>\n",
       "      <td>Nominal data can’t be quantified, neither they...</td>\n",
       "      <td>Ordinal data gives some kind of sequential or...</td>\n",
       "    </tr>\n",
       "    <tr>\n",
       "      <th>1</th>\n",
       "      <td>Nominal data is qualitative data or categorica...</td>\n",
       "      <td>Ordinal data is said to be “in-between” qualit...</td>\n",
       "    </tr>\n",
       "    <tr>\n",
       "      <th>2</th>\n",
       "      <td>Examples: Eye color, housing style, gender, ha...</td>\n",
       "      <td>Examples: Economic status, customer satisfacti...</td>\n",
       "    </tr>\n",
       "  </tbody>\n",
       "</table>\n",
       "</div>"
      ],
      "text/plain": [
       "                                        Nominal Data  \\\n",
       "0  Nominal data can’t be quantified, neither they...   \n",
       "1  Nominal data is qualitative data or categorica...   \n",
       "2  Examples: Eye color, housing style, gender, ha...   \n",
       "\n",
       "                                        Ordinal Data  \n",
       "0   Ordinal data gives some kind of sequential or...  \n",
       "1  Ordinal data is said to be “in-between” qualit...  \n",
       "2  Examples: Economic status, customer satisfacti...  "
      ]
     },
     "execution_count": 9,
     "metadata": {},
     "output_type": "execute_result"
    }
   ],
   "source": [
    "df1 = pd.DataFrame(data1,columns=['Nominal Data', ' Ordinal Data'])\n",
    "df1"
   ]
  },
  {
   "cell_type": "code",
   "execution_count": 10,
   "id": "7f837164",
   "metadata": {},
   "outputs": [
    {
     "name": "stdout",
     "output_type": "stream",
     "text": [
      "Difference between Discrete and Continuous Data\n"
     ]
    }
   ],
   "source": [
    "print(\"Difference between Discrete and Continuous Data\")"
   ]
  },
  {
   "cell_type": "code",
   "execution_count": 11,
   "id": "10937550",
   "metadata": {},
   "outputs": [],
   "source": [
    "data2 = [[ 'Discrete data are countable and finite; they are whole numbers or integers' , \n",
    "          'Continuous data are measurable; they are in the form of fractions or decimal'],\n",
    "         [ 'Discrete data are represented mainly by bar graphs' , \n",
    "          'Continuous data are represented in the form of a histogram'],\n",
    "         ['Examples: Total students in a class, number of days in a week, size of a shoe, etc' , \n",
    "          'Example: Temperature of room, the weight of a person, length of an object, etc']]"
   ]
  },
  {
   "cell_type": "code",
   "execution_count": 12,
   "id": "54275ceb",
   "metadata": {},
   "outputs": [
    {
     "data": {
      "text/html": [
       "<div>\n",
       "<style scoped>\n",
       "    .dataframe tbody tr th:only-of-type {\n",
       "        vertical-align: middle;\n",
       "    }\n",
       "\n",
       "    .dataframe tbody tr th {\n",
       "        vertical-align: top;\n",
       "    }\n",
       "\n",
       "    .dataframe thead th {\n",
       "        text-align: right;\n",
       "    }\n",
       "</style>\n",
       "<table border=\"1\" class=\"dataframe\">\n",
       "  <thead>\n",
       "    <tr style=\"text-align: right;\">\n",
       "      <th></th>\n",
       "      <th>Discrete Data</th>\n",
       "      <th>Continuous Data</th>\n",
       "    </tr>\n",
       "  </thead>\n",
       "  <tbody>\n",
       "    <tr>\n",
       "      <th>0</th>\n",
       "      <td>Discrete data are countable and finite; they a...</td>\n",
       "      <td>Continuous data are measurable; they are in th...</td>\n",
       "    </tr>\n",
       "    <tr>\n",
       "      <th>1</th>\n",
       "      <td>Discrete data are represented mainly by bar gr...</td>\n",
       "      <td>Continuous data are represented in the form of...</td>\n",
       "    </tr>\n",
       "    <tr>\n",
       "      <th>2</th>\n",
       "      <td>Examples: Total students in a class, number of...</td>\n",
       "      <td>Example: Temperature of room, the weight of a ...</td>\n",
       "    </tr>\n",
       "  </tbody>\n",
       "</table>\n",
       "</div>"
      ],
      "text/plain": [
       "                                       Discrete Data  \\\n",
       "0  Discrete data are countable and finite; they a...   \n",
       "1  Discrete data are represented mainly by bar gr...   \n",
       "2  Examples: Total students in a class, number of...   \n",
       "\n",
       "                                     Continuous Data  \n",
       "0  Continuous data are measurable; they are in th...  \n",
       "1  Continuous data are represented in the form of...  \n",
       "2  Example: Temperature of room, the weight of a ...  "
      ]
     },
     "execution_count": 12,
     "metadata": {},
     "output_type": "execute_result"
    }
   ],
   "source": [
    "df2 = pd.DataFrame(data2,columns=['Discrete Data' , 'Continuous Data'])\n",
    "df2"
   ]
  },
  {
   "cell_type": "markdown",
   "id": "1bbaa2ba",
   "metadata": {},
   "source": [
    "- (i) Grading in exam: A+, A, B+, B, C+, C, D, E ---->  qualitative data types\n",
    "- (ii) Colour of mangoes: yellow, green, orange, red ----> qualitative data types\n",
    "- (iii) Height data of a class: [178.9, 179, 179.5, 176, 177.2, 178.3, 175.8,...] ----> quantitative data types\n",
    "- (iv) Number of mangoes exported by a farm: [500, 600, 478, 672, ...] ----> quantitative data types"
   ]
  },
  {
   "cell_type": "markdown",
   "id": "619f7191",
   "metadata": {},
   "source": [
    "***4) level of measurement is a classification that relates the values that are assigned to variables with each other.*** <br>\n",
    "Four Measurement Levels <br>\n",
    "1) Nominal scales contain the least amount of information. In nominal scales, the numbers assigned to each variable or observation are only used to classify the variable or observation. For example, a fund manager may choose to assign the number 1 to small-cap stocks, the number 2 to corporate bonds, the number 3 to derivatives, and so on. <br>\n",
    "\n",
    "2) Ordinal scales present more information than nominal scales and are, therefore, a higher level of measurement. In ordinal scales, there is an ordered relationship between the variable’s observations. For example, a list of 500 managers of mutual funds may be ranked by assigning the number 1 to the best-performing manager, the number 2 to the second best-performing manager, and so on.<br>\n",
    "\n",
    "3) Interval scales are ordinal scales but with equivalent scale values from low to high intervals. For example, temperature measurement is an example of an interval scale: 60°C is colder than 65°C, and the temperature difference is the same as the difference between 50°C and 55°C. <br>\n",
    "\n",
    "4) Ratio scales are the most informative scales. Ratio scales provide rankings, assure equal differences between scale values, and have a true zero point. I"
   ]
  },
  {
   "cell_type": "markdown",
   "id": "307fd5f3",
   "metadata": {},
   "source": [
    "- Learning about the four levels of measurement allows statisticians and analysts to more efficiently plan for research and       present their findings.\n",
    "- The second reason levels of measurement are important to know is because different statistical tests are appropriate for       variables with different levels of measurement.\n",
    "- For example, chi-square tests of independence are most appropriate for nominal level data.  \n",
    "  The Mann-Whitney U test is most appropriate for an ordinal lev"
   ]
  },
  {
   "cell_type": "code",
   "execution_count": 13,
   "id": "0470c5e5",
   "metadata": {},
   "outputs": [
    {
     "name": "stdout",
     "output_type": "stream",
     "text": [
      " Difference between Nominal and Ordinal Data\n"
     ]
    },
    {
     "data": {
      "text/html": [
       "<div>\n",
       "<style scoped>\n",
       "    .dataframe tbody tr th:only-of-type {\n",
       "        vertical-align: middle;\n",
       "    }\n",
       "\n",
       "    .dataframe tbody tr th {\n",
       "        vertical-align: top;\n",
       "    }\n",
       "\n",
       "    .dataframe thead th {\n",
       "        text-align: right;\n",
       "    }\n",
       "</style>\n",
       "<table border=\"1\" class=\"dataframe\">\n",
       "  <thead>\n",
       "    <tr style=\"text-align: right;\">\n",
       "      <th></th>\n",
       "      <th>Nominal Data</th>\n",
       "      <th>Ordinal Data</th>\n",
       "    </tr>\n",
       "  </thead>\n",
       "  <tbody>\n",
       "    <tr>\n",
       "      <th>0</th>\n",
       "      <td>Nominal data can’t be quantified, neither they...</td>\n",
       "      <td>Ordinal data gives some kind of sequential or...</td>\n",
       "    </tr>\n",
       "    <tr>\n",
       "      <th>1</th>\n",
       "      <td>Nominal data is qualitative data or categorica...</td>\n",
       "      <td>Ordinal data is said to be “in-between” qualit...</td>\n",
       "    </tr>\n",
       "    <tr>\n",
       "      <th>2</th>\n",
       "      <td>Examples: Eye color, housing style, gender, ha...</td>\n",
       "      <td>Examples: Economic status, customer satisfacti...</td>\n",
       "    </tr>\n",
       "  </tbody>\n",
       "</table>\n",
       "</div>"
      ],
      "text/plain": [
       "                                        Nominal Data  \\\n",
       "0  Nominal data can’t be quantified, neither they...   \n",
       "1  Nominal data is qualitative data or categorica...   \n",
       "2  Examples: Eye color, housing style, gender, ha...   \n",
       "\n",
       "                                        Ordinal Data  \n",
       "0   Ordinal data gives some kind of sequential or...  \n",
       "1  Ordinal data is said to be “in-between” qualit...  \n",
       "2  Examples: Economic status, customer satisfacti...  "
      ]
     },
     "execution_count": 13,
     "metadata": {},
     "output_type": "execute_result"
    }
   ],
   "source": [
    "print(\" Difference between Nominal and Ordinal Data\")                                                \n",
    "import pandas as pd \n",
    "data1 = [['Nominal data can’t be quantified, neither they have any intrinsic ordering' ,\n",
    "          ' Ordinal data gives some kind of sequential order by their position on the scale'],\n",
    "        ['Nominal data is qualitative data or categorical data' , \n",
    "         'Ordinal data is said to be “in-between” qualitative data and quantitative data'],\n",
    "        ['Examples: Eye color, housing style, gender, hair color, religion, marital status, ethnicity, etc ' , \n",
    "         'Examples: Economic status, customer satisfaction, education level, letter grades, etc']]\n",
    "\n",
    "df1 = pd.DataFrame(data1,columns=['Nominal Data', ' Ordinal Data'])\n",
    "df1"
   ]
  },
  {
   "cell_type": "code",
   "execution_count": 14,
   "id": "ba966fd3",
   "metadata": {},
   "outputs": [
    {
     "name": "stdout",
     "output_type": "stream",
     "text": [
      " The difference between descriptive and inferential statistics \n"
     ]
    },
    {
     "data": {
      "text/html": [
       "<div>\n",
       "<style scoped>\n",
       "    .dataframe tbody tr th:only-of-type {\n",
       "        vertical-align: middle;\n",
       "    }\n",
       "\n",
       "    .dataframe tbody tr th {\n",
       "        vertical-align: top;\n",
       "    }\n",
       "\n",
       "    .dataframe thead th {\n",
       "        text-align: right;\n",
       "    }\n",
       "</style>\n",
       "<table border=\"1\" class=\"dataframe\">\n",
       "  <thead>\n",
       "    <tr style=\"text-align: right;\">\n",
       "      <th></th>\n",
       "      <th>Descriptive Statistics</th>\n",
       "      <th>Inferential statistics</th>\n",
       "    </tr>\n",
       "  </thead>\n",
       "  <tbody>\n",
       "    <tr>\n",
       "      <th>Definition</th>\n",
       "      <td>Descriptive statistics is used to describe the...</td>\n",
       "      <td>Inferential statistics uses various analytical...</td>\n",
       "    </tr>\n",
       "    <tr>\n",
       "      <th>uses</th>\n",
       "      <td>Organizes, describes and presents data in a me...</td>\n",
       "      <td>Tests, predicts, and compares data obtained fr...</td>\n",
       "    </tr>\n",
       "    <tr>\n",
       "      <th>Example</th>\n",
       "      <td>Suppose the scores of 100 students belonging t...</td>\n",
       "      <td>suppose the scores of the students of an entir...</td>\n",
       "    </tr>\n",
       "    <tr>\n",
       "      <th>Function</th>\n",
       "      <td>It explains the data, which is already known, ...</td>\n",
       "      <td>It attempts to reach the conclusion to learn a...</td>\n",
       "    </tr>\n",
       "  </tbody>\n",
       "</table>\n",
       "</div>"
      ],
      "text/plain": [
       "                                      Descriptive Statistics   \\\n",
       "Definition  Descriptive statistics is used to describe the...   \n",
       "uses        Organizes, describes and presents data in a me...   \n",
       "Example     Suppose the scores of 100 students belonging t...   \n",
       "Function    It explains the data, which is already known, ...   \n",
       "\n",
       "                                      Inferential statistics   \n",
       "Definition  Inferential statistics uses various analytical...  \n",
       "uses        Tests, predicts, and compares data obtained fr...  \n",
       "Example     suppose the scores of the students of an entir...  \n",
       "Function    It attempts to reach the conclusion to learn a...  "
      ]
     },
     "execution_count": 14,
     "metadata": {},
     "output_type": "execute_result"
    }
   ],
   "source": [
    "print(\" The difference between descriptive and inferential statistics \")\n",
    "import pandas as pd \n",
    "index = ['Definition','uses','Example','Function']\n",
    "data2 = (['Descriptive statistics is used to describe the characteristics of the population using a sample',\n",
    "          'Inferential statistics uses various analytical tools to draw inferences about the population using samples'],\n",
    "         ['Organizes, describes and presents data in a meaningful way with the help of charts and graphs',\n",
    "          'Tests, predicts, and compares data obtained from various samples'],\n",
    "        ['Suppose the scores of 100 students belonging to a specific country are available. \\\n",
    "         The performance of these students needs to be examined. This data by itself will not yield any valuable results.\\\n",
    "         However, by using descriptive statistics, the spread of the marks can be obtained thus, \\\n",
    "         giving a clear idea regarding the performance of each student' , \n",
    "         'suppose the scores of the students of an entire country need to be examined. \\\n",
    "         Using a sample of, say 100 students, inferential statistics is used to make generalizations about the population'],\n",
    "        ['It explains the data, which is already known, to summarize sample',\n",
    "         'It attempts to reach the conclusion to learn about the population, that extends beyond the data available'])\n",
    "df2 = pd.DataFrame(data2,columns=[' Descriptive Statistics ', ' Inferential statistics '],index = index)\n",
    "df2"
   ]
  },
  {
   "cell_type": "markdown",
   "id": "c8923ce8",
   "metadata": {},
   "source": [
    "***Measures of central tendency are: ***<br>\n",
    "- 1 ----> mean : The mean represents the average value of the dataset. \n",
    "          It can be calculated as the sum of all the values in the dataset divided by the number of values.\n",
    "- 2 ----> median : Median is the middle value of the dataset in which the dataset is arranged in the ascending order or in                        descending order.\n",
    "         When the dataset contains an even number of values, then the median value of the dataset can be found by taking \n",
    "         the mean of the middle two values.\n",
    "- 3 ----> mode : The mode is the value that appears most frequently in a data set. \n",
    "                 A set of data may have one mode, more than one mode, or no mode at all.\n",
    "\n",
    "***Measures of variability are :***\n",
    "- 1 ----> Range: the difference between the highest and lowest values\n",
    "- 2 ----> Interquartile range: the range of the middle half of a distribution\n",
    "- 3 ----> Standard deviation: average distance from the mean\n",
    "         It represents the typical distance between each data point and the mean. \n",
    "   Smaller values indicate that the data points cluster closer to the mean—the values in the dataset are relatively consistent.\n",
    "- 4 ----> Variance: average of squared distances from the mean.\n",
    "         variance measures variability from the average or mean. \n",
    "          It is calculated by taking the differences between each number in the data set and the mean."
   ]
  },
  {
   "cell_type": "markdown",
   "id": "c0456b50",
   "metadata": {},
   "source": [
    "**There are three main measures of central tendency** <br>\n",
    "Mean,Median, Mode"
   ]
  },
  {
   "cell_type": "markdown",
   "id": "4bfdcd6c",
   "metadata": {},
   "source": [
    "**5)The difference between mean, median and mode are**\n",
    "- Mean is the average value of the given observations\n",
    "- Median is the middle value of the given observations\n",
    "- Mode is the most repeated value in the given observation"
   ]
  },
  {
   "cell_type": "code",
   "execution_count": 16,
   "id": "3064b213",
   "metadata": {},
   "outputs": [
    {
     "name": "stdout",
     "output_type": "stream",
     "text": [
      " The difference between mean , median , mode\n"
     ]
    },
    {
     "data": {
      "text/html": [
       "<div>\n",
       "<style scoped>\n",
       "    .dataframe tbody tr th:only-of-type {\n",
       "        vertical-align: middle;\n",
       "    }\n",
       "\n",
       "    .dataframe tbody tr th {\n",
       "        vertical-align: top;\n",
       "    }\n",
       "\n",
       "    .dataframe thead th {\n",
       "        text-align: right;\n",
       "    }\n",
       "</style>\n",
       "<table border=\"1\" class=\"dataframe\">\n",
       "  <thead>\n",
       "    <tr style=\"text-align: right;\">\n",
       "      <th></th>\n",
       "      <th>Mean</th>\n",
       "      <th>Median</th>\n",
       "      <th>Mode</th>\n",
       "    </tr>\n",
       "  </thead>\n",
       "  <tbody>\n",
       "    <tr>\n",
       "      <th>0</th>\n",
       "      <td>The average taken for a set of numbers is call...</td>\n",
       "      <td>The middle value in the data set is called the...</td>\n",
       "      <td>The number that occurs the most in a given lis...</td>\n",
       "    </tr>\n",
       "    <tr>\n",
       "      <th>1</th>\n",
       "      <td>Add all of the numbers together and divide the...</td>\n",
       "      <td>Place all the given numbers in an ascending order</td>\n",
       "      <td>It shows the frequency of occurrence</td>\n",
       "    </tr>\n",
       "    <tr>\n",
       "      <th>2</th>\n",
       "      <td>The result is the mean or average score</td>\n",
       "      <td>The next step is to find the middle number on ...</td>\n",
       "      <td>We can have more than one mode or no mode at all</td>\n",
       "    </tr>\n",
       "  </tbody>\n",
       "</table>\n",
       "</div>"
      ],
      "text/plain": [
       "                                                Mean  \\\n",
       "0  The average taken for a set of numbers is call...   \n",
       "1  Add all of the numbers together and divide the...   \n",
       "2            The result is the mean or average score   \n",
       "\n",
       "                                              Median  \\\n",
       "0  The middle value in the data set is called the...   \n",
       "1  Place all the given numbers in an ascending order   \n",
       "2  The next step is to find the middle number on ...   \n",
       "\n",
       "                                                Mode  \n",
       "0  The number that occurs the most in a given lis...  \n",
       "1               It shows the frequency of occurrence  \n",
       "2   We can have more than one mode or no mode at all  "
      ]
     },
     "execution_count": 16,
     "metadata": {},
     "output_type": "execute_result"
    }
   ],
   "source": [
    "print(\" The difference between mean , median , mode\")\n",
    "import pandas as pd \n",
    "data = (['The average taken for a set of numbers is called a mean','The middle value in the data set is called the Median',\n",
    "         'The number that occurs the most in a given list of numbers is called a mode'],\n",
    "       ['Add all of the numbers together and divide the sum by the total number of values',\n",
    "        'Place all the given numbers in an ascending order','It shows the frequency of occurrence'],\n",
    "       ['The result is the mean or average score',\n",
    "        'The next step is to find the middle number on the list. It is called the median',\n",
    "        'We can have more than one mode or no mode at all'])\n",
    "\n",
    "df = pd.DataFrame(data,columns=['Mean','Median','Mode'])\n",
    "df"
   ]
  },
  {
   "cell_type": "code",
   "execution_count": 17,
   "id": "d1be0f10",
   "metadata": {},
   "outputs": [
    {
     "name": "stdout",
     "output_type": "stream",
     "text": [
      "Mean Values in the Distribution 0    177.01875\n",
      "dtype: float64\n",
      "Median Values in the Distribution 0    177.0\n",
      "dtype: float64\n",
      "Mode Values in the Distribution        0\n",
      "0  177.0\n",
      "1  178.0\n"
     ]
    }
   ],
   "source": [
    "height = [178,177,176,177,178.2,178,175,179,180,175,178.9,176.2,177,172.5,178,176.5]\n",
    "df = pd.DataFrame(height)\n",
    "\n",
    "a = df.mean()\n",
    "print(\"Mean Values in the Distribution\",a)\n",
    "\n",
    "b = df.median()\n",
    "print(\"Median Values in the Distribution\",b)\n",
    "\n",
    "c = df.mode()\n",
    "print(\"Mode Values in the Distribution\",c)"
   ]
  },
  {
   "cell_type": "code",
   "execution_count": 18,
   "id": "2268b30c",
   "metadata": {},
   "outputs": [
    {
     "data": {
      "text/plain": [
       "0    1.847239\n",
       "dtype: float64"
      ]
     },
     "execution_count": 18,
     "metadata": {},
     "output_type": "execute_result"
    }
   ],
   "source": [
    "data = [178,177,176,177,178.2,178,175,179,180,175,178.9,176.2,177,172.5,178,176.5]\n",
    "df = pd.DataFrame(data)\n",
    "df.std()"
   ]
  },
  {
   "cell_type": "markdown",
   "id": "0e5afc6c",
   "metadata": {},
   "source": [
    "### Correlation & Covariance"
   ]
  },
  {
   "cell_type": "markdown",
   "id": "412825bf",
   "metadata": {},
   "source": [
    "- Correlation is a statistical measure that indicates the strength and direction of the linear relationship between two           variables.\n",
    "- Covariance is a measure of how two variables change together. \n",
    "- The two variables tend to change in the same direction, meaning that when one variable increases, the other variable also       tends to increase, then the covariance between them is positive"
   ]
  },
  {
   "cell_type": "markdown",
   "id": "d2d10e89",
   "metadata": {},
   "source": [
    "### Outliers"
   ]
  },
  {
   "cell_type": "markdown",
   "id": "968d55ec",
   "metadata": {},
   "source": [
    "- An outlier is a value that is significantly different from the other values in a dataset. \n",
    "- It can either be an unusually high value or an unusually low value. \n",
    "- Outliers can be caused by measurement or recording errors, or they can be valid data points that are far from the average. \n",
    "- Outliers can have a significant impact on statistical analysis.\n",
    "- As they can distort the measures of central tendency such as mean and median and measures of variability such as variance and   standard deviation. \n",
    "- Therefore, it is important to identify and handle outliers appropriately, such as by removing them or transforming the data."
   ]
  }
 ],
 "metadata": {
  "kernelspec": {
   "display_name": "Python 3 (ipykernel)",
   "language": "python",
   "name": "python3"
  },
  "language_info": {
   "codemirror_mode": {
    "name": "ipython",
    "version": 3
   },
   "file_extension": ".py",
   "mimetype": "text/x-python",
   "name": "python",
   "nbconvert_exporter": "python",
   "pygments_lexer": "ipython3",
   "version": "3.9.12"
  }
 },
 "nbformat": 4,
 "nbformat_minor": 5
}
