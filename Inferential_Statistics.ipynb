{
 "cells": [
  {
   "cell_type": "markdown",
   "id": "c67c04fd",
   "metadata": {},
   "source": [
    "# MEASURES OF CENTRAL TENDENCY"
   ]
  },
  {
   "cell_type": "code",
   "execution_count": 1,
   "id": "2ab4ebff",
   "metadata": {},
   "outputs": [],
   "source": [
    "#numpy library\n",
    "import numpy as np \n",
    "\n",
    "import warnings      #This will ignore all future warnings issued by the FutureWarning category\n",
    "warnings.filterwarnings('ignore', category=FutureWarning)"
   ]
  },
  {
   "cell_type": "code",
   "execution_count": 2,
   "id": "0161e87b",
   "metadata": {},
   "outputs": [],
   "source": [
    "# create an random data set\n",
    "# randint-create random integer in data set\n",
    "\n",
    "population =np.random.randint(10,20,50)"
   ]
  },
  {
   "cell_type": "code",
   "execution_count": 3,
   "id": "a5b0a749",
   "metadata": {},
   "outputs": [
    {
     "data": {
      "text/plain": [
       "array([11, 14, 16, 10, 14, 17, 11, 19, 11, 17, 11, 19, 17, 13, 19, 10, 18,\n",
       "       11, 15, 10, 15, 14, 12, 16, 19, 11, 19, 16, 13, 17, 13, 12, 16, 13,\n",
       "       18, 17, 16, 10, 12, 17, 10, 16, 13, 16, 12, 14, 19, 19, 17, 12])"
      ]
     },
     "execution_count": 3,
     "metadata": {},
     "output_type": "execute_result"
    }
   ],
   "source": [
    "population"
   ]
  },
  {
   "cell_type": "code",
   "execution_count": 4,
   "id": "fb238c2a",
   "metadata": {},
   "outputs": [
    {
     "data": {
      "text/plain": [
       "14.54"
      ]
     },
     "execution_count": 4,
     "metadata": {},
     "output_type": "execute_result"
    }
   ],
   "source": [
    "np.mean(population)"
   ]
  },
  {
   "cell_type": "code",
   "execution_count": 5,
   "id": "e23ffa59",
   "metadata": {},
   "outputs": [
    {
     "data": {
      "text/plain": [
       "14.5"
      ]
     },
     "execution_count": 5,
     "metadata": {},
     "output_type": "execute_result"
    }
   ],
   "source": [
    "np.median(population)"
   ]
  },
  {
   "cell_type": "code",
   "execution_count": 6,
   "id": "6c190490",
   "metadata": {},
   "outputs": [],
   "source": [
    "# mode is not present in numpy .therefore we need statistics library\n",
    "from scipy import stats\n",
    "mode=stats.mode(population)"
   ]
  },
  {
   "cell_type": "code",
   "execution_count": 7,
   "id": "98a8e8eb",
   "metadata": {},
   "outputs": [
    {
     "data": {
      "text/plain": [
       "ModeResult(mode=array([16]), count=array([7]))"
      ]
     },
     "execution_count": 7,
     "metadata": {},
     "output_type": "execute_result"
    }
   ],
   "source": [
    "mode"
   ]
  },
  {
   "cell_type": "code",
   "execution_count": 8,
   "id": "6b5d8e2f",
   "metadata": {},
   "outputs": [
    {
     "data": {
      "text/plain": [
       "16"
      ]
     },
     "execution_count": 8,
     "metadata": {},
     "output_type": "execute_result"
    }
   ],
   "source": [
    "from statistics import mode\n",
    "mode(population)"
   ]
  },
  {
   "cell_type": "code",
   "execution_count": 9,
   "id": "357e1c77",
   "metadata": {},
   "outputs": [
    {
     "name": "stdout",
     "output_type": "stream",
     "text": [
      "Mean of pupulation  = 14.54\n",
      "Median of pupulation= 14.5\n",
      "Mode of pupulation  = 16\n"
     ]
    }
   ],
   "source": [
    "print(f\"Mean of pupulation  = {np.mean(population)}\")\n",
    "print(f\"Median of pupulation= {np.median(population)}\")\n",
    "print(f\"Mode of pupulation  = {mode(population)}\")"
   ]
  },
  {
   "cell_type": "code",
   "execution_count": 10,
   "id": "dc73f746",
   "metadata": {},
   "outputs": [],
   "source": [
    "#if we want some data from population we use these function\n",
    "# np.random.choice(dataset,how much you want from data set)\n",
    "\n",
    "sample=np.random.choice(population,20)"
   ]
  },
  {
   "cell_type": "code",
   "execution_count": 11,
   "id": "348a8559",
   "metadata": {},
   "outputs": [
    {
     "data": {
      "text/plain": [
       "array([13, 11, 19, 15, 14, 16, 19, 14, 14, 16, 16, 19, 14, 17, 16, 17, 14,\n",
       "       13, 12, 19])"
      ]
     },
     "execution_count": 11,
     "metadata": {},
     "output_type": "execute_result"
    }
   ],
   "source": [
    "sample"
   ]
  },
  {
   "cell_type": "code",
   "execution_count": 12,
   "id": "76064684",
   "metadata": {},
   "outputs": [
    {
     "name": "stdout",
     "output_type": "stream",
     "text": [
      "Mean of the sample data  = 15.4\n",
      "Median of the sample data= 15.5\n",
      "Mode of the sample data  = 14\n"
     ]
    }
   ],
   "source": [
    "print(f\"Mean of the sample data  = {np.mean(sample)}\")\n",
    "print(f\"Median of the sample data= {np.median(sample)}\")\n",
    "print(f\"Mode of the sample data  = {mode(sample)}\")"
   ]
  },
  {
   "cell_type": "code",
   "execution_count": 13,
   "id": "50d52e9b",
   "metadata": {},
   "outputs": [],
   "source": [
    "#we also take many random sample from population data set\n",
    "sample1=np.random.choice(population,20)\n",
    "sample2=np.random.choice(population,20)\n",
    "sample3=np.random.choice(population,20)\n",
    "sample4=np.random.choice(population,20)"
   ]
  },
  {
   "cell_type": "code",
   "execution_count": 14,
   "id": "f7a0353c",
   "metadata": {},
   "outputs": [
    {
     "name": "stdout",
     "output_type": "stream",
     "text": [
      "Random sample1 data:[17 10 17 18 10 12 19 11 18 12 14 11 16 17 16 11 16 19 11 16]\n",
      "Random sample2 data:[19 17 12 19 18 16 16 19 10 16 10 10 16 10 19 13 17 14 11 16]\n",
      "Random sample3 data:[19 14 16 11 19 13 17 11 17 18 19 11 14 19 10 17 17 16 11 16]\n",
      "Random sample4 data:[10 12 12 19 19 17 10 17 12 12 19 11 11 19 12 10 19 13 15 18]\n"
     ]
    }
   ],
   "source": [
    "print(f\"Random sample1 data:{sample1}\")\n",
    "print(f\"Random sample2 data:{sample2}\")\n",
    "print(f\"Random sample3 data:{sample3}\")\n",
    "print(f\"Random sample4 data:{sample4}\")"
   ]
  },
  {
   "cell_type": "code",
   "execution_count": 15,
   "id": "ec5cfd4e",
   "metadata": {},
   "outputs": [],
   "source": [
    "mean_of_sample=[]\n",
    "all_sample=[sample1,sample2,sample3,sample4]\n",
    "\n",
    "for sample in all_sample:\n",
    "    mean_of_sample.append(np.mean(sample))"
   ]
  },
  {
   "cell_type": "code",
   "execution_count": 16,
   "id": "01dc8471",
   "metadata": {},
   "outputs": [
    {
     "data": {
      "text/plain": [
       "[14.55, 14.9, 15.25, 14.35]"
      ]
     },
     "execution_count": 16,
     "metadata": {},
     "output_type": "execute_result"
    }
   ],
   "source": [
    "mean_of_sample"
   ]
  },
  {
   "cell_type": "markdown",
   "id": "baf76160",
   "metadata": {},
   "source": [
    "# CENTRAL LIMIT THEOREM"
   ]
  },
  {
   "cell_type": "code",
   "execution_count": 17,
   "id": "71cd65d0",
   "metadata": {},
   "outputs": [],
   "source": [
    "# we take random popuation data i.e 10k\n",
    "population_data=np.random.binomial(10,0.5,10000)"
   ]
  },
  {
   "cell_type": "code",
   "execution_count": 18,
   "id": "8f911b33",
   "metadata": {},
   "outputs": [
    {
     "data": {
      "text/plain": [
       "array([5, 5, 6, ..., 4, 6, 5])"
      ]
     },
     "execution_count": 18,
     "metadata": {},
     "output_type": "execute_result"
    }
   ],
   "source": [
    "population_data"
   ]
  },
  {
   "cell_type": "code",
   "execution_count": 19,
   "id": "f4addfbf",
   "metadata": {},
   "outputs": [
    {
     "data": {
      "text/plain": [
       "10000"
      ]
     },
     "execution_count": 19,
     "metadata": {},
     "output_type": "execute_result"
    }
   ],
   "source": [
    "len(population_data)"
   ]
  },
  {
   "cell_type": "code",
   "execution_count": 20,
   "id": "84e9d67d",
   "metadata": {},
   "outputs": [
    {
     "data": {
      "text/plain": [
       "<AxesSubplot:ylabel='Density'>"
      ]
     },
     "execution_count": 20,
     "metadata": {},
     "output_type": "execute_result"
    },
    {
     "data": {
      "image/png": "[encoded data removed]",
      "text/plain": [
       "<Figure size 432x288 with 1 Axes>"
      ]
     },
     "metadata": {
      "needs_background": "light"
     },
     "output_type": "display_data"
    }
   ],
   "source": [
    "#check data how the lie on graph\n",
    "import seaborn as sns\n",
    "sns.distplot(population_data)"
   ]
  },
  {
   "cell_type": "raw",
   "id": "72c0cca5",
   "metadata": {},
   "source": [
    "# it is binomial distributed graph we want to make it normal"
   ]
  },
  {
   "cell_type": "raw",
   "id": "19c6c775",
   "metadata": {},
   "source": [
    "#central limit theorem says\n",
    "when distribution not follow normal distribution than we take more or eaqule to 30 (>=30)"
   ]
  },
  {
   "cell_type": "code",
   "execution_count": 21,
   "id": "b02d20f4",
   "metadata": {},
   "outputs": [
    {
     "data": {
      "text/plain": [
       "10000"
      ]
     },
     "execution_count": 21,
     "metadata": {},
     "output_type": "execute_result"
    }
   ],
   "source": [
    "len(population_data)"
   ]
  },
  {
   "cell_type": "code",
   "execution_count": 22,
   "id": "a79e64a6",
   "metadata": {},
   "outputs": [],
   "source": [
    "# we take sample data from population_data\n",
    "sample_size=int(len(population_data)*0.30)"
   ]
  },
  {
   "cell_type": "code",
   "execution_count": 23,
   "id": "698be1ee",
   "metadata": {},
   "outputs": [],
   "source": [
    "n = sample_size"
   ]
  },
  {
   "cell_type": "code",
   "execution_count": 24,
   "id": "6e1d0785",
   "metadata": {},
   "outputs": [],
   "source": [
    "sample_mean=[]\n",
    "for i in range(1,31):\n",
    "    sample=np.random.choice(population_data,size=n)\n",
    "    sample_mean.append(np.mean(sample))"
   ]
  },
  {
   "cell_type": "code",
   "execution_count": 25,
   "id": "8420b861",
   "metadata": {},
   "outputs": [
    {
     "data": {
      "text/plain": [
       "[5.000666666666667,\n",
       " 4.983666666666666,\n",
       " 5.006666666666667,\n",
       " 4.989,\n",
       " 4.989,\n",
       " 4.978,\n",
       " 4.977333333333333,\n",
       " 4.959333333333333,\n",
       " 5.010666666666666,\n",
       " 5.0056666666666665,\n",
       " 4.996,\n",
       " 4.975666666666666,\n",
       " 4.977333333333333,\n",
       " 4.972666666666667,\n",
       " 4.97,\n",
       " 4.991666666666666,\n",
       " 5.038,\n",
       " 5.019,\n",
       " 5.046333333333333,\n",
       " 4.992333333333334,\n",
       " 5.009333333333333,\n",
       " 4.953333333333333,\n",
       " 4.964666666666667,\n",
       " 4.982666666666667,\n",
       " 4.940333333333333,\n",
       " 4.987666666666667,\n",
       " 5.0056666666666665,\n",
       " 4.9623333333333335,\n",
       " 4.989,\n",
       " 5.034]"
      ]
     },
     "execution_count": 25,
     "metadata": {},
     "output_type": "execute_result"
    }
   ],
   "source": [
    "sample_mean"
   ]
  },
  {
   "cell_type": "code",
   "execution_count": 26,
   "id": "45913a02",
   "metadata": {},
   "outputs": [
    {
     "data": {
      "text/plain": [
       "4.990266666666666"
      ]
     },
     "execution_count": 26,
     "metadata": {},
     "output_type": "execute_result"
    }
   ],
   "source": [
    "np.mean(sample_mean)"
   ]
  },
  {
   "cell_type": "code",
   "execution_count": 27,
   "id": "ae3de883",
   "metadata": {},
   "outputs": [
    {
     "data": {
      "text/plain": [
       "<AxesSubplot:ylabel='Density'>"
      ]
     },
     "execution_count": 27,
     "metadata": {},
     "output_type": "execute_result"
    },
    {
     "data": {
      "image/png": "[encoded data removed]",
      "text/plain": [
       "<Figure size 432x288 with 1 Axes>"
      ]
     },
     "metadata": {
      "needs_background": "light"
     },
     "output_type": "display_data"
    }
   ],
   "source": [
    "sns.distplot(sample_mean)"
   ]
  },
  {
   "cell_type": "code",
   "execution_count": 28,
   "id": "2c1eac59",
   "metadata": {},
   "outputs": [],
   "source": [
    "sample_mean=[]\n",
    "for i in range(1,500):\n",
    "    sample=np.random.choice(population,size=n)\n",
    "    sample_mean.append(np.mean(sample))"
   ]
  },
  {
   "cell_type": "code",
   "execution_count": 29,
   "id": "045f666a",
   "metadata": {},
   "outputs": [
    {
     "data": {
      "text/plain": [
       "[14.536,\n",
       " 14.596,\n",
       " 14.548333333333334,\n",
       " 14.559666666666667,\n",
       " 14.577666666666667,\n",
       " 14.541333333333334,\n",
       " 14.617333333333333,\n",
       " 14.559666666666667,\n",
       " 14.485666666666667,\n",
       " 14.595,\n",
       " 14.524,\n",
       " 14.546333333333333,\n",
       " 14.556666666666667,\n",
       " 14.502,\n",
       " 14.527666666666667,\n",
       " 14.499333333333333,\n",
       " 14.514,\n",
       " 14.543666666666667,\n",
       " 14.566,\n",
       " 14.64,\n",
       " 14.629,\n",
       " 14.649333333333333,\n",
       " 14.371,\n",
       " 14.577333333333334,\n",
       " 14.553333333333333,\n",
       " 14.459,\n",
       " 14.639333333333333,\n",
       " 14.473333333333333,\n",
       " 14.566666666666666,\n",
       " 14.521666666666667,\n",
       " 14.493333333333334,\n",
       " 14.419333333333332,\n",
       " 14.516,\n",
       " 14.459333333333333,\n",
       " 14.575666666666667,\n",
       " 14.676666666666666,\n",
       " 14.597,\n",
       " 14.508333333333333,\n",
       " 14.610666666666667,\n",
       " 14.469333333333333,\n",
       " 14.523333333333333,\n",
       " 14.576,\n",
       " 14.404,\n",
       " 14.495333333333333,\n",
       " 14.501666666666667,\n",
       " 14.538333333333334,\n",
       " 14.492333333333333,\n",
       " 14.570666666666666,\n",
       " 14.568,\n",
       " 14.580333333333334,\n",
       " 14.521,\n",
       " 14.475,\n",
       " 14.626333333333333,\n",
       " 14.529333333333334,\n",
       " 14.55,\n",
       " 14.458,\n",
       " 14.486333333333333,\n",
       " 14.554333333333334,\n",
       " 14.486333333333333,\n",
       " 14.527,\n",
       " 14.568333333333333,\n",
       " 14.579333333333333,\n",
       " 14.575333333333333,\n",
       " 14.502,\n",
       " 14.638,\n",
       " 14.584333333333333,\n",
       " 14.492666666666667,\n",
       " 14.520333333333333,\n",
       " 14.535333333333334,\n",
       " 14.558666666666667,\n",
       " 14.560333333333332,\n",
       " 14.640666666666666,\n",
       " 14.543333333333333,\n",
       " 14.556,\n",
       " 14.500666666666667,\n",
       " 14.591,\n",
       " 14.584,\n",
       " 14.529,\n",
       " 14.584333333333333,\n",
       " 14.542666666666667,\n",
       " 14.483666666666666,\n",
       " 14.561,\n",
       " 14.566666666666666,\n",
       " 14.515333333333333,\n",
       " 14.56,\n",
       " 14.502333333333333,\n",
       " 14.608666666666666,\n",
       " 14.554,\n",
       " 14.465,\n",
       " 14.539333333333333,\n",
       " 14.529666666666667,\n",
       " 14.580333333333334,\n",
       " 14.577333333333334,\n",
       " 14.633333333333333,\n",
       " 14.637,\n",
       " 14.543333333333333,\n",
       " 14.556,\n",
       " 14.417666666666667,\n",
       " 14.618333333333334,\n",
       " 14.565333333333333,\n",
       " 14.432333333333334,\n",
       " 14.612666666666666,\n",
       " 14.503333333333334,\n",
       " 14.542333333333334,\n",
       " 14.563666666666666,\n",
       " 14.519666666666666,\n",
       " 14.476666666666667,\n",
       " 14.542,\n",
       " 14.610333333333333,\n",
       " 14.487333333333334,\n",
       " 14.650333333333334,\n",
       " 14.568333333333333,\n",
       " 14.557666666666666,\n",
       " 14.469,\n",
       " 14.515333333333333,\n",
       " 14.566,\n",
       " 14.479666666666667,\n",
       " 14.523,\n",
       " 14.537666666666667,\n",
       " 14.525,\n",
       " 14.471666666666666,\n",
       " 14.592333333333332,\n",
       " 14.501333333333333,\n",
       " 14.571666666666667,\n",
       " 14.443666666666667,\n",
       " 14.479,\n",
       " 14.559,\n",
       " 14.537666666666667,\n",
       " 14.543,\n",
       " 14.560333333333332,\n",
       " 14.552,\n",
       " 14.528333333333334,\n",
       " 14.600333333333333,\n",
       " 14.520333333333333,\n",
       " 14.485,\n",
       " 14.500333333333334,\n",
       " 14.456,\n",
       " 14.545333333333334,\n",
       " 14.464333333333334,\n",
       " 14.482,\n",
       " 14.560333333333332,\n",
       " 14.54,\n",
       " 14.558666666666667,\n",
       " 14.519333333333334,\n",
       " 14.497,\n",
       " 14.489,\n",
       " 14.503,\n",
       " 14.386333333333333,\n",
       " 14.475333333333333,\n",
       " 14.477666666666666,\n",
       " 14.452,\n",
       " 14.622666666666667,\n",
       " 14.563,\n",
       " 14.474666666666666,\n",
       " 14.583666666666666,\n",
       " 14.402,\n",
       " 14.714333333333334,\n",
       " 14.579666666666666,\n",
       " 14.421666666666667,\n",
       " 14.467333333333332,\n",
       " 14.598333333333333,\n",
       " 14.603,\n",
       " 14.539,\n",
       " 14.479333333333333,\n",
       " 14.482333333333333,\n",
       " 14.577,\n",
       " 14.476333333333333,\n",
       " 14.428666666666667,\n",
       " 14.443333333333333,\n",
       " 14.575333333333333,\n",
       " 14.531,\n",
       " 14.555666666666667,\n",
       " 14.435,\n",
       " 14.481,\n",
       " 14.578666666666667,\n",
       " 14.602,\n",
       " 14.625666666666667,\n",
       " 14.495666666666667,\n",
       " 14.581666666666667,\n",
       " 14.596333333333334,\n",
       " 14.523,\n",
       " 14.552666666666667,\n",
       " 14.613,\n",
       " 14.560333333333332,\n",
       " 14.464666666666666,\n",
       " 14.468333333333334,\n",
       " 14.523333333333333,\n",
       " 14.542333333333334,\n",
       " 14.616666666666667,\n",
       " 14.504333333333333,\n",
       " 14.477,\n",
       " 14.538666666666666,\n",
       " 14.574666666666667,\n",
       " 14.566,\n",
       " 14.556,\n",
       " 14.522333333333334,\n",
       " 14.470333333333333,\n",
       " 14.529,\n",
       " 14.594,\n",
       " 14.486,\n",
       " 14.518666666666666,\n",
       " 14.498666666666667,\n",
       " 14.593333333333334,\n",
       " 14.580666666666668,\n",
       " 14.500333333333334,\n",
       " 14.487,\n",
       " 14.432333333333334,\n",
       " 14.525333333333334,\n",
       " 14.387,\n",
       " 14.559,\n",
       " 14.480666666666666,\n",
       " 14.514333333333333,\n",
       " 14.643,\n",
       " 14.547666666666666,\n",
       " 14.593333333333334,\n",
       " 14.508333333333333,\n",
       " 14.451,\n",
       " 14.517,\n",
       " 14.564333333333334,\n",
       " 14.417333333333334,\n",
       " 14.651333333333334,\n",
       " 14.484666666666667,\n",
       " 14.479666666666667,\n",
       " 14.655333333333333,\n",
       " 14.586666666666666,\n",
       " 14.517333333333333,\n",
       " 14.580666666666668,\n",
       " 14.473666666666666,\n",
       " 14.540333333333333,\n",
       " 14.536666666666667,\n",
       " 14.487,\n",
       " 14.458,\n",
       " 14.513666666666667,\n",
       " 14.562333333333333,\n",
       " 14.558333333333334,\n",
       " 14.521333333333333,\n",
       " 14.462,\n",
       " 14.553333333333333,\n",
       " 14.530333333333333,\n",
       " 14.58,\n",
       " 14.573666666666666,\n",
       " 14.526333333333334,\n",
       " 14.592,\n",
       " 14.448666666666666,\n",
       " 14.485333333333333,\n",
       " 14.568333333333333,\n",
       " 14.503,\n",
       " 14.593,\n",
       " 14.551,\n",
       " 14.635,\n",
       " 14.605,\n",
       " 14.575,\n",
       " 14.613666666666667,\n",
       " 14.601666666666667,\n",
       " 14.476666666666667,\n",
       " 14.568666666666667,\n",
       " 14.558666666666667,\n",
       " 14.649,\n",
       " 14.527,\n",
       " 14.488666666666667,\n",
       " 14.482,\n",
       " 14.437666666666667,\n",
       " 14.567,\n",
       " 14.514333333333333,\n",
       " 14.507,\n",
       " 14.605666666666666,\n",
       " 14.482,\n",
       " 14.579333333333333,\n",
       " 14.475666666666667,\n",
       " 14.5,\n",
       " 14.575333333333333,\n",
       " 14.585333333333333,\n",
       " 14.656666666666666,\n",
       " 14.502666666666666,\n",
       " 14.465666666666667,\n",
       " 14.479,\n",
       " 14.629,\n",
       " 14.608,\n",
       " 14.463333333333333,\n",
       " 14.548,\n",
       " 14.6,\n",
       " 14.538333333333334,\n",
       " 14.465,\n",
       " 14.616,\n",
       " 14.610666666666667,\n",
       " 14.531,\n",
       " 14.509666666666666,\n",
       " 14.629666666666667,\n",
       " 14.583333333333334,\n",
       " 14.502,\n",
       " 14.534666666666666,\n",
       " 14.556,\n",
       " 14.537666666666667,\n",
       " 14.476333333333333,\n",
       " 14.615333333333334,\n",
       " 14.531333333333333,\n",
       " 14.439,\n",
       " 14.435,\n",
       " 14.539666666666667,\n",
       " 14.5,\n",
       " 14.695,\n",
       " 14.541,\n",
       " 14.589666666666666,\n",
       " 14.522333333333334,\n",
       " 14.531666666666666,\n",
       " 14.538666666666666,\n",
       " 14.510666666666667,\n",
       " 14.583333333333334,\n",
       " 14.559333333333333,\n",
       " 14.522666666666666,\n",
       " 14.547666666666666,\n",
       " 14.52,\n",
       " 14.697333333333333,\n",
       " 14.521,\n",
       " 14.537,\n",
       " 14.571333333333333,\n",
       " 14.577333333333334,\n",
       " 14.471,\n",
       " 14.541666666666666,\n",
       " 14.638,\n",
       " 14.555,\n",
       " 14.473,\n",
       " 14.525666666666666,\n",
       " 14.477,\n",
       " 14.444666666666667,\n",
       " 14.597333333333333,\n",
       " 14.487,\n",
       " 14.626333333333333,\n",
       " 14.505,\n",
       " 14.51,\n",
       " 14.558333333333334,\n",
       " 14.478,\n",
       " 14.619,\n",
       " 14.404333333333334,\n",
       " 14.54,\n",
       " 14.639,\n",
       " 14.569333333333333,\n",
       " 14.527333333333333,\n",
       " 14.448666666666666,\n",
       " 14.522333333333334,\n",
       " 14.466666666666667,\n",
       " 14.558333333333334,\n",
       " 14.447666666666667,\n",
       " 14.521666666666667,\n",
       " 14.445,\n",
       " 14.54,\n",
       " 14.609666666666667,\n",
       " 14.471666666666666,\n",
       " 14.547333333333333,\n",
       " 14.521,\n",
       " 14.472,\n",
       " 14.513,\n",
       " 14.52,\n",
       " 14.498,\n",
       " 14.501,\n",
       " 14.574666666666667,\n",
       " 14.548333333333334,\n",
       " 14.518666666666666,\n",
       " 14.460666666666667,\n",
       " 14.480333333333334,\n",
       " 14.532,\n",
       " 14.597,\n",
       " 14.629666666666667,\n",
       " 14.535,\n",
       " 14.535666666666666,\n",
       " 14.557666666666666,\n",
       " 14.511666666666667,\n",
       " 14.562666666666667,\n",
       " 14.562666666666667,\n",
       " 14.53,\n",
       " 14.522,\n",
       " 14.610666666666667,\n",
       " 14.474333333333334,\n",
       " 14.496,\n",
       " 14.530666666666667,\n",
       " 14.604,\n",
       " 14.452333333333334,\n",
       " 14.640666666666666,\n",
       " 14.571333333333333,\n",
       " 14.483333333333333,\n",
       " 14.484666666666667,\n",
       " 14.565,\n",
       " 14.593666666666667,\n",
       " 14.56,\n",
       " 14.503333333333334,\n",
       " 14.509,\n",
       " 14.528,\n",
       " 14.499333333333333,\n",
       " 14.496333333333334,\n",
       " 14.517333333333333,\n",
       " 14.502,\n",
       " 14.533666666666667,\n",
       " 14.583333333333334,\n",
       " 14.526333333333334,\n",
       " 14.509666666666666,\n",
       " 14.691666666666666,\n",
       " 14.573666666666666,\n",
       " 14.504333333333333,\n",
       " 14.551,\n",
       " 14.588666666666667,\n",
       " 14.566,\n",
       " 14.491666666666667,\n",
       " 14.492,\n",
       " 14.561,\n",
       " 14.557666666666666,\n",
       " 14.458333333333334,\n",
       " 14.485666666666667,\n",
       " 14.515,\n",
       " 14.508666666666667,\n",
       " 14.525666666666666,\n",
       " 14.573,\n",
       " 14.492333333333333,\n",
       " 14.521333333333333,\n",
       " 14.582666666666666,\n",
       " 14.569333333333333,\n",
       " 14.477,\n",
       " 14.619666666666667,\n",
       " 14.655333333333333,\n",
       " 14.518666666666666,\n",
       " 14.544,\n",
       " 14.54,\n",
       " 14.505333333333333,\n",
       " 14.527,\n",
       " 14.453,\n",
       " 14.533333333333333,\n",
       " 14.594333333333333,\n",
       " 14.544,\n",
       " 14.499666666666666,\n",
       " 14.581333333333333,\n",
       " 14.565333333333333,\n",
       " 14.621,\n",
       " 14.535666666666666,\n",
       " 14.538333333333334,\n",
       " 14.531333333333333,\n",
       " 14.498666666666667,\n",
       " 14.625666666666667,\n",
       " 14.424,\n",
       " 14.438666666666666,\n",
       " 14.623666666666667,\n",
       " 14.498666666666667,\n",
       " 14.566,\n",
       " 14.536,\n",
       " 14.548666666666668,\n",
       " 14.592333333333332,\n",
       " 14.570333333333334,\n",
       " 14.510666666666667,\n",
       " 14.528333333333334,\n",
       " 14.608666666666666,\n",
       " 14.542333333333334,\n",
       " 14.549333333333333,\n",
       " 14.537666666666667,\n",
       " 14.566,\n",
       " 14.550666666666666,\n",
       " 14.472,\n",
       " 14.513333333333334,\n",
       " 14.529333333333334,\n",
       " 14.557,\n",
       " 14.564666666666668,\n",
       " 14.502666666666666,\n",
       " 14.603333333333333,\n",
       " 14.686333333333334,\n",
       " 14.447666666666667,\n",
       " 14.518333333333333,\n",
       " 14.583333333333334,\n",
       " 14.58,\n",
       " 14.557333333333334,\n",
       " 14.596333333333334,\n",
       " 14.475,\n",
       " 14.562,\n",
       " 14.562666666666667,\n",
       " 14.555666666666667,\n",
       " 14.498666666666667,\n",
       " 14.615333333333334,\n",
       " 14.483333333333333,\n",
       " 14.52,\n",
       " 14.551666666666666,\n",
       " 14.492,\n",
       " 14.540666666666667,\n",
       " 14.558333333333334,\n",
       " 14.549,\n",
       " 14.507666666666667,\n",
       " 14.602666666666666,\n",
       " 14.431333333333333,\n",
       " 14.621,\n",
       " 14.544,\n",
       " 14.508666666666667,\n",
       " 14.589,\n",
       " 14.530333333333333,\n",
       " 14.628666666666666,\n",
       " 14.470333333333333,\n",
       " 14.555,\n",
       " 14.631666666666666,\n",
       " 14.567666666666666,\n",
       " 14.450333333333333,\n",
       " 14.486333333333333,\n",
       " 14.508666666666667,\n",
       " 14.460333333333333,\n",
       " 14.526333333333334,\n",
       " 14.605666666666666]"
      ]
     },
     "execution_count": 29,
     "metadata": {},
     "output_type": "execute_result"
    }
   ],
   "source": [
    "sample_mean"
   ]
  },
  {
   "cell_type": "raw",
   "id": "c48a3e33",
   "metadata": {},
   "source": [
    "The more data we have, the more accurate our estimate of the average value of the population, \n",
    "becomes even if the population is not normally distributed. \n",
    "This is useful because we can use a sample of data to estimate properties of the whole population."
   ]
  },
  {
   "cell_type": "code",
   "execution_count": 30,
   "id": "6082cf11",
   "metadata": {},
   "outputs": [],
   "source": [
    "sample_mean=[]\n",
    "for i in range(1,500):\n",
    "    sample=np.random.choice(population_data,size=n)\n",
    "    sample_mean.append(np.mean(sample))"
   ]
  },
  {
   "cell_type": "code",
   "execution_count": 31,
   "id": "5216487e",
   "metadata": {},
   "outputs": [
    {
     "data": {
      "text/plain": [
       "[4.999,\n",
       " 5.011333333333333,\n",
       " 5.052,\n",
       " 4.945,\n",
       " 4.974666666666667,\n",
       " 5.003,\n",
       " 4.990666666666667,\n",
       " 4.973,\n",
       " 4.996,\n",
       " 4.958,\n",
       " 5.042,\n",
       " 4.9703333333333335,\n",
       " 4.969333333333333,\n",
       " 4.999666666666666,\n",
       " 4.954666666666666,\n",
       " 5.033333333333333,\n",
       " 5.0343333333333335,\n",
       " 4.991,\n",
       " 5.000333333333334,\n",
       " 4.979,\n",
       " 4.994666666666666,\n",
       " 4.969666666666667,\n",
       " 5.013333333333334,\n",
       " 5.0183333333333335,\n",
       " 5.021,\n",
       " 5.023333333333333,\n",
       " 4.962666666666666,\n",
       " 5.016,\n",
       " 5.008333333333334,\n",
       " 5.001666666666667,\n",
       " 5.006333333333333,\n",
       " 4.978,\n",
       " 5.021333333333334,\n",
       " 5.0103333333333335,\n",
       " 5.006,\n",
       " 5.014,\n",
       " 5.025,\n",
       " 4.971,\n",
       " 4.997,\n",
       " 5.041,\n",
       " 4.978666666666666,\n",
       " 5.072333333333333,\n",
       " 4.969,\n",
       " 5.005,\n",
       " 4.95,\n",
       " 4.9223333333333334,\n",
       " 4.988,\n",
       " 4.997,\n",
       " 4.982333333333333,\n",
       " 4.977666666666667,\n",
       " 5.0183333333333335,\n",
       " 4.988666666666667,\n",
       " 5.025,\n",
       " 5.0,\n",
       " 5.009666666666667,\n",
       " 4.987,\n",
       " 4.971666666666667,\n",
       " 5.008666666666667,\n",
       " 5.019666666666667,\n",
       " 5.01,\n",
       " 5.012333333333333,\n",
       " 4.992666666666667,\n",
       " 5.012333333333333,\n",
       " 4.9816666666666665,\n",
       " 4.943333333333333,\n",
       " 4.979666666666667,\n",
       " 4.991333333333333,\n",
       " 5.0056666666666665,\n",
       " 5.023333333333333,\n",
       " 4.932666666666667,\n",
       " 4.9816666666666665,\n",
       " 4.955666666666667,\n",
       " 5.014333333333333,\n",
       " 4.995,\n",
       " 5.008,\n",
       " 5.003333333333333,\n",
       " 5.03,\n",
       " 4.962,\n",
       " 4.899,\n",
       " 5.007666666666666,\n",
       " 4.943333333333333,\n",
       " 5.011666666666667,\n",
       " 5.029333333333334,\n",
       " 4.98,\n",
       " 5.010666666666666,\n",
       " 4.98,\n",
       " 4.988333333333333,\n",
       " 4.995666666666667,\n",
       " 5.0103333333333335,\n",
       " 5.017666666666667,\n",
       " 4.992666666666667,\n",
       " 5.018,\n",
       " 4.975,\n",
       " 4.998666666666667,\n",
       " 4.987,\n",
       " 5.046,\n",
       " 4.972666666666667,\n",
       " 4.980333333333333,\n",
       " 4.977,\n",
       " 4.992,\n",
       " 4.964,\n",
       " 4.9736666666666665,\n",
       " 5.060666666666667,\n",
       " 5.001,\n",
       " 4.999666666666666,\n",
       " 5.025,\n",
       " 4.999333333333333,\n",
       " 4.965,\n",
       " 4.991666666666666,\n",
       " 5.007,\n",
       " 5.031,\n",
       " 5.011,\n",
       " 5.008,\n",
       " 4.9863333333333335,\n",
       " 4.973,\n",
       " 4.983666666666666,\n",
       " 4.994666666666666,\n",
       " 5.012666666666667,\n",
       " 4.978666666666666,\n",
       " 4.993333333333333,\n",
       " 4.995333333333333,\n",
       " 4.990333333333333,\n",
       " 5.015666666666666,\n",
       " 5.000666666666667,\n",
       " 4.977666666666667,\n",
       " 4.994666666666666,\n",
       " 4.966,\n",
       " 4.974,\n",
       " 4.980666666666667,\n",
       " 4.9703333333333335,\n",
       " 4.9816666666666665,\n",
       " 4.984,\n",
       " 4.9816666666666665,\n",
       " 4.954666666666666,\n",
       " 4.985333333333333,\n",
       " 4.937333333333333,\n",
       " 4.985,\n",
       " 5.056666666666667,\n",
       " 5.010666666666666,\n",
       " 4.981,\n",
       " 4.976666666666667,\n",
       " 4.983333333333333,\n",
       " 4.931666666666667,\n",
       " 5.012333333333333,\n",
       " 4.949333333333334,\n",
       " 4.974666666666667,\n",
       " 4.996333333333333,\n",
       " 5.006,\n",
       " 4.955666666666667,\n",
       " 5.014,\n",
       " 5.012666666666667,\n",
       " 4.971,\n",
       " 4.9976666666666665,\n",
       " 5.019,\n",
       " 5.014333333333333,\n",
       " 4.971,\n",
       " 5.0056666666666665,\n",
       " 5.027666666666667,\n",
       " 5.0263333333333335,\n",
       " 4.953666666666667,\n",
       " 4.991,\n",
       " 5.033666666666667,\n",
       " 5.027,\n",
       " 5.011666666666667,\n",
       " 4.983,\n",
       " 4.962,\n",
       " 4.9656666666666665,\n",
       " 4.993333333333333,\n",
       " 5.038,\n",
       " 4.993,\n",
       " 5.001,\n",
       " 4.956,\n",
       " 4.975666666666666,\n",
       " 5.021,\n",
       " 5.036333333333333,\n",
       " 4.981333333333334,\n",
       " 4.9463333333333335,\n",
       " 4.951333333333333,\n",
       " 5.0056666666666665,\n",
       " 4.9526666666666666,\n",
       " 4.974333333333333,\n",
       " 4.967333333333333,\n",
       " 4.958333333333333,\n",
       " 4.9863333333333335,\n",
       " 4.961333333333333,\n",
       " 4.981,\n",
       " 5.007333333333333,\n",
       " 4.962,\n",
       " 5.069333333333334,\n",
       " 5.022666666666667,\n",
       " 4.996,\n",
       " 5.012,\n",
       " 4.966333333333333,\n",
       " 5.012333333333333,\n",
       " 4.9976666666666665,\n",
       " 4.990666666666667,\n",
       " 4.984666666666667,\n",
       " 5.040333333333334,\n",
       " 5.005333333333334,\n",
       " 5.018,\n",
       " 4.983,\n",
       " 5.006666666666667,\n",
       " 4.981,\n",
       " 4.999333333333333,\n",
       " 4.957,\n",
       " 5.023,\n",
       " 4.975,\n",
       " 4.994666666666666,\n",
       " 4.9463333333333335,\n",
       " 5.010666666666666,\n",
       " 5.042666666666666,\n",
       " 4.9863333333333335,\n",
       " 5.014666666666667,\n",
       " 4.964333333333333,\n",
       " 5.057666666666667,\n",
       " 4.982333333333333,\n",
       " 4.991333333333333,\n",
       " 4.969,\n",
       " 5.001333333333333,\n",
       " 4.970666666666666,\n",
       " 5.023,\n",
       " 5.004666666666667,\n",
       " 4.984,\n",
       " 4.968333333333334,\n",
       " 5.025333333333333,\n",
       " 4.959,\n",
       " 5.021333333333334,\n",
       " 4.947666666666667,\n",
       " 4.956666666666667,\n",
       " 5.03,\n",
       " 5.023,\n",
       " 4.997333333333334,\n",
       " 4.980666666666667,\n",
       " 4.957,\n",
       " 5.008,\n",
       " 4.978666666666666,\n",
       " 4.9896666666666665,\n",
       " 4.975666666666666,\n",
       " 4.953666666666667,\n",
       " 4.963333333333333,\n",
       " 4.975,\n",
       " 5.023333333333333,\n",
       " 4.950333333333333,\n",
       " 4.933333333333334,\n",
       " 4.967333333333333,\n",
       " 5.007,\n",
       " 4.98,\n",
       " 5.070333333333333,\n",
       " 5.012,\n",
       " 4.996666666666667,\n",
       " 4.9816666666666665,\n",
       " 5.004333333333333,\n",
       " 5.0376666666666665,\n",
       " 4.956333333333333,\n",
       " 5.007333333333333,\n",
       " 5.019,\n",
       " 5.017666666666667,\n",
       " 4.974666666666667,\n",
       " 4.943666666666667,\n",
       " 4.992,\n",
       " 5.008333333333334,\n",
       " 4.958666666666667,\n",
       " 4.972,\n",
       " 5.016666666666667,\n",
       " 4.954,\n",
       " 4.994666666666666,\n",
       " 5.0536666666666665,\n",
       " 4.929333333333333,\n",
       " 4.931333333333333,\n",
       " 4.9943333333333335,\n",
       " 5.029333333333334,\n",
       " 5.032333333333334,\n",
       " 5.026666666666666,\n",
       " 4.996666666666667,\n",
       " 4.981,\n",
       " 5.0553333333333335,\n",
       " 4.996333333333333,\n",
       " 5.003666666666667,\n",
       " 4.991666666666666,\n",
       " 4.987,\n",
       " 4.993,\n",
       " 5.013,\n",
       " 4.987666666666667,\n",
       " 4.968,\n",
       " 4.960333333333334,\n",
       " 4.989,\n",
       " 4.999666666666666,\n",
       " 5.000666666666667,\n",
       " 5.0023333333333335,\n",
       " 4.961666666666667,\n",
       " 4.952333333333334,\n",
       " 4.993666666666667,\n",
       " 4.989,\n",
       " 4.95,\n",
       " 5.025,\n",
       " 4.974333333333333,\n",
       " 4.998333333333333,\n",
       " 4.908666666666667,\n",
       " 5.000666666666667,\n",
       " 5.025,\n",
       " 4.997333333333334,\n",
       " 4.968333333333334,\n",
       " 5.014666666666667,\n",
       " 4.975666666666666,\n",
       " 5.011666666666667,\n",
       " 4.976333333333334,\n",
       " 5.020333333333333,\n",
       " 4.966,\n",
       " 5.037333333333334,\n",
       " 4.979,\n",
       " 4.982666666666667,\n",
       " 5.004333333333333,\n",
       " 5.031,\n",
       " 5.003333333333333,\n",
       " 4.988,\n",
       " 4.949,\n",
       " 5.006666666666667,\n",
       " 5.044666666666667,\n",
       " 4.975333333333333,\n",
       " 4.972333333333333,\n",
       " 4.9896666666666665,\n",
       " 5.026666666666666,\n",
       " 4.959333333333333,\n",
       " 4.982666666666667,\n",
       " 4.987,\n",
       " 5.019,\n",
       " 4.967,\n",
       " 4.982333333333333,\n",
       " 5.006,\n",
       " 4.985,\n",
       " 4.96,\n",
       " 4.998333333333333,\n",
       " 5.002666666666666,\n",
       " 4.952,\n",
       " 5.013333333333334,\n",
       " 4.99,\n",
       " 4.981,\n",
       " 4.969666666666667,\n",
       " 5.038333333333333,\n",
       " 4.987,\n",
       " 5.013,\n",
       " 4.998333333333333,\n",
       " 5.007666666666666,\n",
       " 4.994666666666666,\n",
       " 4.988,\n",
       " 4.980333333333333,\n",
       " 5.019666666666667,\n",
       " 4.943666666666667,\n",
       " 5.013,\n",
       " 5.005333333333334,\n",
       " 5.01,\n",
       " 5.022,\n",
       " 5.0343333333333335,\n",
       " 5.023666666666666,\n",
       " 5.0103333333333335,\n",
       " 4.977333333333333,\n",
       " 4.972666666666667,\n",
       " 4.962,\n",
       " 5.017666666666667,\n",
       " 5.027333333333333,\n",
       " 5.009,\n",
       " 5.045333333333334,\n",
       " 4.956,\n",
       " 5.029333333333334,\n",
       " 5.000333333333334,\n",
       " 5.022666666666667,\n",
       " 4.9656666666666665,\n",
       " 5.008666666666667,\n",
       " 4.943,\n",
       " 4.967,\n",
       " 5.002,\n",
       " 4.971,\n",
       " 5.027333333333333,\n",
       " 4.993333333333333,\n",
       " 4.964666666666667,\n",
       " 5.009,\n",
       " 4.948,\n",
       " 5.025,\n",
       " 4.976333333333334,\n",
       " 4.95,\n",
       " 4.992333333333334,\n",
       " 4.991333333333333,\n",
       " 4.966,\n",
       " 4.988666666666667,\n",
       " 4.992,\n",
       " 4.980666666666667,\n",
       " 5.008666666666667,\n",
       " 4.998666666666667,\n",
       " 4.966333333333333,\n",
       " 4.978666666666666,\n",
       " 4.967,\n",
       " 4.992,\n",
       " 5.011,\n",
       " 4.9863333333333335,\n",
       " 5.019333333333333,\n",
       " 4.969666666666667,\n",
       " 5.007666666666666,\n",
       " 5.002,\n",
       " 4.972333333333333,\n",
       " 4.990333333333333,\n",
       " 4.97,\n",
       " 5.023,\n",
       " 5.011666666666667,\n",
       " 4.987333333333333,\n",
       " 5.014333333333333,\n",
       " 4.998666666666667,\n",
       " 4.994,\n",
       " 4.981,\n",
       " 4.979333333333333,\n",
       " 5.017,\n",
       " 4.948666666666667,\n",
       " 4.998333333333333,\n",
       " 4.986666666666666,\n",
       " 4.993333333333333,\n",
       " 4.998666666666667,\n",
       " 5.0056666666666665,\n",
       " 4.998333333333333,\n",
       " 5.044333333333333,\n",
       " 4.961666666666667,\n",
       " 5.039666666666666,\n",
       " 4.995333333333333,\n",
       " 4.9976666666666665,\n",
       " 5.043333333333333,\n",
       " 5.034666666666666,\n",
       " 4.995333333333333,\n",
       " 5.009666666666667,\n",
       " 4.969333333333333,\n",
       " 4.958333333333333,\n",
       " 4.982666666666667,\n",
       " 4.976666666666667,\n",
       " 5.024666666666667,\n",
       " 4.982333333333333,\n",
       " 4.954666666666666,\n",
       " 4.977,\n",
       " 5.021,\n",
       " 5.019,\n",
       " 4.987666666666667,\n",
       " 5.0296666666666665,\n",
       " 5.0296666666666665,\n",
       " 5.027,\n",
       " 4.948666666666667,\n",
       " 5.0056666666666665,\n",
       " 4.988666666666667,\n",
       " 5.019333333333333,\n",
       " 4.991,\n",
       " 4.95,\n",
       " 5.007666666666666,\n",
       " 5.029333333333334,\n",
       " 5.039333333333333,\n",
       " 5.006333333333333,\n",
       " 5.078333333333333,\n",
       " 4.998,\n",
       " 4.959,\n",
       " 5.052666666666667,\n",
       " 4.953333333333333,\n",
       " 4.985666666666667,\n",
       " 4.967,\n",
       " 5.002666666666666,\n",
       " 4.992333333333334,\n",
       " 5.003666666666667,\n",
       " 4.999666666666666,\n",
       " 4.974666666666667,\n",
       " 5.002666666666666,\n",
       " 4.987,\n",
       " 4.957666666666666,\n",
       " 4.986,\n",
       " 5.0136666666666665,\n",
       " 4.957,\n",
       " 4.959333333333333,\n",
       " 5.019,\n",
       " 5.004666666666667,\n",
       " 5.016333333333334,\n",
       " 4.987333333333333,\n",
       " 5.04,\n",
       " 5.0633333333333335,\n",
       " 4.981333333333334,\n",
       " 4.955,\n",
       " 4.903333333333333,\n",
       " 5.023,\n",
       " 4.987666666666667,\n",
       " 4.96,\n",
       " 4.941,\n",
       " 4.973,\n",
       " 5.0296666666666665,\n",
       " 4.979,\n",
       " 5.01,\n",
       " 5.050333333333334,\n",
       " 4.975333333333333,\n",
       " 4.996333333333333,\n",
       " 4.949333333333334,\n",
       " 4.941666666666666,\n",
       " 4.955333333333333,\n",
       " 4.969333333333333,\n",
       " 5.0473333333333334,\n",
       " 4.960333333333334,\n",
       " 4.936333333333334,\n",
       " 5.015333333333333,\n",
       " 4.957,\n",
       " 5.000333333333334]"
      ]
     },
     "execution_count": 31,
     "metadata": {},
     "output_type": "execute_result"
    }
   ],
   "source": [
    "sample_mean"
   ]
  },
  {
   "cell_type": "code",
   "execution_count": 32,
   "id": "b8980a42",
   "metadata": {},
   "outputs": [
    {
     "data": {
      "text/plain": [
       "<AxesSubplot:ylabel='Density'>"
      ]
     },
     "execution_count": 32,
     "metadata": {},
     "output_type": "execute_result"
    },
    {
     "data": {
      "image/png": "[encoded data removed]",
      "text/plain": [
       "<Figure size 432x288 with 1 Axes>"
      ]
     },
     "metadata": {
      "needs_background": "light"
     },
     "output_type": "display_data"
    }
   ],
   "source": [
    "sns.distplot(sample_mean)"
   ]
  },
  {
   "cell_type": "code",
   "execution_count": 33,
   "id": "faae2992",
   "metadata": {},
   "outputs": [],
   "source": [
    "sample_mean=[]\n",
    "for i in range(1,1001):\n",
    "    sample=np.random.choice(population_data,size=n)\n",
    "    sample_mean.append(np.mean(sample))"
   ]
  },
  {
   "cell_type": "code",
   "execution_count": 34,
   "id": "0543dcde",
   "metadata": {},
   "outputs": [
    {
     "data": {
      "text/plain": [
       "[4.911666666666667,\n",
       " 4.983333333333333,\n",
       " 4.958666666666667,\n",
       " 5.001333333333333,\n",
       " 4.960333333333334,\n",
       " 4.993333333333333,\n",
       " 4.970666666666666,\n",
       " 4.9736666666666665,\n",
       " 4.998333333333333,\n",
       " 4.974,\n",
       " 4.982666666666667,\n",
       " 4.9736666666666665,\n",
       " 4.9816666666666665,\n",
       " 4.986666666666666,\n",
       " 4.982,\n",
       " 5.041333333333333,\n",
       " 4.963333333333333,\n",
       " 5.025,\n",
       " 4.990333333333333,\n",
       " 4.931333333333333,\n",
       " 5.03,\n",
       " 4.994,\n",
       " 5.018,\n",
       " 5.018666666666666,\n",
       " 4.967,\n",
       " 5.063,\n",
       " 4.964333333333333,\n",
       " 4.975,\n",
       " 5.006333333333333,\n",
       " 4.948,\n",
       " 4.969,\n",
       " 5.051666666666667,\n",
       " 4.970666666666666,\n",
       " 4.989,\n",
       " 5.008333333333334,\n",
       " 4.99,\n",
       " 4.9623333333333335,\n",
       " 4.992666666666667,\n",
       " 4.983,\n",
       " 4.958333333333333,\n",
       " 4.991666666666666,\n",
       " 4.99,\n",
       " 5.017666666666667,\n",
       " 5.0296666666666665,\n",
       " 5.038,\n",
       " 5.034,\n",
       " 5.0263333333333335,\n",
       " 4.985333333333333,\n",
       " 5.017666666666667,\n",
       " 4.9463333333333335,\n",
       " 5.020666666666667,\n",
       " 4.989,\n",
       " 5.006333333333333,\n",
       " 5.004333333333333,\n",
       " 4.947,\n",
       " 5.005333333333334,\n",
       " 5.014,\n",
       " 4.997333333333334,\n",
       " 4.951666666666667,\n",
       " 4.993,\n",
       " 4.988,\n",
       " 5.000666666666667,\n",
       " 5.009666666666667,\n",
       " 4.956,\n",
       " 5.050666666666666,\n",
       " 4.995333333333333,\n",
       " 5.024,\n",
       " 4.995,\n",
       " 5.002666666666666,\n",
       " 5.015,\n",
       " 5.023333333333333,\n",
       " 4.995333333333333,\n",
       " 5.0616666666666665,\n",
       " 5.001666666666667,\n",
       " 5.000666666666667,\n",
       " 4.963333333333333,\n",
       " 4.975333333333333,\n",
       " 4.9783333333333335,\n",
       " 4.971,\n",
       " 4.959666666666666,\n",
       " 5.001666666666667,\n",
       " 5.012333333333333,\n",
       " 5.026666666666666,\n",
       " 4.9656666666666665,\n",
       " 4.989,\n",
       " 5.04,\n",
       " 5.009333333333333,\n",
       " 4.987333333333333,\n",
       " 4.979333333333333,\n",
       " 4.950666666666667,\n",
       " 5.015666666666666,\n",
       " 4.987666666666667,\n",
       " 4.979333333333333,\n",
       " 4.995333333333333,\n",
       " 4.999333333333333,\n",
       " 4.949333333333334,\n",
       " 4.979,\n",
       " 5.003,\n",
       " 4.964,\n",
       " 4.983666666666666,\n",
       " 5.032,\n",
       " 4.949666666666666,\n",
       " 4.971666666666667,\n",
       " 4.933,\n",
       " 5.000666666666667,\n",
       " 4.958,\n",
       " 4.986666666666666,\n",
       " 4.957666666666666,\n",
       " 4.996,\n",
       " 5.012,\n",
       " 4.973333333333334,\n",
       " 4.990333333333333,\n",
       " 4.983666666666666,\n",
       " 5.011333333333333,\n",
       " 4.9623333333333335,\n",
       " 5.013333333333334,\n",
       " 4.979,\n",
       " 5.014,\n",
       " 5.025,\n",
       " 5.014666666666667,\n",
       " 4.988666666666667,\n",
       " 5.033333333333333,\n",
       " 5.024,\n",
       " 5.024666666666667,\n",
       " 5.019,\n",
       " 4.975666666666666,\n",
       " 4.983,\n",
       " 4.991666666666666,\n",
       " 4.975333333333333,\n",
       " 4.984666666666667,\n",
       " 5.017,\n",
       " 5.006666666666667,\n",
       " 4.986,\n",
       " 4.977,\n",
       " 4.939,\n",
       " 5.01,\n",
       " 4.993333333333333,\n",
       " 5.017333333333333,\n",
       " 5.0023333333333335,\n",
       " 5.044,\n",
       " 5.003,\n",
       " 5.038333333333333,\n",
       " 4.9366666666666665,\n",
       " 4.939333333333333,\n",
       " 4.995666666666667,\n",
       " 5.029333333333334,\n",
       " 5.035666666666667,\n",
       " 5.009,\n",
       " 5.014666666666667,\n",
       " 5.005,\n",
       " 4.980333333333333,\n",
       " 5.009333333333333,\n",
       " 5.009666666666667,\n",
       " 4.984333333333334,\n",
       " 4.980333333333333,\n",
       " 4.944333333333334,\n",
       " 4.975666666666666,\n",
       " 5.008666666666667,\n",
       " 5.004333333333333,\n",
       " 4.997,\n",
       " 4.951,\n",
       " 5.01,\n",
       " 4.922666666666666,\n",
       " 4.991,\n",
       " 4.9703333333333335,\n",
       " 4.988333333333333,\n",
       " 5.001666666666667,\n",
       " 4.964333333333333,\n",
       " 5.055666666666666,\n",
       " 4.995666666666667,\n",
       " 5.042666666666666,\n",
       " 5.0023333333333335,\n",
       " 4.946,\n",
       " 4.986666666666666,\n",
       " 4.972333333333333,\n",
       " 4.957666666666666,\n",
       " 4.990666666666667,\n",
       " 5.068666666666667,\n",
       " 4.976,\n",
       " 4.951333333333333,\n",
       " 5.028,\n",
       " 4.999666666666666,\n",
       " 4.968,\n",
       " 4.969,\n",
       " 4.996333333333333,\n",
       " 5.025333333333333,\n",
       " 5.005333333333334,\n",
       " 4.997,\n",
       " 4.977333333333333,\n",
       " 5.014666666666667,\n",
       " 4.946666666666666,\n",
       " 4.986666666666666,\n",
       " 4.988333333333333,\n",
       " 5.0136666666666665,\n",
       " 4.993,\n",
       " 4.949666666666666,\n",
       " 4.955666666666667,\n",
       " 5.023,\n",
       " 4.999,\n",
       " 5.003666666666667,\n",
       " 4.961,\n",
       " 4.980333333333333,\n",
       " 4.950666666666667,\n",
       " 5.012333333333333,\n",
       " 5.019333333333333,\n",
       " 4.967666666666666,\n",
       " 5.0,\n",
       " 4.992666666666667,\n",
       " 4.961666666666667,\n",
       " 4.9976666666666665,\n",
       " 4.986,\n",
       " 4.987333333333333,\n",
       " 4.996,\n",
       " 5.049333333333333,\n",
       " 5.019666666666667,\n",
       " 5.021,\n",
       " 4.9703333333333335,\n",
       " 4.966333333333333,\n",
       " 5.005,\n",
       " 5.008,\n",
       " 5.038666666666667,\n",
       " 5.022333333333333,\n",
       " 4.952,\n",
       " 4.993333333333333,\n",
       " 5.002666666666666,\n",
       " 5.030333333333333,\n",
       " 4.992,\n",
       " 5.0023333333333335,\n",
       " 4.988,\n",
       " 4.937333333333333,\n",
       " 5.026666666666666,\n",
       " 4.942333333333333,\n",
       " 4.994,\n",
       " 4.994,\n",
       " 4.995,\n",
       " 4.961333333333333,\n",
       " 4.977333333333333,\n",
       " 5.03,\n",
       " 5.027333333333333,\n",
       " 5.014333333333333,\n",
       " 5.022666666666667,\n",
       " 4.959,\n",
       " 5.0,\n",
       " 5.024,\n",
       " 5.014666666666667,\n",
       " 5.057333333333333,\n",
       " 5.036,\n",
       " 5.0216666666666665,\n",
       " 5.022,\n",
       " 5.016666666666667,\n",
       " 4.994666666666666,\n",
       " 5.020333333333333,\n",
       " 4.969666666666667,\n",
       " 5.000333333333334,\n",
       " 4.993666666666667,\n",
       " 4.9943333333333335,\n",
       " 5.048333333333333,\n",
       " 4.989,\n",
       " 5.037,\n",
       " 5.0103333333333335,\n",
       " 5.041666666666667,\n",
       " 4.947,\n",
       " 4.979,\n",
       " 4.980666666666667,\n",
       " 4.9303333333333335,\n",
       " 4.957666666666666,\n",
       " 4.976666666666667,\n",
       " 4.987,\n",
       " 5.004,\n",
       " 5.003666666666667,\n",
       " 5.015,\n",
       " 5.017333333333333,\n",
       " 4.965333333333334,\n",
       " 4.977,\n",
       " 5.004333333333333,\n",
       " 4.983333333333333,\n",
       " 4.975666666666666,\n",
       " 4.994666666666666,\n",
       " 5.020333333333333,\n",
       " 4.965333333333334,\n",
       " 4.954,\n",
       " 5.019666666666667,\n",
       " 5.023666666666666,\n",
       " 4.985333333333333,\n",
       " 5.043,\n",
       " 4.998333333333333,\n",
       " 4.987,\n",
       " 4.999,\n",
       " 4.958,\n",
       " 5.007333333333333,\n",
       " 4.9543333333333335,\n",
       " 5.013333333333334,\n",
       " 4.988666666666667,\n",
       " 4.943,\n",
       " 4.987666666666667,\n",
       " 5.002666666666666,\n",
       " 4.981,\n",
       " 5.015,\n",
       " 4.966666666666667,\n",
       " 5.026,\n",
       " 4.968,\n",
       " 4.976,\n",
       " 4.993,\n",
       " 4.963666666666667,\n",
       " 4.995666666666667,\n",
       " 4.965333333333334,\n",
       " 5.028,\n",
       " 4.967666666666666,\n",
       " 4.996,\n",
       " 4.995333333333333,\n",
       " 5.035,\n",
       " 4.987,\n",
       " 5.015,\n",
       " 5.0263333333333335,\n",
       " 5.0103333333333335,\n",
       " 5.010666666666666,\n",
       " 5.031666666666666,\n",
       " 4.993666666666667,\n",
       " 4.987666666666667,\n",
       " 5.003333333333333,\n",
       " 5.008666666666667,\n",
       " 4.993333333333333,\n",
       " 4.963,\n",
       " 5.011666666666667,\n",
       " 5.005333333333334,\n",
       " 5.008333333333334,\n",
       " 4.9896666666666665,\n",
       " 5.001,\n",
       " 5.04,\n",
       " 5.009333333333333,\n",
       " 4.992,\n",
       " 5.001333333333333,\n",
       " 4.995666666666667,\n",
       " 4.990333333333333,\n",
       " 4.961666666666667,\n",
       " 4.977666666666667,\n",
       " 4.9383333333333335,\n",
       " 5.030666666666667,\n",
       " 5.028333333333333,\n",
       " 5.006333333333333,\n",
       " 4.965333333333334,\n",
       " 4.987,\n",
       " 5.011,\n",
       " 4.966,\n",
       " 5.0056666666666665,\n",
       " 4.980666666666667,\n",
       " 5.003333333333333,\n",
       " 5.033333333333333,\n",
       " 4.982,\n",
       " 5.010666666666666,\n",
       " 5.023333333333333,\n",
       " 5.011,\n",
       " 4.992333333333334,\n",
       " 4.988333333333333,\n",
       " 4.993,\n",
       " 4.977333333333333,\n",
       " 5.014333333333333,\n",
       " 4.988666666666667,\n",
       " 4.984666666666667,\n",
       " 5.028,\n",
       " 5.014,\n",
       " 4.999666666666666,\n",
       " 4.978666666666666,\n",
       " 4.958333333333333,\n",
       " 5.019666666666667,\n",
       " 4.967,\n",
       " 5.011333333333333,\n",
       " 4.958,\n",
       " 4.967666666666666,\n",
       " 4.9943333333333335,\n",
       " 5.033,\n",
       " 4.975333333333333,\n",
       " 4.956,\n",
       " 5.0136666666666665,\n",
       " 4.966666666666667,\n",
       " 4.987666666666667,\n",
       " 5.003,\n",
       " 4.969666666666667,\n",
       " 4.984333333333334,\n",
       " 4.966,\n",
       " 5.017,\n",
       " 4.969333333333333,\n",
       " 4.998666666666667,\n",
       " 4.987666666666667,\n",
       " 5.031,\n",
       " 4.992333333333334,\n",
       " 5.043,\n",
       " 5.008333333333334,\n",
       " 4.974333333333333,\n",
       " 5.008333333333334,\n",
       " 4.982666666666667,\n",
       " 5.000333333333334,\n",
       " 4.983,\n",
       " 5.038,\n",
       " 4.942666666666667,\n",
       " 4.983333333333333,\n",
       " 4.9783333333333335,\n",
       " 4.989333333333334,\n",
       " 4.952,\n",
       " 5.030333333333333,\n",
       " 4.960333333333334,\n",
       " 4.98,\n",
       " 4.992666666666667,\n",
       " 4.994,\n",
       " 4.947333333333333,\n",
       " 5.059333333333333,\n",
       " 4.964333333333333,\n",
       " 4.942333333333333,\n",
       " 4.996666666666667,\n",
       " 5.034666666666666,\n",
       " 4.999333333333333,\n",
       " 5.042333333333334,\n",
       " 5.003333333333333,\n",
       " 5.039,\n",
       " 4.982,\n",
       " 4.994666666666666,\n",
       " 4.992666666666667,\n",
       " 4.99,\n",
       " 4.972,\n",
       " 5.005,\n",
       " 4.989,\n",
       " 5.02,\n",
       " 4.9223333333333334,\n",
       " 5.0456666666666665,\n",
       " 4.920333333333334,\n",
       " 4.999666666666666,\n",
       " 4.989,\n",
       " 4.987333333333333,\n",
       " 4.977333333333333,\n",
       " 4.989333333333334,\n",
       " 5.05,\n",
       " 4.951333333333333,\n",
       " 5.0343333333333335,\n",
       " 5.033,\n",
       " 5.007333333333333,\n",
       " 4.976,\n",
       " 4.969666666666667,\n",
       " 4.9816666666666665,\n",
       " 5.002,\n",
       " 5.059,\n",
       " 4.9783333333333335,\n",
       " 5.016,\n",
       " 4.979666666666667,\n",
       " 4.994666666666666,\n",
       " 4.992666666666667,\n",
       " 4.968,\n",
       " 4.985666666666667,\n",
       " 5.001,\n",
       " 5.022333333333333,\n",
       " 4.976,\n",
       " 5.019666666666667,\n",
       " 5.039333333333333,\n",
       " 4.944,\n",
       " 4.991333333333333,\n",
       " 4.998333333333333,\n",
       " 4.983333333333333,\n",
       " 4.977,\n",
       " 4.964333333333333,\n",
       " 5.018666666666666,\n",
       " 4.986,\n",
       " 5.033666666666667,\n",
       " 4.953666666666667,\n",
       " 5.024333333333334,\n",
       " 5.04,\n",
       " 4.9463333333333335,\n",
       " 4.979333333333333,\n",
       " 5.0023333333333335,\n",
       " 5.020666666666667,\n",
       " 4.984333333333334,\n",
       " 4.935333333333333,\n",
       " 4.961333333333333,\n",
       " 5.023666666666666,\n",
       " 5.057666666666667,\n",
       " 5.009,\n",
       " 4.949,\n",
       " 4.981333333333334,\n",
       " 4.996333333333333,\n",
       " 4.977666666666667,\n",
       " 5.001333333333333,\n",
       " 4.977333333333333,\n",
       " 4.985333333333333,\n",
       " 5.029,\n",
       " 4.960333333333334,\n",
       " 5.029,\n",
       " 4.961333333333333,\n",
       " 4.954666666666666,\n",
       " 5.029333333333334,\n",
       " 5.012333333333333,\n",
       " 5.016666666666667,\n",
       " 4.965,\n",
       " 5.016666666666667,\n",
       " 4.972333333333333,\n",
       " 5.064666666666667,\n",
       " 5.004333333333333,\n",
       " 4.971,\n",
       " 5.006,\n",
       " 4.974666666666667,\n",
       " 5.040666666666667,\n",
       " 5.011,\n",
       " 4.999666666666666,\n",
       " 4.978666666666666,\n",
       " 4.957333333333334,\n",
       " 4.983666666666666,\n",
       " 4.983333333333333,\n",
       " 4.9943333333333335,\n",
       " 5.061333333333334,\n",
       " 5.009,\n",
       " 4.984333333333334,\n",
       " 5.002666666666666,\n",
       " 5.0263333333333335,\n",
       " 4.968333333333334,\n",
       " 4.994666666666666,\n",
       " 4.924333333333333,\n",
       " 4.997333333333334,\n",
       " 4.979666666666667,\n",
       " 4.995333333333333,\n",
       " 4.9816666666666665,\n",
       " 4.985,\n",
       " 4.999333333333333,\n",
       " 5.024,\n",
       " 4.961333333333333,\n",
       " 4.975,\n",
       " 4.992,\n",
       " 4.999666666666666,\n",
       " 4.955333333333333,\n",
       " 4.967333333333333,\n",
       " 4.9656666666666665,\n",
       " 4.985,\n",
       " 5.013333333333334,\n",
       " 5.029333333333334,\n",
       " 5.019,\n",
       " 5.002666666666666,\n",
       " 4.9446666666666665,\n",
       " 4.957,\n",
       " 5.004666666666667,\n",
       " 5.028,\n",
       " 4.984333333333334,\n",
       " 4.935666666666667,\n",
       " 5.0553333333333335,\n",
       " 4.985666666666667,\n",
       " 4.991333333333333,\n",
       " 4.971,\n",
       " 4.994666666666666,\n",
       " 4.961,\n",
       " 4.9656666666666665,\n",
       " 5.0343333333333335,\n",
       " 4.943666666666667,\n",
       " 4.993,\n",
       " 4.984666666666667,\n",
       " 5.040333333333334,\n",
       " 4.983,\n",
       " 4.987,\n",
       " 5.008,\n",
       " 4.976,\n",
       " 4.956666666666667,\n",
       " 4.962666666666666,\n",
       " 4.981333333333334,\n",
       " 4.956,\n",
       " 5.038333333333333,\n",
       " 5.001333333333333,\n",
       " 4.974333333333333,\n",
       " 4.97,\n",
       " 4.991666666666666,\n",
       " 5.004,\n",
       " 5.017666666666667,\n",
       " 5.009666666666667,\n",
       " 4.973333333333334,\n",
       " 5.0183333333333335,\n",
       " 5.0263333333333335,\n",
       " 4.967333333333333,\n",
       " 5.024666666666667,\n",
       " 5.006333333333333,\n",
       " 5.010666666666666,\n",
       " 4.95,\n",
       " 4.971666666666667,\n",
       " 4.998666666666667,\n",
       " 4.962,\n",
       " 5.020666666666667,\n",
       " 4.948,\n",
       " 5.004666666666667,\n",
       " 4.957333333333334,\n",
       " 4.976333333333334,\n",
       " 5.032666666666667,\n",
       " 4.997333333333334,\n",
       " 5.01,\n",
       " 4.990666666666667,\n",
       " 4.968666666666667,\n",
       " 4.996666666666667,\n",
       " 4.993666666666667,\n",
       " 5.001,\n",
       " 4.923,\n",
       " 5.015,\n",
       " 4.971333333333333,\n",
       " 4.956333333333333,\n",
       " 4.983666666666666,\n",
       " 4.995,\n",
       " 5.018,\n",
       " 4.976,\n",
       " 4.982333333333333,\n",
       " 5.01,\n",
       " 5.0136666666666665,\n",
       " 5.039333333333333,\n",
       " 5.035,\n",
       " 4.912333333333334,\n",
       " 4.966333333333333,\n",
       " 5.015,\n",
       " 4.993333333333333,\n",
       " 5.019666666666667,\n",
       " 4.999,\n",
       " 4.976333333333334,\n",
       " 5.041666666666667,\n",
       " 4.966,\n",
       " 4.9896666666666665,\n",
       " 5.014333333333333,\n",
       " 4.979333333333333,\n",
       " 4.982,\n",
       " 5.002,\n",
       " 4.972666666666667,\n",
       " 5.017666666666667,\n",
       " 5.04,\n",
       " 5.019333333333333,\n",
       " 4.988666666666667,\n",
       " 5.018,\n",
       " 4.960666666666667,\n",
       " 4.955333333333333,\n",
       " 5.0183333333333335,\n",
       " 5.042333333333334,\n",
       " 4.996666666666667,\n",
       " 5.014666666666667,\n",
       " 5.021,\n",
       " 5.052666666666667,\n",
       " 5.007333333333333,\n",
       " 4.988666666666667,\n",
       " 4.980333333333333,\n",
       " 5.024666666666667,\n",
       " 5.016666666666667,\n",
       " 4.976,\n",
       " 4.975333333333333,\n",
       " 5.018666666666666,\n",
       " 5.002,\n",
       " 4.989,\n",
       " 4.9703333333333335,\n",
       " 5.012,\n",
       " 5.037333333333334,\n",
       " 4.973,\n",
       " 5.000333333333334,\n",
       " 4.993333333333333,\n",
       " 5.027,\n",
       " 4.997333333333334,\n",
       " 5.028,\n",
       " 5.005333333333334,\n",
       " 5.017666666666667,\n",
       " 5.016,\n",
       " 5.009,\n",
       " 4.98,\n",
       " 4.972333333333333,\n",
       " 4.990666666666667,\n",
       " 4.946,\n",
       " 5.009666666666667,\n",
       " 4.970666666666666,\n",
       " 5.039,\n",
       " 5.022333333333333,\n",
       " 4.96,\n",
       " 4.964,\n",
       " 5.039666666666666,\n",
       " 4.99,\n",
       " 5.0216666666666665,\n",
       " 5.012333333333333,\n",
       " 4.951,\n",
       " 5.009666666666667,\n",
       " 4.980333333333333,\n",
       " 5.022333333333333,\n",
       " 4.984333333333334,\n",
       " 5.002,\n",
       " 5.052333333333333,\n",
       " 5.001333333333333,\n",
       " 4.984333333333334,\n",
       " 4.982666666666667,\n",
       " 4.981333333333334,\n",
       " 4.956666666666667,\n",
       " 5.014333333333333,\n",
       " 4.959666666666666,\n",
       " 4.988,\n",
       " 5.0023333333333335,\n",
       " 4.994,\n",
       " 5.018666666666666,\n",
       " 4.973333333333334,\n",
       " 5.021333333333334,\n",
       " 5.050666666666666,\n",
       " 5.063,\n",
       " 4.987333333333333,\n",
       " 4.985666666666667,\n",
       " 4.976,\n",
       " 4.999333333333333,\n",
       " 5.012,\n",
       " 4.982666666666667,\n",
       " 4.998,\n",
       " 5.01,\n",
       " 4.987,\n",
       " 4.943333333333333,\n",
       " 5.038333333333333,\n",
       " 4.996333333333333,\n",
       " 4.953666666666667,\n",
       " 4.9943333333333335,\n",
       " 4.998,\n",
       " 5.01,\n",
       " 5.005333333333334,\n",
       " 5.017,\n",
       " 4.984,\n",
       " 5.047666666666666,\n",
       " 4.990333333333333,\n",
       " 4.988,\n",
       " 5.04,\n",
       " 5.036,\n",
       " 4.953666666666667,\n",
       " 5.000333333333334,\n",
       " 4.993666666666667,\n",
       " 4.978,\n",
       " 4.993,\n",
       " 4.991666666666666,\n",
       " 5.004666666666667,\n",
       " 4.9896666666666665,\n",
       " 4.961333333333333,\n",
       " 4.955333333333333,\n",
       " 5.005,\n",
       " 4.954666666666666,\n",
       " 5.017,\n",
       " 5.0343333333333335,\n",
       " 4.969,\n",
       " 4.999666666666666,\n",
       " 4.9783333333333335,\n",
       " 4.966333333333333,\n",
       " 5.000333333333334,\n",
       " 5.01,\n",
       " 4.966333333333333,\n",
       " 4.983333333333333,\n",
       " 4.984,\n",
       " 5.0696666666666665,\n",
       " 4.987666666666667,\n",
       " 4.992666666666667,\n",
       " 5.009333333333333,\n",
       " 4.998333333333333,\n",
       " 4.966666666666667,\n",
       " 5.002666666666666,\n",
       " 5.006333333333333,\n",
       " 4.999333333333333,\n",
       " 4.963,\n",
       " 5.027333333333333,\n",
       " 4.967333333333333,\n",
       " 4.991,\n",
       " 4.937666666666667,\n",
       " 4.971,\n",
       " 4.9366666666666665,\n",
       " 5.004333333333333,\n",
       " 4.963666666666667,\n",
       " 5.015666666666666,\n",
       " 5.011666666666667,\n",
       " 4.971,\n",
       " 4.984333333333334,\n",
       " 5.019333333333333,\n",
       " 5.0343333333333335,\n",
       " 4.97,\n",
       " 4.978666666666666,\n",
       " 5.01,\n",
       " 5.056333333333333,\n",
       " 4.979,\n",
       " 5.009333333333333,\n",
       " 5.068666666666667,\n",
       " 4.974333333333333,\n",
       " 4.970666666666666,\n",
       " 5.020666666666667,\n",
       " 5.002,\n",
       " 4.995666666666667,\n",
       " 4.995333333333333,\n",
       " 5.023333333333333,\n",
       " 4.989,\n",
       " 5.044666666666667,\n",
       " 4.956666666666667,\n",
       " 4.997333333333334,\n",
       " 5.073666666666667,\n",
       " 5.0056666666666665,\n",
       " 5.048,\n",
       " 5.007333333333333,\n",
       " 5.023666666666666,\n",
       " 5.005333333333334,\n",
       " 5.042,\n",
       " 4.996333333333333,\n",
       " 4.981,\n",
       " 4.977666666666667,\n",
       " 4.990666666666667,\n",
       " 4.984,\n",
       " 4.984333333333334,\n",
       " 4.975333333333333,\n",
       " 5.0,\n",
       " 5.070333333333333,\n",
       " 5.0376666666666665,\n",
       " 5.0376666666666665,\n",
       " 4.976333333333334,\n",
       " 4.993666666666667,\n",
       " 5.030666666666667,\n",
       " 5.0473333333333334,\n",
       " 5.003,\n",
       " 4.998666666666667,\n",
       " 5.015,\n",
       " 5.004333333333333,\n",
       " 4.998,\n",
       " 4.997333333333334,\n",
       " 5.022,\n",
       " 5.006333333333333,\n",
       " 4.959,\n",
       " 5.014333333333333,\n",
       " 5.001,\n",
       " 4.937,\n",
       " 4.9623333333333335,\n",
       " 4.978,\n",
       " 5.033,\n",
       " 5.0023333333333335,\n",
       " 5.001333333333333,\n",
       " 4.977333333333333,\n",
       " 4.964333333333333,\n",
       " 4.971333333333333,\n",
       " 5.004333333333333,\n",
       " 5.013,\n",
       " 5.001,\n",
       " 5.0136666666666665,\n",
       " 4.981,\n",
       " 5.003,\n",
       " 4.997,\n",
       " 5.003666666666667,\n",
       " 5.006333333333333,\n",
       " 4.948333333333333,\n",
       " 5.038,\n",
       " 4.984333333333334,\n",
       " 5.011,\n",
       " 4.981333333333334,\n",
       " 4.934333333333333,\n",
       " 4.996333333333333,\n",
       " 4.986,\n",
       " 4.996666666666667,\n",
       " 4.962666666666666,\n",
       " 5.015,\n",
       " 4.969,\n",
       " 4.998333333333333,\n",
       " 4.949,\n",
       " 4.986,\n",
       " 4.957,\n",
       " 4.9896666666666665,\n",
       " 4.983666666666666,\n",
       " 5.0103333333333335,\n",
       " 5.022333333333333,\n",
       " 5.0296666666666665,\n",
       " 4.984,\n",
       " 5.030666666666667,\n",
       " 4.998666666666667,\n",
       " 4.961,\n",
       " 5.072666666666667,\n",
       " 4.9543333333333335,\n",
       " 5.01,\n",
       " 5.0296666666666665,\n",
       " 5.0216666666666665,\n",
       " 4.987,\n",
       " 4.993333333333333,\n",
       " 5.006,\n",
       " 5.000333333333334,\n",
       " 4.9736666666666665,\n",
       " 4.990666666666667,\n",
       " 5.039666666666666,\n",
       " 4.94,\n",
       " 5.000666666666667,\n",
       " 5.0343333333333335,\n",
       " 4.947333333333333,\n",
       " 4.993666666666667,\n",
       " 5.0263333333333335,\n",
       " 4.953333333333333,\n",
       " 5.0,\n",
       " 4.968,\n",
       " 4.922,\n",
       " 5.023,\n",
       " 4.969666666666667,\n",
       " 4.984333333333334,\n",
       " 5.078333333333333,\n",
       " 4.976,\n",
       " 5.043666666666667,\n",
       " 4.961333333333333,\n",
       " 5.017666666666667,\n",
       " 5.032666666666667,\n",
       " 5.012666666666667,\n",
       " 5.052,\n",
       " 5.01,\n",
       " 5.017,\n",
       " 4.997333333333334,\n",
       " 5.006333333333333,\n",
       " 4.917,\n",
       " 4.997333333333334,\n",
       " 4.970666666666666,\n",
       " 5.032333333333334,\n",
       " 5.031333333333333,\n",
       " 4.941666666666666,\n",
       " 5.009666666666667,\n",
       " 5.006333333333333,\n",
       " 4.997333333333334,\n",
       " 4.986666666666666,\n",
       " 4.955,\n",
       " 4.993666666666667,\n",
       " 4.983333333333333,\n",
       " 5.038,\n",
       " 4.969333333333333,\n",
       " 4.999,\n",
       " 4.988666666666667,\n",
       " 4.977,\n",
       " 5.01,\n",
       " 4.992,\n",
       " 5.019,\n",
       " 4.998666666666667,\n",
       " 5.039333333333333,\n",
       " 5.033666666666667,\n",
       " 4.9863333333333335,\n",
       " 4.993333333333333,\n",
       " 4.963333333333333,\n",
       " 4.989333333333334,\n",
       " 4.961333333333333,\n",
       " 5.017666666666667,\n",
       " 5.0136666666666665,\n",
       " 5.001333333333333,\n",
       " 4.976666666666667,\n",
       " 4.992666666666667,\n",
       " 5.008666666666667,\n",
       " 5.007666666666666,\n",
       " 4.993333333333333,\n",
       " 4.983666666666666,\n",
       " 5.007,\n",
       " 5.056333333333333,\n",
       " 5.03,\n",
       " 4.993333333333333,\n",
       " 4.988,\n",
       " 4.96,\n",
       " 4.9623333333333335,\n",
       " 4.979333333333333,\n",
       " 4.974,\n",
       " 5.011,\n",
       " 4.964,\n",
       " 4.955333333333333,\n",
       " 5.012666666666667,\n",
       " 5.037333333333334,\n",
       " 5.014666666666667,\n",
       " 5.02,\n",
       " 4.969666666666667,\n",
       " 5.0216666666666665,\n",
       " 4.998666666666667,\n",
       " 5.008333333333334,\n",
       " 4.987666666666667,\n",
       " 5.004,\n",
       " 4.995666666666667,\n",
       " 5.014666666666667,\n",
       " 4.976,\n",
       " 4.969,\n",
       " 5.0,\n",
       " 4.974333333333333,\n",
       " 4.976,\n",
       " 4.986,\n",
       " 5.019,\n",
       " 5.031666666666666,\n",
       " 5.003666666666667,\n",
       " 5.032666666666667,\n",
       " 4.987333333333333,\n",
       " 5.019,\n",
       " 5.002666666666666,\n",
       " 4.953666666666667,\n",
       " 4.995333333333333,\n",
       " 5.001666666666667,\n",
       " 5.016333333333334,\n",
       " 4.965333333333334,\n",
       " 4.975666666666666,\n",
       " 4.965333333333334,\n",
       " 5.001666666666667,\n",
       " 4.969,\n",
       " 5.021,\n",
       " 5.029333333333334,\n",
       " 5.008333333333334,\n",
       " 4.982,\n",
       " 4.959333333333333,\n",
       " 4.987,\n",
       " 4.9816666666666665,\n",
       " 4.948333333333333,\n",
       " 4.993666666666667,\n",
       " 5.007333333333333,\n",
       " 5.027666666666667,\n",
       " 5.008,\n",
       " 5.0056666666666665,\n",
       " 4.931,\n",
       " 5.039333333333333,\n",
       " 4.996,\n",
       " 4.949666666666666,\n",
       " 4.974333333333333,\n",
       " 4.984666666666667,\n",
       " 4.999666666666666,\n",
       " 4.993666666666667,\n",
       " 4.998333333333333,\n",
       " 5.017,\n",
       " 5.027666666666667]"
      ]
     },
     "execution_count": 34,
     "metadata": {},
     "output_type": "execute_result"
    }
   ],
   "source": [
    "sample_mean"
   ]
  },
  {
   "cell_type": "code",
   "execution_count": 35,
   "id": "374c6cb4",
   "metadata": {},
   "outputs": [
    {
     "data": {
      "text/plain": [
       "<AxesSubplot:ylabel='Density'>"
      ]
     },
     "execution_count": 35,
     "metadata": {},
     "output_type": "execute_result"
    },
    {
     "data": {
      "image/png": "[encoded data removed]",
      "text/plain": [
       "<Figure size 432x288 with 1 Axes>"
      ]
     },
     "metadata": {
      "needs_background": "light"
     },
     "output_type": "display_data"
    }
   ],
   "source": [
    "sns.distplot(sample_mean)"
   ]
  },
  {
   "cell_type": "code",
   "execution_count": 36,
   "id": "55ada0c7",
   "metadata": {},
   "outputs": [],
   "source": [
    "sample_mean=[]\n",
    "for i in range(1,2001):\n",
    "    sample=np.random.choice(population_data,size=n)\n",
    "    sample_mean.append(np.mean(sample))"
   ]
  },
  {
   "cell_type": "code",
   "execution_count": 37,
   "id": "d05e4d6e",
   "metadata": {},
   "outputs": [
    {
     "data": {
      "text/plain": [
       "[4.994666666666666,\n",
       " 4.990666666666667,\n",
       " 5.014666666666667,\n",
       " 4.979,\n",
       " 5.003333333333333,\n",
       " 4.929333333333333,\n",
       " 5.048333333333333,\n",
       " 5.004666666666667,\n",
       " 5.005,\n",
       " 4.969,\n",
       " 5.027,\n",
       " 5.006333333333333,\n",
       " 4.987,\n",
       " 4.995666666666667,\n",
       " 4.9816666666666665,\n",
       " 5.004333333333333,\n",
       " 4.968333333333334,\n",
       " 4.935,\n",
       " 5.01,\n",
       " 4.974,\n",
       " 5.007666666666666,\n",
       " 4.993666666666667,\n",
       " 4.988666666666667,\n",
       " 5.011333333333333,\n",
       " 5.014666666666667,\n",
       " 4.948333333333333,\n",
       " 5.015333333333333,\n",
       " 4.939666666666667,\n",
       " 5.001666666666667,\n",
       " 5.016666666666667,\n",
       " 4.986666666666666,\n",
       " 4.984666666666667,\n",
       " 4.984333333333334,\n",
       " 4.9976666666666665,\n",
       " 5.018,\n",
       " 4.985333333333333,\n",
       " 4.982,\n",
       " 5.003666666666667,\n",
       " 4.995,\n",
       " 4.999,\n",
       " 4.993333333333333,\n",
       " 5.018666666666666,\n",
       " 5.024333333333334,\n",
       " 4.9816666666666665,\n",
       " 5.006666666666667,\n",
       " 4.988333333333333,\n",
       " 4.976333333333334,\n",
       " 4.991,\n",
       " 5.021333333333334,\n",
       " 4.975666666666666,\n",
       " 4.922666666666666,\n",
       " 4.9383333333333335,\n",
       " 4.991,\n",
       " 4.97,\n",
       " 5.025,\n",
       " 4.958,\n",
       " 5.0183333333333335,\n",
       " 5.024333333333334,\n",
       " 5.022666666666667,\n",
       " 5.002666666666666,\n",
       " 4.9463333333333335,\n",
       " 4.975666666666666,\n",
       " 4.987,\n",
       " 5.025,\n",
       " 4.9896666666666665,\n",
       " 4.9976666666666665,\n",
       " 4.998,\n",
       " 5.036,\n",
       " 4.955333333333333,\n",
       " 5.008,\n",
       " 4.963333333333333,\n",
       " 4.988,\n",
       " 4.932666666666667,\n",
       " 5.011333333333333,\n",
       " 4.993333333333333,\n",
       " 4.9463333333333335,\n",
       " 4.94,\n",
       " 4.982666666666667,\n",
       " 4.993333333333333,\n",
       " 5.028,\n",
       " 5.030333333333333,\n",
       " 5.019,\n",
       " 5.011,\n",
       " 4.975666666666666,\n",
       " 5.051666666666667,\n",
       " 5.029333333333334,\n",
       " 5.017,\n",
       " 4.997,\n",
       " 5.023666666666666,\n",
       " 5.013,\n",
       " 4.998333333333333,\n",
       " 5.002666666666666,\n",
       " 4.9943333333333335,\n",
       " 5.028333333333333,\n",
       " 4.992,\n",
       " 4.974666666666667,\n",
       " 4.979666666666667,\n",
       " 5.012666666666667,\n",
       " 4.961666666666667,\n",
       " 4.992666666666667,\n",
       " 5.018,\n",
       " 4.9703333333333335,\n",
       " 4.995666666666667,\n",
       " 4.926666666666667,\n",
       " 4.972666666666667,\n",
       " 4.984666666666667,\n",
       " 5.008,\n",
       " 4.957,\n",
       " 4.985666666666667,\n",
       " 5.009,\n",
       " 5.044333333333333,\n",
       " 4.978666666666666,\n",
       " 5.015,\n",
       " 4.952333333333334,\n",
       " 5.028666666666667,\n",
       " 4.984666666666667,\n",
       " 4.951,\n",
       " 4.984333333333334,\n",
       " 4.932333333333333,\n",
       " 4.955333333333333,\n",
       " 4.971666666666667,\n",
       " 4.985666666666667,\n",
       " 5.014666666666667,\n",
       " 5.038666666666667,\n",
       " 5.007,\n",
       " 4.956666666666667,\n",
       " 5.018,\n",
       " 4.974333333333333,\n",
       " 4.971,\n",
       " 4.984666666666667,\n",
       " 5.0343333333333335,\n",
       " 4.942666666666667,\n",
       " 4.946,\n",
       " 4.993666666666667,\n",
       " 4.976333333333334,\n",
       " 4.963666666666667,\n",
       " 4.939,\n",
       " 4.937333333333333,\n",
       " 4.958,\n",
       " 4.9863333333333335,\n",
       " 5.001666666666667,\n",
       " 5.003,\n",
       " 4.987333333333333,\n",
       " 5.003333333333333,\n",
       " 4.976333333333334,\n",
       " 4.980333333333333,\n",
       " 5.007,\n",
       " 5.039666666666666,\n",
       " 5.015666666666666,\n",
       " 4.966333333333333,\n",
       " 5.001666666666667,\n",
       " 4.992,\n",
       " 4.996,\n",
       " 4.979,\n",
       " 4.976,\n",
       " 5.011666666666667,\n",
       " 5.018,\n",
       " 5.024333333333334,\n",
       " 4.983,\n",
       " 5.008666666666667,\n",
       " 4.995,\n",
       " 5.016333333333334,\n",
       " 5.036666666666667,\n",
       " 5.003,\n",
       " 5.0023333333333335,\n",
       " 4.997,\n",
       " 5.002666666666666,\n",
       " 4.988,\n",
       " 4.996333333333333,\n",
       " 5.037,\n",
       " 4.936333333333334,\n",
       " 5.033,\n",
       " 4.979,\n",
       " 5.007333333333333,\n",
       " 4.995666666666667,\n",
       " 4.989333333333334,\n",
       " 4.99,\n",
       " 5.021333333333334,\n",
       " 4.998666666666667,\n",
       " 4.997,\n",
       " 5.004666666666667,\n",
       " 5.017,\n",
       " 5.003,\n",
       " 4.954,\n",
       " 4.9463333333333335,\n",
       " 4.964,\n",
       " 4.988,\n",
       " 4.985333333333333,\n",
       " 4.976,\n",
       " 5.011666666666667,\n",
       " 5.028333333333333,\n",
       " 4.995333333333333,\n",
       " 5.009,\n",
       " 4.975,\n",
       " 5.040666666666667,\n",
       " 4.990666666666667,\n",
       " 4.960666666666667,\n",
       " 4.983,\n",
       " 4.984333333333334,\n",
       " 4.980333333333333,\n",
       " 4.974666666666667,\n",
       " 4.98,\n",
       " 5.009,\n",
       " 4.988666666666667,\n",
       " 5.031666666666666,\n",
       " 5.025333333333333,\n",
       " 4.986,\n",
       " 4.949666666666666,\n",
       " 4.994,\n",
       " 4.952,\n",
       " 4.957666666666666,\n",
       " 4.987666666666667,\n",
       " 4.999666666666666,\n",
       " 4.967666666666666,\n",
       " 4.942666666666667,\n",
       " 5.003,\n",
       " 4.948666666666667,\n",
       " 5.011,\n",
       " 4.997333333333334,\n",
       " 5.010666666666666,\n",
       " 5.025,\n",
       " 5.042,\n",
       " 4.9943333333333335,\n",
       " 4.990666666666667,\n",
       " 4.986,\n",
       " 5.03,\n",
       " 5.032333333333334,\n",
       " 5.014,\n",
       " 5.028333333333333,\n",
       " 4.971666666666667,\n",
       " 4.935333333333333,\n",
       " 5.003333333333333,\n",
       " 5.017,\n",
       " 4.989,\n",
       " 5.038666666666667,\n",
       " 5.036333333333333,\n",
       " 5.055,\n",
       " 4.981333333333334,\n",
       " 4.985,\n",
       " 5.044,\n",
       " 5.004333333333333,\n",
       " 5.006333333333333,\n",
       " 4.993666666666667,\n",
       " 5.0,\n",
       " 4.9816666666666665,\n",
       " 5.009333333333333,\n",
       " 4.966666666666667,\n",
       " 4.996333333333333,\n",
       " 5.041,\n",
       " 4.924,\n",
       " 4.9623333333333335,\n",
       " 4.931,\n",
       " 5.003,\n",
       " 4.971,\n",
       " 4.981,\n",
       " 5.028,\n",
       " 5.001666666666667,\n",
       " 5.023333333333333,\n",
       " 4.9976666666666665,\n",
       " 4.978,\n",
       " 4.987,\n",
       " 4.968333333333334,\n",
       " 4.972333333333333,\n",
       " 4.979,\n",
       " 4.997,\n",
       " 4.974,\n",
       " 4.951333333333333,\n",
       " 4.992333333333334,\n",
       " 4.966333333333333,\n",
       " 4.968333333333334,\n",
       " 5.048,\n",
       " 4.946,\n",
       " 4.956666666666667,\n",
       " 4.980666666666667,\n",
       " 5.009333333333333,\n",
       " 4.964666666666667,\n",
       " 4.960333333333334,\n",
       " 4.964333333333333,\n",
       " 5.015666666666666,\n",
       " 5.037,\n",
       " 5.002666666666666,\n",
       " 4.959333333333333,\n",
       " 4.976333333333334,\n",
       " 4.979,\n",
       " 5.016666666666667,\n",
       " 5.034,\n",
       " 4.972666666666667,\n",
       " 4.994,\n",
       " 4.978666666666666,\n",
       " 5.0103333333333335,\n",
       " 4.957333333333334,\n",
       " 4.99,\n",
       " 4.983333333333333,\n",
       " 5.026,\n",
       " 5.007666666666666,\n",
       " 5.001333333333333,\n",
       " 4.9896666666666665,\n",
       " 4.976666666666667,\n",
       " 4.999666666666666,\n",
       " 4.998666666666667,\n",
       " 5.011666666666667,\n",
       " 4.976333333333334,\n",
       " 5.007666666666666,\n",
       " 5.000666666666667,\n",
       " 4.973333333333334,\n",
       " 4.971333333333333,\n",
       " 4.999666666666666,\n",
       " 4.958,\n",
       " 4.971666666666667,\n",
       " 4.940333333333333,\n",
       " 5.001333333333333,\n",
       " 5.0023333333333335,\n",
       " 5.035666666666667,\n",
       " 4.9816666666666665,\n",
       " 5.007333333333333,\n",
       " 4.981,\n",
       " 4.992333333333334,\n",
       " 4.999333333333333,\n",
       " 4.982,\n",
       " 4.935666666666667,\n",
       " 4.978666666666666,\n",
       " 5.024666666666667,\n",
       " 5.004666666666667,\n",
       " 5.024,\n",
       " 4.987666666666667,\n",
       " 4.9943333333333335,\n",
       " 5.035,\n",
       " 5.016,\n",
       " 5.000333333333334,\n",
       " 4.9656666666666665,\n",
       " 5.024666666666667,\n",
       " 4.9863333333333335,\n",
       " 5.02,\n",
       " 4.9383333333333335,\n",
       " 5.084,\n",
       " 5.054333333333333,\n",
       " 4.946,\n",
       " 5.009,\n",
       " 5.042666666666666,\n",
       " 4.981333333333334,\n",
       " 5.022333333333333,\n",
       " 4.967,\n",
       " 5.012,\n",
       " 4.994666666666666,\n",
       " 4.994,\n",
       " 5.039,\n",
       " 4.9543333333333335,\n",
       " 4.97,\n",
       " 4.947,\n",
       " 4.993333333333333,\n",
       " 4.995,\n",
       " 4.953,\n",
       " 5.007666666666666,\n",
       " 5.036333333333333,\n",
       " 4.9703333333333335,\n",
       " 5.004333333333333,\n",
       " 4.991,\n",
       " 5.023,\n",
       " 5.057,\n",
       " 4.994666666666666,\n",
       " 5.044666666666667,\n",
       " 5.006333333333333,\n",
       " 4.996333333333333,\n",
       " 5.063,\n",
       " 5.028666666666667,\n",
       " 5.005333333333334,\n",
       " 4.998,\n",
       " 4.985333333333333,\n",
       " 5.0456666666666665,\n",
       " 4.995333333333333,\n",
       " 4.956666666666667,\n",
       " 5.006333333333333,\n",
       " 5.021,\n",
       " 5.032333333333334,\n",
       " 4.989,\n",
       " 5.027,\n",
       " 4.965,\n",
       " 5.003666666666667,\n",
       " 4.947,\n",
       " 5.015666666666666,\n",
       " 4.9896666666666665,\n",
       " 5.021,\n",
       " 4.9656666666666665,\n",
       " 4.9943333333333335,\n",
       " 4.987666666666667,\n",
       " 4.992666666666667,\n",
       " 4.993333333333333,\n",
       " 5.012666666666667,\n",
       " 5.029,\n",
       " 4.968,\n",
       " 4.983,\n",
       " 5.011666666666667,\n",
       " 5.011,\n",
       " 4.9703333333333335,\n",
       " 4.996333333333333,\n",
       " 5.0136666666666665,\n",
       " 5.024333333333334,\n",
       " 4.977333333333333,\n",
       " 5.036333333333333,\n",
       " 5.000333333333334,\n",
       " 4.947,\n",
       " 4.948333333333333,\n",
       " 4.969,\n",
       " 4.987,\n",
       " 4.967,\n",
       " 5.006,\n",
       " 4.962,\n",
       " 5.002,\n",
       " 4.957,\n",
       " 4.910333333333333,\n",
       " 5.006333333333333,\n",
       " 4.978666666666666,\n",
       " 5.011,\n",
       " 5.000333333333334,\n",
       " 4.961,\n",
       " 5.015,\n",
       " 5.024333333333334,\n",
       " 4.972,\n",
       " 4.957333333333334,\n",
       " 4.956333333333333,\n",
       " 4.995,\n",
       " 4.974,\n",
       " 5.040333333333334,\n",
       " 5.03,\n",
       " 5.017333333333333,\n",
       " 5.002,\n",
       " 5.017666666666667,\n",
       " 5.01,\n",
       " 4.956333333333333,\n",
       " 4.958333333333333,\n",
       " 4.990333333333333,\n",
       " 4.994,\n",
       " 4.973,\n",
       " 5.025,\n",
       " 4.991666666666666,\n",
       " 5.018666666666666,\n",
       " 5.001333333333333,\n",
       " 4.992666666666667,\n",
       " 5.001666666666667,\n",
       " 4.972,\n",
       " 4.965333333333334,\n",
       " 4.966666666666667,\n",
       " 4.972,\n",
       " 4.989333333333334,\n",
       " 5.001333333333333,\n",
       " 4.969333333333333,\n",
       " 4.999,\n",
       " 4.989,\n",
       " 5.012333333333333,\n",
       " 5.026,\n",
       " 4.978,\n",
       " 4.984,\n",
       " 5.004333333333333,\n",
       " 4.996333333333333,\n",
       " 4.952333333333334,\n",
       " 4.951666666666667,\n",
       " 4.986,\n",
       " 5.0,\n",
       " 5.025666666666667,\n",
       " 4.955,\n",
       " 4.966666666666667,\n",
       " 4.957,\n",
       " 5.068666666666667,\n",
       " 4.999333333333333,\n",
       " 4.9656666666666665,\n",
       " 5.051333333333333,\n",
       " 5.024333333333334,\n",
       " 4.951,\n",
       " 5.017666666666667,\n",
       " 4.985,\n",
       " 5.036333333333333,\n",
       " 5.001666666666667,\n",
       " 4.958333333333333,\n",
       " 5.018666666666666,\n",
       " 5.006666666666667,\n",
       " 4.982666666666667,\n",
       " 4.978666666666666,\n",
       " 5.003666666666667,\n",
       " 5.012333333333333,\n",
       " 4.989333333333334,\n",
       " 4.984333333333334,\n",
       " 4.994666666666666,\n",
       " 5.051,\n",
       " 5.0056666666666665,\n",
       " 4.948,\n",
       " 4.927333333333333,\n",
       " 5.031333333333333,\n",
       " 4.9736666666666665,\n",
       " 4.982666666666667,\n",
       " 5.006666666666667,\n",
       " 4.983666666666666,\n",
       " 5.016,\n",
       " 4.993,\n",
       " 4.958,\n",
       " 4.9943333333333335,\n",
       " 5.019,\n",
       " 5.019,\n",
       " 5.005333333333334,\n",
       " 5.026,\n",
       " 5.046333333333333,\n",
       " 4.992666666666667,\n",
       " 5.019333333333333,\n",
       " 5.003333333333333,\n",
       " 5.004333333333333,\n",
       " 4.982666666666667,\n",
       " 5.008,\n",
       " 4.975666666666666,\n",
       " 5.011333333333333,\n",
       " 5.017,\n",
       " 4.990333333333333,\n",
       " 5.102666666666667,\n",
       " 4.996666666666667,\n",
       " 4.992666666666667,\n",
       " 5.012,\n",
       " 4.933666666666666,\n",
       " 5.047,\n",
       " 5.025666666666667,\n",
       " 4.983666666666666,\n",
       " 5.041666666666667,\n",
       " 5.007666666666666,\n",
       " 4.977333333333333,\n",
       " 4.974,\n",
       " 5.028666666666667,\n",
       " 4.963666666666667,\n",
       " 5.038,\n",
       " 5.028666666666667,\n",
       " 4.978,\n",
       " 5.024,\n",
       " 4.955333333333333,\n",
       " 4.993666666666667,\n",
       " 4.970666666666666,\n",
       " 4.992333333333334,\n",
       " 5.023666666666666,\n",
       " 4.966333333333333,\n",
       " 4.945,\n",
       " 4.985333333333333,\n",
       " 4.945666666666667,\n",
       " 5.0376666666666665,\n",
       " 4.972666666666667,\n",
       " 5.028333333333333,\n",
       " 4.977666666666667,\n",
       " 4.951666666666667,\n",
       " 5.005333333333334,\n",
       " 4.993666666666667,\n",
       " 4.985,\n",
       " 4.988,\n",
       " 5.021,\n",
       " 5.018666666666666,\n",
       " 5.032,\n",
       " 5.04,\n",
       " 5.028666666666667,\n",
       " 4.997333333333334,\n",
       " 5.000333333333334,\n",
       " 5.058666666666666,\n",
       " 4.996,\n",
       " 4.953333333333333,\n",
       " 5.045,\n",
       " 4.980666666666667,\n",
       " 4.992666666666667,\n",
       " 4.955,\n",
       " 5.051666666666667,\n",
       " 5.008666666666667,\n",
       " 4.993,\n",
       " 4.987,\n",
       " 4.937,\n",
       " 4.978666666666666,\n",
       " 4.979,\n",
       " 4.998333333333333,\n",
       " 4.991,\n",
       " 4.939333333333333,\n",
       " 4.995333333333333,\n",
       " 5.008333333333334,\n",
       " 5.012,\n",
       " 5.024,\n",
       " 4.938666666666666,\n",
       " 5.006,\n",
       " 4.993333333333333,\n",
       " 4.951,\n",
       " 4.992333333333334,\n",
       " 5.0536666666666665,\n",
       " 5.022333333333333,\n",
       " 4.963,\n",
       " 5.001333333333333,\n",
       " 4.9976666666666665,\n",
       " 5.003666666666667,\n",
       " 4.996333333333333,\n",
       " 4.998666666666667,\n",
       " 5.042,\n",
       " 5.014,\n",
       " 4.9896666666666665,\n",
       " 5.027333333333333,\n",
       " 5.014666666666667,\n",
       " 4.958,\n",
       " 4.983666666666666,\n",
       " 4.961333333333333,\n",
       " 4.976333333333334,\n",
       " 4.960333333333334,\n",
       " 4.99,\n",
       " 4.972,\n",
       " 4.957333333333334,\n",
       " 4.9623333333333335,\n",
       " 4.991666666666666,\n",
       " 4.943666666666667,\n",
       " 4.976333333333334,\n",
       " 4.993,\n",
       " 4.968,\n",
       " 4.965,\n",
       " 5.043666666666667,\n",
       " 4.9623333333333335,\n",
       " 5.009333333333333,\n",
       " 5.040666666666667,\n",
       " 4.931666666666667,\n",
       " 5.008333333333334,\n",
       " 4.999333333333333,\n",
       " 4.966666666666667,\n",
       " 5.005,\n",
       " 5.018666666666666,\n",
       " 4.9656666666666665,\n",
       " 4.987,\n",
       " 4.986666666666666,\n",
       " 4.983,\n",
       " 5.011,\n",
       " 4.97,\n",
       " 4.998333333333333,\n",
       " 5.001333333333333,\n",
       " 5.015333333333333,\n",
       " 4.991333333333333,\n",
       " 5.022333333333333,\n",
       " 4.993333333333333,\n",
       " 4.974,\n",
       " 4.955,\n",
       " 5.019333333333333,\n",
       " 5.019333333333333,\n",
       " 4.968666666666667,\n",
       " 5.042,\n",
       " 5.013,\n",
       " 4.968,\n",
       " 5.032,\n",
       " 4.9976666666666665,\n",
       " 4.991,\n",
       " 5.007666666666666,\n",
       " 4.978666666666666,\n",
       " 5.020666666666667,\n",
       " 4.988666666666667,\n",
       " 5.005333333333334,\n",
       " 5.033666666666667,\n",
       " 5.013,\n",
       " 4.9896666666666665,\n",
       " 4.957,\n",
       " 5.004333333333333,\n",
       " 4.963666666666667,\n",
       " 5.032666666666667,\n",
       " 5.0473333333333334,\n",
       " 4.958333333333333,\n",
       " 4.990333333333333,\n",
       " 5.0263333333333335,\n",
       " 4.959666666666666,\n",
       " 4.926666666666667,\n",
       " 5.012666666666667,\n",
       " 5.027666666666667,\n",
       " 4.981,\n",
       " 5.000333333333334,\n",
       " 4.937666666666667,\n",
       " 4.983666666666666,\n",
       " 4.974333333333333,\n",
       " 4.958666666666667,\n",
       " 4.991333333333333,\n",
       " 5.001333333333333,\n",
       " 4.945333333333333,\n",
       " 4.9896666666666665,\n",
       " 5.0183333333333335,\n",
       " 4.933333333333334,\n",
       " 4.988333333333333,\n",
       " 4.966333333333333,\n",
       " 5.009333333333333,\n",
       " 5.036,\n",
       " 4.992333333333334,\n",
       " 4.998333333333333,\n",
       " 4.932666666666667,\n",
       " 4.941666666666666,\n",
       " 4.986666666666666,\n",
       " 5.046,\n",
       " 4.9703333333333335,\n",
       " 4.974,\n",
       " 5.004666666666667,\n",
       " 5.003,\n",
       " 5.003,\n",
       " 5.025,\n",
       " 5.007333333333333,\n",
       " 4.949666666666666,\n",
       " 4.967,\n",
       " 4.969,\n",
       " 4.969,\n",
       " 5.0296666666666665,\n",
       " 4.990666666666667,\n",
       " 5.024333333333334,\n",
       " 4.996333333333333,\n",
       " 5.019333333333333,\n",
       " 4.993,\n",
       " 4.965,\n",
       " 4.979666666666667,\n",
       " 4.951,\n",
       " 5.0616666666666665,\n",
       " 5.023666666666666,\n",
       " 4.999,\n",
       " 4.978,\n",
       " 5.0023333333333335,\n",
       " 4.927,\n",
       " 5.020333333333333,\n",
       " 5.037,\n",
       " 5.029333333333334,\n",
       " 5.014,\n",
       " 5.037333333333334,\n",
       " 5.052333333333333,\n",
       " 4.9863333333333335,\n",
       " 5.0103333333333335,\n",
       " 5.006333333333333,\n",
       " 4.947666666666667,\n",
       " 5.000666666666667,\n",
       " 4.99,\n",
       " 4.988,\n",
       " 4.961,\n",
       " 5.009,\n",
       " 4.963666666666667,\n",
       " 4.972333333333333,\n",
       " 5.013333333333334,\n",
       " 4.9656666666666665,\n",
       " 5.012666666666667,\n",
       " 5.0103333333333335,\n",
       " 4.978,\n",
       " 5.012333333333333,\n",
       " 4.950666666666667,\n",
       " 5.043,\n",
       " 4.925333333333334,\n",
       " 4.963333333333333,\n",
       " 5.049333333333333,\n",
       " 4.998666666666667,\n",
       " 5.066333333333334,\n",
       " 5.005333333333334,\n",
       " 5.017666666666667,\n",
       " 5.020333333333333,\n",
       " 4.977666666666667,\n",
       " 4.983333333333333,\n",
       " 4.942,\n",
       " 5.007666666666666,\n",
       " 4.971333333333333,\n",
       " 4.953,\n",
       " 5.008333333333334,\n",
       " 4.963,\n",
       " 4.999,\n",
       " 4.999,\n",
       " 4.957666666666666,\n",
       " 4.979666666666667,\n",
       " 5.014666666666667,\n",
       " 4.968666666666667,\n",
       " 4.980666666666667,\n",
       " 4.944,\n",
       " 4.984333333333334,\n",
       " 4.991666666666666,\n",
       " 5.022333333333333,\n",
       " 5.013,\n",
       " 5.004,\n",
       " 5.005,\n",
       " 4.972666666666667,\n",
       " 5.015,\n",
       " 4.9703333333333335,\n",
       " 4.984666666666667,\n",
       " 4.9703333333333335,\n",
       " 5.046333333333333,\n",
       " 4.996333333333333,\n",
       " 4.964333333333333,\n",
       " 4.9783333333333335,\n",
       " 5.050333333333334,\n",
       " 4.985333333333333,\n",
       " 4.918666666666667,\n",
       " 4.977,\n",
       " 5.027666666666667,\n",
       " 5.0183333333333335,\n",
       " 4.996333333333333,\n",
       " 5.036333333333333,\n",
       " 5.0,\n",
       " 4.996666666666667,\n",
       " 4.949,\n",
       " 4.955666666666667,\n",
       " 5.004,\n",
       " 5.033333333333333,\n",
       " 4.991,\n",
       " 5.003666666666667,\n",
       " 4.999666666666666,\n",
       " 4.976,\n",
       " 5.021,\n",
       " 4.963,\n",
       " 5.0,\n",
       " 4.982666666666667,\n",
       " 4.965,\n",
       " 4.983666666666666,\n",
       " 5.008333333333334,\n",
       " 4.995666666666667,\n",
       " 5.038666666666667,\n",
       " 4.953,\n",
       " 4.992333333333334,\n",
       " 4.980666666666667,\n",
       " 4.945333333333333,\n",
       " 5.022,\n",
       " 5.009333333333333,\n",
       " 4.975666666666666,\n",
       " 4.988666666666667,\n",
       " 5.033333333333333,\n",
       " 5.062,\n",
       " 4.9816666666666665,\n",
       " 4.990666666666667,\n",
       " 5.020333333333333,\n",
       " 5.039,\n",
       " 4.979666666666667,\n",
       " 4.959333333333333,\n",
       " 5.009666666666667,\n",
       " 4.989,\n",
       " 5.0,\n",
       " 4.963333333333333,\n",
       " 5.011333333333333,\n",
       " 5.0103333333333335,\n",
       " 4.986666666666666,\n",
       " 5.046333333333333,\n",
       " 4.985,\n",
       " 5.017666666666667,\n",
       " 4.958333333333333,\n",
       " 5.012,\n",
       " 4.941,\n",
       " 4.967,\n",
       " 5.0553333333333335,\n",
       " 5.024666666666667,\n",
       " 4.987333333333333,\n",
       " 5.077,\n",
       " 5.024333333333334,\n",
       " 4.972666666666667,\n",
       " 4.984,\n",
       " 4.982,\n",
       " 4.992666666666667,\n",
       " 4.991666666666666,\n",
       " 5.013333333333334,\n",
       " 5.000333333333334,\n",
       " 5.0,\n",
       " 5.025,\n",
       " 5.023666666666666,\n",
       " 5.013,\n",
       " 5.030333333333333,\n",
       " 4.977333333333333,\n",
       " 4.988,\n",
       " 4.996666666666667,\n",
       " 4.957333333333334,\n",
       " 5.075333333333333,\n",
       " 5.030333333333333,\n",
       " 4.977,\n",
       " 4.990666666666667,\n",
       " 4.965,\n",
       " 4.999333333333333,\n",
       " 4.956666666666667,\n",
       " 4.98,\n",
       " 5.024333333333334,\n",
       " 4.989333333333334,\n",
       " 5.015,\n",
       " 5.017333333333333,\n",
       " 4.9703333333333335,\n",
       " 4.991333333333333,\n",
       " 4.986666666666666,\n",
       " 4.966666666666667,\n",
       " 4.979333333333333,\n",
       " 4.9703333333333335,\n",
       " 4.972666666666667,\n",
       " 4.974,\n",
       " 4.935,\n",
       " 5.006333333333333,\n",
       " 4.995,\n",
       " 5.001333333333333,\n",
       " 4.957,\n",
       " 4.975,\n",
       " 4.973,\n",
       " 5.024,\n",
       " 4.984333333333334,\n",
       " 4.995,\n",
       " 4.987333333333333,\n",
       " 4.983,\n",
       " 4.969,\n",
       " 5.037333333333334,\n",
       " 4.995666666666667,\n",
       " 5.017333333333333,\n",
       " 4.954,\n",
       " 5.020666666666667,\n",
       " 5.039666666666666,\n",
       " 5.0183333333333335,\n",
       " 4.963333333333333,\n",
       " 4.983,\n",
       " 4.961333333333333,\n",
       " 4.983666666666666,\n",
       " 5.051333333333333,\n",
       " 4.973,\n",
       " 4.963333333333333,\n",
       " 4.969,\n",
       " 5.000666666666667,\n",
       " 5.0183333333333335,\n",
       " 5.06,\n",
       " 4.991,\n",
       " 4.995,\n",
       " 5.012,\n",
       " 4.984666666666667,\n",
       " 5.000666666666667,\n",
       " 5.016666666666667,\n",
       " 4.983,\n",
       " 4.963,\n",
       " 4.9703333333333335,\n",
       " 4.992333333333334,\n",
       " 4.989,\n",
       " 4.971,\n",
       " 4.996666666666667,\n",
       " 4.979,\n",
       " 4.984666666666667,\n",
       " 4.987333333333333,\n",
       " 5.026666666666666,\n",
       " 4.993666666666667,\n",
       " 4.971,\n",
       " 5.000666666666667,\n",
       " 4.991666666666666,\n",
       " 4.9736666666666665,\n",
       " 4.986,\n",
       " 5.019666666666667,\n",
       " 4.991333333333333,\n",
       " 4.994666666666666,\n",
       " 5.038,\n",
       " 4.976666666666667,\n",
       " 5.051666666666667,\n",
       " 5.038,\n",
       " 5.005,\n",
       " 5.009333333333333,\n",
       " 5.028,\n",
       " 5.035,\n",
       " 4.997333333333334,\n",
       " 4.9656666666666665,\n",
       " 4.998666666666667,\n",
       " 4.939333333333333,\n",
       " 4.966,\n",
       " 4.998333333333333,\n",
       " 5.000333333333334,\n",
       " 5.021333333333334,\n",
       " 4.9943333333333335,\n",
       " 5.002,\n",
       " 5.01,\n",
       " 4.982333333333333,\n",
       " 4.9736666666666665,\n",
       " 4.9896666666666665,\n",
       " 5.004,\n",
       " 5.004666666666667,\n",
       " 4.99,\n",
       " 5.000666666666667,\n",
       " 4.932,\n",
       " 4.993,\n",
       " 4.957333333333334,\n",
       " 5.007333333333333,\n",
       " 5.042333333333334,\n",
       " 4.933333333333334,\n",
       " 5.032,\n",
       " 5.007666666666666,\n",
       " 5.0296666666666665,\n",
       " 4.9816666666666665,\n",
       " 4.976,\n",
       " 5.018,\n",
       " 5.018666666666666,\n",
       " 4.990666666666667,\n",
       " 4.996666666666667,\n",
       " 4.975666666666666,\n",
       " 4.976333333333334,\n",
       " 4.993333333333333,\n",
       " 4.977666666666667,\n",
       " 4.976666666666667,\n",
       " 5.032,\n",
       " 4.9816666666666665,\n",
       " 5.014333333333333,\n",
       " 4.973,\n",
       " 5.011333333333333,\n",
       " 4.974,\n",
       " 5.021,\n",
       " 4.990333333333333,\n",
       " 4.959333333333333,\n",
       " 4.9976666666666665,\n",
       " 4.978,\n",
       " 5.0103333333333335,\n",
       " 5.019666666666667,\n",
       " 4.945,\n",
       " 5.004666666666667,\n",
       " 4.945333333333333,\n",
       " 5.036666666666667,\n",
       " 5.019,\n",
       " 4.998333333333333,\n",
       " 5.001,\n",
       " 4.99,\n",
       " 4.98,\n",
       " 5.011,\n",
       " 5.012666666666667,\n",
       " 4.997,\n",
       " 4.983333333333333,\n",
       " 5.015333333333333,\n",
       " ...]"
      ]
     },
     "execution_count": 37,
     "metadata": {},
     "output_type": "execute_result"
    }
   ],
   "source": [
    "sample_mean"
   ]
  },
  {
   "cell_type": "code",
   "execution_count": 38,
   "id": "a6476eed",
   "metadata": {},
   "outputs": [
    {
     "data": {
      "text/plain": [
       "<AxesSubplot:ylabel='Density'>"
      ]
     },
     "execution_count": 38,
     "metadata": {},
     "output_type": "execute_result"
    },
    {
     "data": {
      "image/png": "[encoded data removed]",
      "text/plain": [
       "<Figure size 432x288 with 1 Axes>"
      ]
     },
     "metadata": {
      "needs_background": "light"
     },
     "output_type": "display_data"
    }
   ],
   "source": [
    "sns.distplot(sample_mean)"
   ]
  },
  {
   "cell_type": "markdown",
   "id": "510d9a28",
   "metadata": {},
   "source": [
    "# Confidence interval and Margin of error."
   ]
  },
  {
   "cell_type": "code",
   "execution_count": 39,
   "id": "aa10928d",
   "metadata": {},
   "outputs": [],
   "source": [
    "import scipy.stats as stats"
   ]
  },
  {
   "cell_type": "code",
   "execution_count": 40,
   "id": "8701b8ee",
   "metadata": {},
   "outputs": [
    {
     "data": {
      "text/plain": [
       "1.6448536269514722"
      ]
     },
     "execution_count": 40,
     "metadata": {},
     "output_type": "execute_result"
    }
   ],
   "source": [
    "#This will provide  Z-table values (based on Z-score) and we get rejected reason C.I\n",
    "\n",
    "stats.norm.ppf(q=0.95)  # 95% confidance interval"
   ]
  },
  {
   "cell_type": "code",
   "execution_count": 41,
   "id": "0f5f93fb",
   "metadata": {},
   "outputs": [
    {
     "data": {
      "text/plain": [
       "2.3263478740408408"
      ]
     },
     "execution_count": 41,
     "metadata": {},
     "output_type": "execute_result"
    }
   ],
   "source": [
    "stats.norm.ppf(q=0.99) #99% confidance interval\n",
    "#area under the curve"
   ]
  },
  {
   "cell_type": "markdown",
   "id": "2b6cf90e",
   "metadata": {},
   "source": [
    "### Point estimate"
   ]
  },
  {
   "cell_type": "code",
   "execution_count": 42,
   "id": "712ef0bb",
   "metadata": {},
   "outputs": [
    {
     "data": {
      "text/plain": [
       "array([11, 14, 16, 10, 14, 17, 11, 19, 11, 17, 11, 19, 17, 13, 19, 10, 18,\n",
       "       11, 15, 10, 15, 14, 12, 16, 19, 11, 19, 16, 13, 17, 13, 12, 16, 13,\n",
       "       18, 17, 16, 10, 12, 17, 10, 16, 13, 16, 12, 14, 19, 19, 17, 12])"
      ]
     },
     "execution_count": 42,
     "metadata": {},
     "output_type": "execute_result"
    }
   ],
   "source": [
    "#point estimate:-The value of any statistics that estimate the value of a population is called point estimate.\n",
    "# we rarely know if our point estimate is correct beacuse it is an estimation actual value.\n",
    "# we construct confidance interval to help estimate what the actual value of unknown population.\n",
    "# lower range C.I.= point estimate - margine if error\n",
    "# Higher range C.I.= point estimate + margin if error\n",
    "\n",
    "population"
   ]
  },
  {
   "cell_type": "code",
   "execution_count": 43,
   "id": "a123d440",
   "metadata": {},
   "outputs": [],
   "source": [
    "sample1=np.random.choice(population,20)\n",
    "sample2=np.random.choice(population,20)\n",
    "sample3=np.random.choice(population,20)\n",
    "sample4=np.random.choice(population,20)"
   ]
  },
  {
   "cell_type": "code",
   "execution_count": 44,
   "id": "d7843554",
   "metadata": {},
   "outputs": [],
   "source": [
    "mean_of_sample=[]\n",
    "\n",
    "all_sample=[sample1,sample2,sample3,sample4]\n",
    "\n",
    "for sample in all_sample:\n",
    "    mean_of_sample.append(np.mean(sample))"
   ]
  },
  {
   "cell_type": "code",
   "execution_count": 45,
   "id": "4bebab3d",
   "metadata": {},
   "outputs": [
    {
     "data": {
      "text/plain": [
       "[14.75, 14.55, 13.5, 15.7]"
      ]
     },
     "execution_count": 45,
     "metadata": {},
     "output_type": "execute_result"
    }
   ],
   "source": [
    "mean_of_sample"
   ]
  },
  {
   "cell_type": "code",
   "execution_count": 46,
   "id": "84b5aa88",
   "metadata": {},
   "outputs": [],
   "source": [
    "#point estimate based on Z-score of C.I\n",
    "z_critical=stats.norm.ppf(q=0.975) # Z-score"
   ]
  },
  {
   "cell_type": "code",
   "execution_count": 47,
   "id": "c4c47449",
   "metadata": {},
   "outputs": [],
   "source": [
    "margin_of_error = z_critical + (np.std(mean_of_sample)/np.sqrt(20))"
   ]
  },
  {
   "cell_type": "code",
   "execution_count": 48,
   "id": "b09ce7c5",
   "metadata": {},
   "outputs": [],
   "source": [
    "higher_range_CI = np.mean(mean_of_sample) + margin_of_error"
   ]
  },
  {
   "cell_type": "code",
   "execution_count": 49,
   "id": "98d5c109",
   "metadata": {},
   "outputs": [
    {
     "data": {
      "text/plain": [
       "16.75969592209012"
      ]
     },
     "execution_count": 49,
     "metadata": {},
     "output_type": "execute_result"
    }
   ],
   "source": [
    "higher_range_CI"
   ]
  },
  {
   "cell_type": "code",
   "execution_count": 50,
   "id": "bc2999f6",
   "metadata": {},
   "outputs": [],
   "source": [
    "lower_range_CI=np.mean(mean_of_sample)-margin_of_error"
   ]
  },
  {
   "cell_type": "code",
   "execution_count": 51,
   "id": "8321ac57",
   "metadata": {},
   "outputs": [
    {
     "data": {
      "text/plain": [
       "12.49030407790988"
      ]
     },
     "execution_count": 51,
     "metadata": {},
     "output_type": "execute_result"
    }
   ],
   "source": [
    "lower_range_CI"
   ]
  },
  {
   "cell_type": "code",
   "execution_count": 52,
   "id": "2414f0b3",
   "metadata": {},
   "outputs": [],
   "source": [
    "#point estimate based on T-table\n",
    "t_critical=stats.t.ppf(q=0.975,df=24)   #t-table value"
   ]
  },
  {
   "cell_type": "code",
   "execution_count": 53,
   "id": "7fd9951b",
   "metadata": {},
   "outputs": [
    {
     "data": {
      "text/plain": [
       "2.0638985616280205"
      ]
     },
     "execution_count": 53,
     "metadata": {},
     "output_type": "execute_result"
    }
   ],
   "source": [
    "t_critical"
   ]
  },
  {
   "cell_type": "code",
   "execution_count": 54,
   "id": "083d1d2e",
   "metadata": {},
   "outputs": [],
   "source": [
    "margin_of_error= t_critical + (np.std(mean_of_sample)/np.sqrt(20))"
   ]
  },
  {
   "cell_type": "code",
   "execution_count": 55,
   "id": "cf865ffa",
   "metadata": {},
   "outputs": [
    {
     "data": {
      "text/plain": [
       "16.863630499178086"
      ]
     },
     "execution_count": 55,
     "metadata": {},
     "output_type": "execute_result"
    }
   ],
   "source": [
    "np.mean(mean_of_sample) + margin_of_error"
   ]
  },
  {
   "cell_type": "code",
   "execution_count": 56,
   "id": "882b51e6",
   "metadata": {},
   "outputs": [
    {
     "data": {
      "text/plain": [
       "12.386369500821914"
      ]
     },
     "execution_count": 56,
     "metadata": {},
     "output_type": "execute_result"
    }
   ],
   "source": [
    "np.mean(mean_of_sample) - margin_of_error"
   ]
  },
  {
   "cell_type": "markdown",
   "id": "daceb24d",
   "metadata": {},
   "source": [
    "# Z-test"
   ]
  },
  {
   "cell_type": "code",
   "execution_count": 57,
   "id": "489e4e42",
   "metadata": {},
   "outputs": [],
   "source": [
    "#this numpy function provide us normal distributed data.\n",
    "from numpy.random import randn\n",
    "data=randn(100) #as much as data you condiser you got better graph."
   ]
  },
  {
   "cell_type": "code",
   "execution_count": 58,
   "id": "1d5f0290",
   "metadata": {},
   "outputs": [
    {
     "data": {
      "text/plain": [
       "<AxesSubplot:ylabel='Density'>"
      ]
     },
     "execution_count": 58,
     "metadata": {},
     "output_type": "execute_result"
    },
    {
     "data": {
      "image/png": "[encoded data removed]",
      "text/plain": [
       "<Figure size 432x288 with 1 Axes>"
      ]
     },
     "metadata": {
      "needs_background": "light"
     },
     "output_type": "display_data"
    }
   ],
   "source": [
    "sns.distplot(data) # for confirmation we can plot graph"
   ]
  },
  {
   "cell_type": "code",
   "execution_count": 59,
   "id": "de78efda",
   "metadata": {},
   "outputs": [
    {
     "name": "stdout",
     "output_type": "stream",
     "text": [
      " Mean of the population : -0.04914138813218143 ,\n",
      " Standared Deviation: 0.9800861001326345\n"
     ]
    }
   ],
   "source": [
    "print(f\" Mean of the population : {np.mean(data)} ,\\n Standared Deviation: {np.std(data)}\")"
   ]
  },
  {
   "cell_type": "code",
   "execution_count": 60,
   "id": "9ed80720",
   "metadata": {},
   "outputs": [],
   "source": [
    "# we need some more informaton regarding data.\n",
    "# C.I = 95% =0.95\n",
    "# Alpha = 1 - C.I = 0.05"
   ]
  },
  {
   "cell_type": "raw",
   "id": "66af4aef",
   "metadata": {},
   "source": [
    "#Some assumption\n",
    "p <= 0.05 # we reject null hypothesis.\n",
    "p > 0.05  # we do not reject null hypothesis."
   ]
  },
  {
   "cell_type": "markdown",
   "id": "5570b9cb",
   "metadata": {},
   "source": [
    "## for z-test we need library from stats model."
   ]
  },
  {
   "cell_type": "code",
   "execution_count": 61,
   "id": "cf422550",
   "metadata": {},
   "outputs": [],
   "source": [
    "null_mean = 0.055"
   ]
  },
  {
   "cell_type": "code",
   "execution_count": 62,
   "id": "192778e8",
   "metadata": {},
   "outputs": [],
   "source": [
    "Alpha = 0.05 #this is decided by domain experties."
   ]
  },
  {
   "cell_type": "code",
   "execution_count": 63,
   "id": "e31974ac",
   "metadata": {},
   "outputs": [],
   "source": [
    "from statsmodels.stats.weightstats import ztest\n",
    "z_score,p_value=ztest(data,value=null_mean,alternative=\"larger\")"
   ]
  },
  {
   "cell_type": "code",
   "execution_count": 64,
   "id": "8aebb978",
   "metadata": {},
   "outputs": [
    {
     "data": {
      "text/plain": [
       "-1.0572476526331944"
      ]
     },
     "execution_count": 64,
     "metadata": {},
     "output_type": "execute_result"
    }
   ],
   "source": [
    "z_score"
   ]
  },
  {
   "cell_type": "code",
   "execution_count": 65,
   "id": "07b4b8e7",
   "metadata": {},
   "outputs": [
    {
     "data": {
      "text/plain": [
       "0.8548007115116867"
      ]
     },
     "execution_count": 65,
     "metadata": {},
     "output_type": "execute_result"
    }
   ],
   "source": [
    "p_value"
   ]
  },
  {
   "cell_type": "code",
   "execution_count": 66,
   "id": "8e46b93a",
   "metadata": {},
   "outputs": [
    {
     "name": "stdout",
     "output_type": "stream",
     "text": [
      "We do not reject null hypothesis\n"
     ]
    }
   ],
   "source": [
    "if (p_value < Alpha):\n",
    "    print(\"Reject the null hypothesis\")\n",
    "else:\n",
    "    print(\"We do not reject null hypothesis\")"
   ]
  },
  {
   "cell_type": "markdown",
   "id": "941df277",
   "metadata": {},
   "source": [
    "## How to check the normality of the data"
   ]
  },
  {
   "cell_type": "raw",
   "id": "8bf9fbf3",
   "metadata": {},
   "source": [
    "#Statistics has different test to know data normaly distributed or not.\n",
    "1.z-test\n",
    "2.t-test\n",
    "3.chiquare\n",
    "4.anova"
   ]
  },
  {
   "cell_type": "code",
   "execution_count": 67,
   "id": "1e343213",
   "metadata": {},
   "outputs": [],
   "source": [
    "# import data set\n",
    "import pandas as pd\n",
    "data=pd.read_csv('Wine_Quality_Dataset.csv')"
   ]
  },
  {
   "cell_type": "code",
   "execution_count": 68,
   "id": "0b9c1e2e",
   "metadata": {},
   "outputs": [
    {
     "data": {
      "text/html": [
       "<div>\n",
       "<style scoped>\n",
       "    .dataframe tbody tr th:only-of-type {\n",
       "        vertical-align: middle;\n",
       "    }\n",
       "\n",
       "    .dataframe tbody tr th {\n",
       "        vertical-align: top;\n",
       "    }\n",
       "\n",
       "    .dataframe thead th {\n",
       "        text-align: right;\n",
       "    }\n",
       "</style>\n",
       "<table border=\"1\" class=\"dataframe\">\n",
       "  <thead>\n",
       "    <tr style=\"text-align: right;\">\n",
       "      <th></th>\n",
       "      <th>type</th>\n",
       "      <th>fixed acidity</th>\n",
       "      <th>volatile acidity</th>\n",
       "      <th>citric acid</th>\n",
       "      <th>residual sugar</th>\n",
       "      <th>chlorides</th>\n",
       "      <th>free sulfur dioxide</th>\n",
       "      <th>total sulfur dioxide</th>\n",
       "      <th>density</th>\n",
       "      <th>pH</th>\n",
       "      <th>sulphates</th>\n",
       "      <th>alcohol</th>\n",
       "      <th>quality</th>\n",
       "    </tr>\n",
       "  </thead>\n",
       "  <tbody>\n",
       "    <tr>\n",
       "      <th>0</th>\n",
       "      <td>white</td>\n",
       "      <td>7.0</td>\n",
       "      <td>0.270</td>\n",
       "      <td>0.36</td>\n",
       "      <td>20.7</td>\n",
       "      <td>0.045</td>\n",
       "      <td>45.0</td>\n",
       "      <td>170.0</td>\n",
       "      <td>1.00100</td>\n",
       "      <td>3.00</td>\n",
       "      <td>0.45</td>\n",
       "      <td>8.8</td>\n",
       "      <td>6</td>\n",
       "    </tr>\n",
       "    <tr>\n",
       "      <th>1</th>\n",
       "      <td>white</td>\n",
       "      <td>6.3</td>\n",
       "      <td>0.300</td>\n",
       "      <td>0.34</td>\n",
       "      <td>1.6</td>\n",
       "      <td>0.049</td>\n",
       "      <td>14.0</td>\n",
       "      <td>132.0</td>\n",
       "      <td>0.99400</td>\n",
       "      <td>3.30</td>\n",
       "      <td>0.49</td>\n",
       "      <td>9.5</td>\n",
       "      <td>6</td>\n",
       "    </tr>\n",
       "    <tr>\n",
       "      <th>2</th>\n",
       "      <td>white</td>\n",
       "      <td>8.1</td>\n",
       "      <td>0.280</td>\n",
       "      <td>0.40</td>\n",
       "      <td>6.9</td>\n",
       "      <td>0.050</td>\n",
       "      <td>30.0</td>\n",
       "      <td>97.0</td>\n",
       "      <td>0.99510</td>\n",
       "      <td>3.26</td>\n",
       "      <td>0.44</td>\n",
       "      <td>10.1</td>\n",
       "      <td>6</td>\n",
       "    </tr>\n",
       "    <tr>\n",
       "      <th>3</th>\n",
       "      <td>white</td>\n",
       "      <td>7.2</td>\n",
       "      <td>0.230</td>\n",
       "      <td>0.32</td>\n",
       "      <td>8.5</td>\n",
       "      <td>0.058</td>\n",
       "      <td>47.0</td>\n",
       "      <td>186.0</td>\n",
       "      <td>0.99560</td>\n",
       "      <td>3.19</td>\n",
       "      <td>0.40</td>\n",
       "      <td>9.9</td>\n",
       "      <td>6</td>\n",
       "    </tr>\n",
       "    <tr>\n",
       "      <th>4</th>\n",
       "      <td>white</td>\n",
       "      <td>7.2</td>\n",
       "      <td>0.230</td>\n",
       "      <td>0.32</td>\n",
       "      <td>8.5</td>\n",
       "      <td>0.058</td>\n",
       "      <td>47.0</td>\n",
       "      <td>186.0</td>\n",
       "      <td>0.99560</td>\n",
       "      <td>3.19</td>\n",
       "      <td>0.40</td>\n",
       "      <td>9.9</td>\n",
       "      <td>6</td>\n",
       "    </tr>\n",
       "    <tr>\n",
       "      <th>...</th>\n",
       "      <td>...</td>\n",
       "      <td>...</td>\n",
       "      <td>...</td>\n",
       "      <td>...</td>\n",
       "      <td>...</td>\n",
       "      <td>...</td>\n",
       "      <td>...</td>\n",
       "      <td>...</td>\n",
       "      <td>...</td>\n",
       "      <td>...</td>\n",
       "      <td>...</td>\n",
       "      <td>...</td>\n",
       "      <td>...</td>\n",
       "    </tr>\n",
       "    <tr>\n",
       "      <th>6492</th>\n",
       "      <td>red</td>\n",
       "      <td>6.2</td>\n",
       "      <td>0.600</td>\n",
       "      <td>0.08</td>\n",
       "      <td>2.0</td>\n",
       "      <td>0.090</td>\n",
       "      <td>32.0</td>\n",
       "      <td>44.0</td>\n",
       "      <td>0.99490</td>\n",
       "      <td>3.45</td>\n",
       "      <td>0.58</td>\n",
       "      <td>10.5</td>\n",
       "      <td>5</td>\n",
       "    </tr>\n",
       "    <tr>\n",
       "      <th>6493</th>\n",
       "      <td>red</td>\n",
       "      <td>5.9</td>\n",
       "      <td>0.550</td>\n",
       "      <td>0.10</td>\n",
       "      <td>2.2</td>\n",
       "      <td>0.062</td>\n",
       "      <td>39.0</td>\n",
       "      <td>51.0</td>\n",
       "      <td>0.99512</td>\n",
       "      <td>3.52</td>\n",
       "      <td>NaN</td>\n",
       "      <td>11.2</td>\n",
       "      <td>6</td>\n",
       "    </tr>\n",
       "    <tr>\n",
       "      <th>6494</th>\n",
       "      <td>red</td>\n",
       "      <td>6.3</td>\n",
       "      <td>0.510</td>\n",
       "      <td>0.13</td>\n",
       "      <td>2.3</td>\n",
       "      <td>0.076</td>\n",
       "      <td>29.0</td>\n",
       "      <td>40.0</td>\n",
       "      <td>0.99574</td>\n",
       "      <td>3.42</td>\n",
       "      <td>0.75</td>\n",
       "      <td>11.0</td>\n",
       "      <td>6</td>\n",
       "    </tr>\n",
       "    <tr>\n",
       "      <th>6495</th>\n",
       "      <td>red</td>\n",
       "      <td>5.9</td>\n",
       "      <td>0.645</td>\n",
       "      <td>0.12</td>\n",
       "      <td>2.0</td>\n",
       "      <td>0.075</td>\n",
       "      <td>32.0</td>\n",
       "      <td>44.0</td>\n",
       "      <td>0.99547</td>\n",
       "      <td>3.57</td>\n",
       "      <td>0.71</td>\n",
       "      <td>10.2</td>\n",
       "      <td>5</td>\n",
       "    </tr>\n",
       "    <tr>\n",
       "      <th>6496</th>\n",
       "      <td>red</td>\n",
       "      <td>6.0</td>\n",
       "      <td>0.310</td>\n",
       "      <td>0.47</td>\n",
       "      <td>3.6</td>\n",
       "      <td>0.067</td>\n",
       "      <td>18.0</td>\n",
       "      <td>42.0</td>\n",
       "      <td>0.99549</td>\n",
       "      <td>3.39</td>\n",
       "      <td>0.66</td>\n",
       "      <td>11.0</td>\n",
       "      <td>6</td>\n",
       "    </tr>\n",
       "  </tbody>\n",
       "</table>\n",
       "<p>6497 rows × 13 columns</p>\n",
       "</div>"
      ],
      "text/plain": [
       "       type  fixed acidity  volatile acidity  citric acid  residual sugar  \\\n",
       "0     white            7.0             0.270         0.36            20.7   \n",
       "1     white            6.3             0.300         0.34             1.6   \n",
       "2     white            8.1             0.280         0.40             6.9   \n",
       "3     white            7.2             0.230         0.32             8.5   \n",
       "4     white            7.2             0.230         0.32             8.5   \n",
       "...     ...            ...               ...          ...             ...   \n",
       "6492    red            6.2             0.600         0.08             2.0   \n",
       "6493    red            5.9             0.550         0.10             2.2   \n",
       "6494    red            6.3             0.510         0.13             2.3   \n",
       "6495    red            5.9             0.645         0.12             2.0   \n",
       "6496    red            6.0             0.310         0.47             3.6   \n",
       "\n",
       "      chlorides  free sulfur dioxide  total sulfur dioxide  density    pH  \\\n",
       "0         0.045                 45.0                 170.0  1.00100  3.00   \n",
       "1         0.049                 14.0                 132.0  0.99400  3.30   \n",
       "2         0.050                 30.0                  97.0  0.99510  3.26   \n",
       "3         0.058                 47.0                 186.0  0.99560  3.19   \n",
       "4         0.058                 47.0                 186.0  0.99560  3.19   \n",
       "...         ...                  ...                   ...      ...   ...   \n",
       "6492      0.090                 32.0                  44.0  0.99490  3.45   \n",
       "6493      0.062                 39.0                  51.0  0.99512  3.52   \n",
       "6494      0.076                 29.0                  40.0  0.99574  3.42   \n",
       "6495      0.075                 32.0                  44.0  0.99547  3.57   \n",
       "6496      0.067                 18.0                  42.0  0.99549  3.39   \n",
       "\n",
       "      sulphates  alcohol  quality  \n",
       "0          0.45      8.8        6  \n",
       "1          0.49      9.5        6  \n",
       "2          0.44     10.1        6  \n",
       "3          0.40      9.9        6  \n",
       "4          0.40      9.9        6  \n",
       "...         ...      ...      ...  \n",
       "6492       0.58     10.5        5  \n",
       "6493        NaN     11.2        6  \n",
       "6494       0.75     11.0        6  \n",
       "6495       0.71     10.2        5  \n",
       "6496       0.66     11.0        6  \n",
       "\n",
       "[6497 rows x 13 columns]"
      ]
     },
     "execution_count": 68,
     "metadata": {},
     "output_type": "execute_result"
    }
   ],
   "source": [
    "data"
   ]
  },
  {
   "cell_type": "code",
   "execution_count": 69,
   "id": "547e3fa2",
   "metadata": {},
   "outputs": [
    {
     "data": {
      "text/plain": [
       "0       0.270\n",
       "1       0.300\n",
       "2       0.280\n",
       "3       0.230\n",
       "4       0.230\n",
       "        ...  \n",
       "6492    0.600\n",
       "6493    0.550\n",
       "6494    0.510\n",
       "6495    0.645\n",
       "6496    0.310\n",
       "Name: volatile acidity, Length: 6497, dtype: float64"
      ]
     },
     "execution_count": 69,
     "metadata": {},
     "output_type": "execute_result"
    }
   ],
   "source": [
    "data[\"volatile acidity\"]"
   ]
  },
  {
   "cell_type": "code",
   "execution_count": 70,
   "id": "62ea4bf3",
   "metadata": {},
   "outputs": [
    {
     "data": {
      "text/plain": [
       "<AxesSubplot:xlabel='volatile acidity', ylabel='Density'>"
      ]
     },
     "execution_count": 70,
     "metadata": {},
     "output_type": "execute_result"
    },
    {
     "data": {
      "image/png": "[encoded data removed]",
      "text/plain": [
       "<Figure size 432x288 with 1 Axes>"
      ]
     },
     "metadata": {
      "needs_background": "light"
     },
     "output_type": "display_data"
    }
   ],
   "source": [
    "import seaborn as sns\n",
    "sns.distplot(data[\"volatile acidity\"],kde=True)"
   ]
  },
  {
   "cell_type": "code",
   "execution_count": 71,
   "id": "293a3f11",
   "metadata": {},
   "outputs": [
    {
     "data": {
      "text/plain": [
       "<AxesSubplot:xlabel='citric acid', ylabel='Density'>"
      ]
     },
     "execution_count": 71,
     "metadata": {},
     "output_type": "execute_result"
    },
    {
     "data": {
      "image/png": "[encoded data removed]",
      "text/plain": [
       "<Figure size 432x288 with 1 Axes>"
      ]
     },
     "metadata": {
      "needs_background": "light"
     },
     "output_type": "display_data"
    }
   ],
   "source": [
    "import seaborn as sns\n",
    "sns.distplot(data[\"citric acid\"],kde=True)"
   ]
  },
  {
   "cell_type": "code",
   "execution_count": 72,
   "id": "a73d62f0",
   "metadata": {},
   "outputs": [
    {
     "name": "stderr",
     "output_type": "stream",
     "text": [
      "C:\\Users\\Admin\\anaconda3\\lib\\site-packages\\scipy\\stats\\morestats.py:1760: UserWarning: p-value may not be accurate for N > 5000.\n",
      "  warnings.warn(\"p-value may not be accurate for N > 5000.\")\n"
     ]
    },
    {
     "data": {
      "text/plain": [
       "ShapiroResult(statistic=nan, pvalue=1.0)"
      ]
     },
     "execution_count": 72,
     "metadata": {},
     "output_type": "execute_result"
    }
   ],
   "source": [
    "#these are not normaly distributed.\n",
    "from scipy import stats\n",
    "stats.shapiro(data[\"volatile acidity\"])  #ShapiroResult(statistic=0.9743338823318481, pvalue=2.686385373947307e-16)"
   ]
  },
  {
   "cell_type": "code",
   "execution_count": 73,
   "id": "fea4cf9d",
   "metadata": {},
   "outputs": [
    {
     "data": {
      "text/plain": [
       "ShapiroResult(statistic=nan, pvalue=1.0)"
      ]
     },
     "execution_count": 73,
     "metadata": {},
     "output_type": "execute_result"
    }
   ],
   "source": [
    "stats.shapiro(data[\"citric acid\"])   #ShapiroResult(statistic=0.955294668674469, pvalue=1.0233944777578548e-21)"
   ]
  },
  {
   "cell_type": "code",
   "execution_count": 74,
   "id": "37502bfb",
   "metadata": {},
   "outputs": [],
   "source": [
    "from numpy.random import randn\n",
    "mydata=randn(100)"
   ]
  },
  {
   "cell_type": "code",
   "execution_count": 75,
   "id": "b4eaf918",
   "metadata": {},
   "outputs": [
    {
     "data": {
      "text/plain": [
       "<AxesSubplot:ylabel='Density'>"
      ]
     },
     "execution_count": 75,
     "metadata": {},
     "output_type": "execute_result"
    },
    {
     "data": {
      "image/png": "[encoded data removed]",
      "text/plain": [
       "<Figure size 432x288 with 1 Axes>"
      ]
     },
     "metadata": {
      "needs_background": "light"
     },
     "output_type": "display_data"
    }
   ],
   "source": [
    "sns.distplot(mydata)"
   ]
  },
  {
   "cell_type": "code",
   "execution_count": 76,
   "id": "94bb7a93",
   "metadata": {},
   "outputs": [],
   "source": [
    "result = stats.shapiro(mydata)"
   ]
  },
  {
   "cell_type": "code",
   "execution_count": 77,
   "id": "42b71278",
   "metadata": {},
   "outputs": [
    {
     "data": {
      "text/plain": [
       "ShapiroResult(statistic=0.9818509817123413, pvalue=0.1848096400499344)"
      ]
     },
     "execution_count": 77,
     "metadata": {},
     "output_type": "execute_result"
    }
   ],
   "source": [
    "result"
   ]
  },
  {
   "cell_type": "code",
   "execution_count": 78,
   "id": "85011072",
   "metadata": {},
   "outputs": [],
   "source": [
    "p = result[1]"
   ]
  },
  {
   "cell_type": "code",
   "execution_count": 79,
   "id": "d6971b51",
   "metadata": {},
   "outputs": [
    {
     "data": {
      "text/plain": [
       "0.1848096400499344"
      ]
     },
     "execution_count": 79,
     "metadata": {},
     "output_type": "execute_result"
    }
   ],
   "source": [
    "p"
   ]
  },
  {
   "cell_type": "code",
   "execution_count": 80,
   "id": "c766b77f",
   "metadata": {},
   "outputs": [],
   "source": [
    "#Null hypothesis H0 = data distributed in normal.\n",
    "#Alternate hypothesis H1 = data id not distributes normal."
   ]
  },
  {
   "cell_type": "code",
   "execution_count": 81,
   "id": "0a80605e",
   "metadata": {},
   "outputs": [
    {
     "name": "stdout",
     "output_type": "stream",
     "text": [
      "We do not reject null hypothesis\n"
     ]
    }
   ],
   "source": [
    "if p < 0.05:\n",
    "    print(\"Reject the null hypothesis\")\n",
    "else:\n",
    "    print(\"We do not reject null hypothesis\")"
   ]
  },
  {
   "cell_type": "code",
   "execution_count": 82,
   "id": "8822f142",
   "metadata": {},
   "outputs": [
    {
     "name": "stderr",
     "output_type": "stream",
     "text": [
      "C:\\Users\\Admin\\anaconda3\\lib\\site-packages\\scipy\\stats\\morestats.py:1760: UserWarning: p-value may not be accurate for N > 5000.\n",
      "  warnings.warn(\"p-value may not be accurate for N > 5000.\")\n"
     ]
    },
    {
     "data": {
      "text/plain": [
       "ShapiroResult(statistic=nan, pvalue=1.0)"
      ]
     },
     "execution_count": 82,
     "metadata": {},
     "output_type": "execute_result"
    }
   ],
   "source": [
    "import scipy\n",
    "scipy.stats.shapiro(data[\"citric acid\"])"
   ]
  },
  {
   "cell_type": "code",
   "execution_count": 83,
   "id": "9599806d",
   "metadata": {},
   "outputs": [],
   "source": [
    "import numpy as np\n",
    "A = np.random.randn(500)"
   ]
  },
  {
   "cell_type": "code",
   "execution_count": 84,
   "id": "c0a219ad",
   "metadata": {},
   "outputs": [
    {
     "data": {
      "text/plain": [
       "<AxesSubplot:ylabel='Density'>"
      ]
     },
     "execution_count": 84,
     "metadata": {},
     "output_type": "execute_result"
    },
    {
     "data": {
      "image/png": "[encoded data removed]",
      "text/plain": [
       "<Figure size 432x288 with 1 Axes>"
      ]
     },
     "metadata": {
      "needs_background": "light"
     },
     "output_type": "display_data"
    }
   ],
   "source": [
    "sns.distplot(A)"
   ]
  },
  {
   "cell_type": "markdown",
   "id": "e4d3ec6d",
   "metadata": {},
   "source": [
    "# Z-test :Real question"
   ]
  },
  {
   "cell_type": "raw",
   "id": "5837129a",
   "metadata": {},
   "source": [
    "Que-The avarege height of all resident in any city is 168 with standared deviation 3.9 belive the mean to be different.\n",
    "he measured the height 36 individuals and found the avarage heaight to be 169.5\n",
    "1.state null and alternate hypothesis\n",
    "2.at a 95% confidance level is there enough evidance to reject the nulll hypothesis"
   ]
  },
  {
   "cell_type": "code",
   "execution_count": 85,
   "id": "5c2d0230",
   "metadata": {},
   "outputs": [],
   "source": [
    "#Given\n",
    "population_mean = 168\n",
    "std = 3.9\n",
    "sample_mean = 169.5"
   ]
  },
  {
   "cell_type": "code",
   "execution_count": 86,
   "id": "aeb72b7d",
   "metadata": {},
   "outputs": [],
   "source": [
    "#we have not proper data sheet therefore we need to consider or make an data set.\n",
    "#we multiply here because of we want mean approx. 168\n",
    "\n",
    "Q = randn(50) * std + population_mean"
   ]
  },
  {
   "cell_type": "code",
   "execution_count": 87,
   "id": "36958578",
   "metadata": {},
   "outputs": [
    {
     "data": {
      "text/plain": [
       "167.58341580026288"
      ]
     },
     "execution_count": 87,
     "metadata": {},
     "output_type": "execute_result"
    }
   ],
   "source": [
    "np.mean(Q)"
   ]
  },
  {
   "cell_type": "code",
   "execution_count": 88,
   "id": "322455ba",
   "metadata": {},
   "outputs": [
    {
     "data": {
      "text/plain": [
       "4.294283987956748"
      ]
     },
     "execution_count": 88,
     "metadata": {},
     "output_type": "execute_result"
    }
   ],
   "source": [
    "np.std(Q)"
   ]
  },
  {
   "cell_type": "code",
   "execution_count": 89,
   "id": "8d03c184",
   "metadata": {},
   "outputs": [],
   "source": [
    "null_mean = 168"
   ]
  },
  {
   "cell_type": "code",
   "execution_count": 90,
   "id": "afc5d312",
   "metadata": {},
   "outputs": [],
   "source": [
    "from statsmodels.stats.weightstats import ztest\n",
    "z_score,p_value=ztest(Q,value=null_mean,alternative=\"larger\")"
   ]
  },
  {
   "cell_type": "code",
   "execution_count": 91,
   "id": "9cf21aa9",
   "metadata": {},
   "outputs": [
    {
     "data": {
      "text/plain": [
       "-0.6790630070898755"
      ]
     },
     "execution_count": 91,
     "metadata": {},
     "output_type": "execute_result"
    }
   ],
   "source": [
    "z_score"
   ]
  },
  {
   "cell_type": "code",
   "execution_count": 92,
   "id": "1e5408a7",
   "metadata": {},
   "outputs": [
    {
     "data": {
      "text/plain": [
       "0.7514510297553141"
      ]
     },
     "execution_count": 92,
     "metadata": {},
     "output_type": "execute_result"
    }
   ],
   "source": [
    "p_value"
   ]
  },
  {
   "cell_type": "code",
   "execution_count": 93,
   "id": "12a7bbf4",
   "metadata": {},
   "outputs": [],
   "source": [
    "#C.I = 0.95 because confidence level is 95%\n",
    "Alpha = 0.05"
   ]
  },
  {
   "cell_type": "code",
   "execution_count": 94,
   "id": "641064c9",
   "metadata": {},
   "outputs": [
    {
     "name": "stdout",
     "output_type": "stream",
     "text": [
      "We do not reject null hypothesis\n"
     ]
    }
   ],
   "source": [
    "if p_value < Alpha:\n",
    "    print(\"We reject null hypothesis\")\n",
    "else :\n",
    "    print(\"We do not reject null hypothesis\")"
   ]
  },
  {
   "cell_type": "markdown",
   "id": "68807df7",
   "metadata": {},
   "source": [
    "# T-test"
   ]
  },
  {
   "cell_type": "code",
   "execution_count": 95,
   "id": "2f230486",
   "metadata": {},
   "outputs": [],
   "source": [
    "# Z-test Vs T-test"
   ]
  },
  {
   "cell_type": "raw",
   "id": "37fb6931",
   "metadata": {},
   "source": [
    "One sample t-test(with respect to one independent sample)\n",
    "\n",
    "Two sample t-test(with repect to two independent sample)\n",
    "\n",
    "Pair t-test(two sample from the sample population on different time interval)"
   ]
  },
  {
   "cell_type": "code",
   "execution_count": 96,
   "id": "9b3923e7",
   "metadata": {},
   "outputs": [
    {
     "data": {
      "text/plain": [
       "array([14, 31, 14, 29, 27, 44, 31, 26, 42, 33, 42, 24, 30, 42, 43, 44, 18,\n",
       "       13, 40, 33, 15, 37, 12, 15, 44, 34, 48, 26, 27, 32, 40, 47, 17, 11,\n",
       "       25, 28, 32, 42, 21, 37, 29, 31, 44, 12, 35, 45, 44, 14, 27, 36])"
      ]
     },
     "execution_count": 96,
     "metadata": {},
     "output_type": "execute_result"
    }
   ],
   "source": [
    "import random\n",
    "import numpy as np\n",
    "np.random.randint(10,50,50)"
   ]
  },
  {
   "cell_type": "code",
   "execution_count": 97,
   "id": "5572960b",
   "metadata": {},
   "outputs": [],
   "source": [
    "N = np.random.randint(10,50,50)"
   ]
  },
  {
   "cell_type": "code",
   "execution_count": 98,
   "id": "8ed81135",
   "metadata": {},
   "outputs": [],
   "source": [
    "sample1 = np.random.choice(N,20)"
   ]
  },
  {
   "cell_type": "code",
   "execution_count": 99,
   "id": "34ddd489",
   "metadata": {},
   "outputs": [
    {
     "data": {
      "text/plain": [
       "array([44, 11, 16, 37, 35, 19, 34, 42, 44, 15, 15, 12, 37, 37, 12, 44, 15,\n",
       "       20, 26, 38])"
      ]
     },
     "execution_count": 99,
     "metadata": {},
     "output_type": "execute_result"
    }
   ],
   "source": [
    "sample1"
   ]
  },
  {
   "cell_type": "code",
   "execution_count": 100,
   "id": "e39581b8",
   "metadata": {},
   "outputs": [],
   "source": [
    "sample2 = np.random.choice(N,20)"
   ]
  },
  {
   "cell_type": "code",
   "execution_count": 101,
   "id": "d066d43b",
   "metadata": {},
   "outputs": [
    {
     "data": {
      "text/plain": [
       "array([45, 25, 45, 22, 48, 15, 31, 31, 20, 38, 37, 14, 31, 14, 26, 16, 19,\n",
       "       39, 41, 16])"
      ]
     },
     "execution_count": 101,
     "metadata": {},
     "output_type": "execute_result"
    }
   ],
   "source": [
    "sample2"
   ]
  },
  {
   "cell_type": "code",
   "execution_count": 102,
   "id": "974ffe97",
   "metadata": {},
   "outputs": [],
   "source": [
    "score1 = [22, 23, 43, 44, 32, 42, 25, 41, 42, 22, 13, 26, 16, 17, 39, 43, 46, 16, 29, 49]"
   ]
  },
  {
   "cell_type": "code",
   "execution_count": 103,
   "id": "0058ea52",
   "metadata": {},
   "outputs": [],
   "source": [
    "score2 = [32, 14, 28, 23, 13, 16, 12, 22, 46, 32, 13, 20, 41, 14, 43, 14, 39, 45, 46, 34]"
   ]
  },
  {
   "cell_type": "code",
   "execution_count": 104,
   "id": "af4d61be",
   "metadata": {},
   "outputs": [
    {
     "data": {
      "text/plain": [
       "31.5"
      ]
     },
     "execution_count": 104,
     "metadata": {},
     "output_type": "execute_result"
    }
   ],
   "source": [
    "np.mean(score1)"
   ]
  },
  {
   "cell_type": "code",
   "execution_count": 105,
   "id": "5adc29b2",
   "metadata": {},
   "outputs": [
    {
     "data": {
      "text/plain": [
       "27.35"
      ]
     },
     "execution_count": 105,
     "metadata": {},
     "output_type": "execute_result"
    }
   ],
   "source": [
    "np.mean(score2)"
   ]
  },
  {
   "cell_type": "raw",
   "id": "3e9f76e3",
   "metadata": {},
   "source": [
    "null_hypothesis = sample mean should be 31.5"
   ]
  },
  {
   "cell_type": "code",
   "execution_count": 106,
   "id": "0c146bdc",
   "metadata": {},
   "outputs": [
    {
     "data": {
      "text/plain": [
       "Ttest_1sampResult(statistic=5.848563500284514, pvalue=1.2401303105216831e-05)"
      ]
     },
     "execution_count": 106,
     "metadata": {},
     "output_type": "execute_result"
    }
   ],
   "source": [
    "import scipy\n",
    "scipy.stats.ttest_1samp(score1,16)"
   ]
  },
  {
   "cell_type": "code",
   "execution_count": 107,
   "id": "63892e76",
   "metadata": {},
   "outputs": [
    {
     "data": {
      "text/plain": [
       "False"
      ]
     },
     "execution_count": 107,
     "metadata": {},
     "output_type": "execute_result"
    }
   ],
   "source": [
    "# we are going to reject the null hypothesis\n",
    "p_value <= 0.05"
   ]
  },
  {
   "cell_type": "code",
   "execution_count": 108,
   "id": "0cd9b0e4",
   "metadata": {},
   "outputs": [
    {
     "data": {
      "text/plain": [
       "True"
      ]
     },
     "execution_count": 108,
     "metadata": {},
     "output_type": "execute_result"
    }
   ],
   "source": [
    "# if p_value we are going to accept the null hypothesis\n",
    "p_value > 0.05"
   ]
  },
  {
   "cell_type": "code",
   "execution_count": 109,
   "id": "cc204e2a",
   "metadata": {},
   "outputs": [],
   "source": [
    "#Two sample t-test\n",
    "my_cricket_score = [42, 33, 43, 44, 32, 42, 25, 41, 42, 42, 43, 46, 16, 17, 39, 43, 46, 16, 29, 49]\n",
    "\n",
    "msd_cricket_score = [32, 14, 28, 23, 13, 16, 12, 22, 46, 32, 13, 20, 41, 14, 43, 14, 39, 45, 46, 34]"
   ]
  },
  {
   "cell_type": "code",
   "execution_count": 110,
   "id": "f7b2eae4",
   "metadata": {},
   "outputs": [],
   "source": [
    "first_sample_mean = np.mean(my_cricket_score)\n",
    "second_sample_mean = np.mean(msd_cricket_score)"
   ]
  },
  {
   "cell_type": "code",
   "execution_count": 111,
   "id": "00ffe4f8",
   "metadata": {},
   "outputs": [
    {
     "name": "stdout",
     "output_type": "stream",
     "text": [
      "My cricket score sample mean :36.5\n",
      "MSD cricket score sample mean :27.35\n"
     ]
    }
   ],
   "source": [
    "print(f\"My cricket score sample mean :{first_sample_mean}\")\n",
    "print(f\"MSD cricket score sample mean :{second_sample_mean}\")"
   ]
  },
  {
   "cell_type": "raw",
   "id": "1baa9c61",
   "metadata": {},
   "source": [
    "my_null_hypothesis = both sample mean will be same"
   ]
  },
  {
   "cell_type": "code",
   "execution_count": 112,
   "id": "5ebbd39b",
   "metadata": {},
   "outputs": [],
   "source": [
    "#if difference is more than we reject null assumption."
   ]
  },
  {
   "cell_type": "code",
   "execution_count": 113,
   "id": "f0d839b7",
   "metadata": {},
   "outputs": [
    {
     "data": {
      "text/plain": [
       "Ttest_indResult(statistic=2.4774177584516264, pvalue=0.017795686889263185)"
      ]
     },
     "execution_count": 113,
     "metadata": {},
     "output_type": "execute_result"
    }
   ],
   "source": [
    "scipy.stats.ttest_ind(my_cricket_score,msd_cricket_score)"
   ]
  },
  {
   "cell_type": "code",
   "execution_count": 114,
   "id": "ccedc3c0",
   "metadata": {},
   "outputs": [
    {
     "data": {
      "text/plain": [
       "False"
      ]
     },
     "execution_count": 114,
     "metadata": {},
     "output_type": "execute_result"
    }
   ],
   "source": [
    "# we are going to reject the null hypothesis\n",
    "p_value <= 0.05"
   ]
  },
  {
   "cell_type": "code",
   "execution_count": 115,
   "id": "947e568a",
   "metadata": {},
   "outputs": [
    {
     "data": {
      "text/plain": [
       "True"
      ]
     },
     "execution_count": 115,
     "metadata": {},
     "output_type": "execute_result"
    }
   ],
   "source": [
    "# if p_value we are going to accept the null hypothesis\n",
    "p_value > 0.05"
   ]
  },
  {
   "cell_type": "markdown",
   "id": "f175a53d",
   "metadata": {},
   "source": [
    "## Pair t_test"
   ]
  },
  {
   "cell_type": "code",
   "execution_count": 116,
   "id": "af5e6b52",
   "metadata": {},
   "outputs": [],
   "source": [
    "my_cricket_score_from_first_inning =[42, 33, 43, 44, 32, 42, 25, 41, 42, 42, 43, 46, 16, 17, 39, 43, 46, 16, 29, 49]\n",
    "my_cricket_score_from_second_inning=[42, 23, 43, 44, 32, 22, 25, 41, 22, 42, 43, 26, 16, 17, 39, 43, 46, 16, 29, 49]"
   ]
  },
  {
   "cell_type": "code",
   "execution_count": 117,
   "id": "ef09ef46",
   "metadata": {},
   "outputs": [
    {
     "data": {
      "text/plain": [
       "36.5"
      ]
     },
     "execution_count": 117,
     "metadata": {},
     "output_type": "execute_result"
    }
   ],
   "source": [
    "np.mean(my_cricket_score_from_first_inning)"
   ]
  },
  {
   "cell_type": "code",
   "execution_count": 118,
   "id": "314f44f9",
   "metadata": {},
   "outputs": [
    {
     "data": {
      "text/plain": [
       "33.0"
      ]
     },
     "execution_count": 118,
     "metadata": {},
     "output_type": "execute_result"
    }
   ],
   "source": [
    "np.mean(my_cricket_score_from_second_inning)"
   ]
  },
  {
   "cell_type": "code",
   "execution_count": 119,
   "id": "2a47967d",
   "metadata": {},
   "outputs": [
    {
     "data": {
      "text/plain": [
       "Ttest_relResult(statistic=2.100552849818713, pvalue=0.049260429543127364)"
      ]
     },
     "execution_count": 119,
     "metadata": {},
     "output_type": "execute_result"
    }
   ],
   "source": [
    "scipy.stats.ttest_rel(my_cricket_score_from_first_inning, my_cricket_score_from_second_inning)"
   ]
  },
  {
   "cell_type": "markdown",
   "id": "04fc4595",
   "metadata": {},
   "source": [
    "# Chi-square test"
   ]
  },
  {
   "cell_type": "code",
   "execution_count": 120,
   "id": "20691059",
   "metadata": {},
   "outputs": [],
   "source": [
    "#chi-square we use for categorical data"
   ]
  },
  {
   "cell_type": "code",
   "execution_count": 121,
   "id": "ddb591f5",
   "metadata": {},
   "outputs": [],
   "source": [
    "import seaborn as sns\n",
    "dataset = sns.load_dataset(\"tips\")"
   ]
  },
  {
   "cell_type": "code",
   "execution_count": 122,
   "id": "94a19c46",
   "metadata": {},
   "outputs": [
    {
     "data": {
      "text/html": [
       "<div>\n",
       "<style scoped>\n",
       "    .dataframe tbody tr th:only-of-type {\n",
       "        vertical-align: middle;\n",
       "    }\n",
       "\n",
       "    .dataframe tbody tr th {\n",
       "        vertical-align: top;\n",
       "    }\n",
       "\n",
       "    .dataframe thead th {\n",
       "        text-align: right;\n",
       "    }\n",
       "</style>\n",
       "<table border=\"1\" class=\"dataframe\">\n",
       "  <thead>\n",
       "    <tr style=\"text-align: right;\">\n",
       "      <th></th>\n",
       "      <th>total_bill</th>\n",
       "      <th>tip</th>\n",
       "      <th>sex</th>\n",
       "      <th>smoker</th>\n",
       "      <th>day</th>\n",
       "      <th>time</th>\n",
       "      <th>size</th>\n",
       "    </tr>\n",
       "  </thead>\n",
       "  <tbody>\n",
       "    <tr>\n",
       "      <th>0</th>\n",
       "      <td>16.99</td>\n",
       "      <td>1.01</td>\n",
       "      <td>Female</td>\n",
       "      <td>No</td>\n",
       "      <td>Sun</td>\n",
       "      <td>Dinner</td>\n",
       "      <td>2</td>\n",
       "    </tr>\n",
       "    <tr>\n",
       "      <th>1</th>\n",
       "      <td>10.34</td>\n",
       "      <td>1.66</td>\n",
       "      <td>Male</td>\n",
       "      <td>No</td>\n",
       "      <td>Sun</td>\n",
       "      <td>Dinner</td>\n",
       "      <td>3</td>\n",
       "    </tr>\n",
       "    <tr>\n",
       "      <th>2</th>\n",
       "      <td>21.01</td>\n",
       "      <td>3.50</td>\n",
       "      <td>Male</td>\n",
       "      <td>No</td>\n",
       "      <td>Sun</td>\n",
       "      <td>Dinner</td>\n",
       "      <td>3</td>\n",
       "    </tr>\n",
       "    <tr>\n",
       "      <th>3</th>\n",
       "      <td>23.68</td>\n",
       "      <td>3.31</td>\n",
       "      <td>Male</td>\n",
       "      <td>No</td>\n",
       "      <td>Sun</td>\n",
       "      <td>Dinner</td>\n",
       "      <td>2</td>\n",
       "    </tr>\n",
       "    <tr>\n",
       "      <th>4</th>\n",
       "      <td>24.59</td>\n",
       "      <td>3.61</td>\n",
       "      <td>Female</td>\n",
       "      <td>No</td>\n",
       "      <td>Sun</td>\n",
       "      <td>Dinner</td>\n",
       "      <td>4</td>\n",
       "    </tr>\n",
       "    <tr>\n",
       "      <th>...</th>\n",
       "      <td>...</td>\n",
       "      <td>...</td>\n",
       "      <td>...</td>\n",
       "      <td>...</td>\n",
       "      <td>...</td>\n",
       "      <td>...</td>\n",
       "      <td>...</td>\n",
       "    </tr>\n",
       "    <tr>\n",
       "      <th>239</th>\n",
       "      <td>29.03</td>\n",
       "      <td>5.92</td>\n",
       "      <td>Male</td>\n",
       "      <td>No</td>\n",
       "      <td>Sat</td>\n",
       "      <td>Dinner</td>\n",
       "      <td>3</td>\n",
       "    </tr>\n",
       "    <tr>\n",
       "      <th>240</th>\n",
       "      <td>27.18</td>\n",
       "      <td>2.00</td>\n",
       "      <td>Female</td>\n",
       "      <td>Yes</td>\n",
       "      <td>Sat</td>\n",
       "      <td>Dinner</td>\n",
       "      <td>2</td>\n",
       "    </tr>\n",
       "    <tr>\n",
       "      <th>241</th>\n",
       "      <td>22.67</td>\n",
       "      <td>2.00</td>\n",
       "      <td>Male</td>\n",
       "      <td>Yes</td>\n",
       "      <td>Sat</td>\n",
       "      <td>Dinner</td>\n",
       "      <td>2</td>\n",
       "    </tr>\n",
       "    <tr>\n",
       "      <th>242</th>\n",
       "      <td>17.82</td>\n",
       "      <td>1.75</td>\n",
       "      <td>Male</td>\n",
       "      <td>No</td>\n",
       "      <td>Sat</td>\n",
       "      <td>Dinner</td>\n",
       "      <td>2</td>\n",
       "    </tr>\n",
       "    <tr>\n",
       "      <th>243</th>\n",
       "      <td>18.78</td>\n",
       "      <td>3.00</td>\n",
       "      <td>Female</td>\n",
       "      <td>No</td>\n",
       "      <td>Thur</td>\n",
       "      <td>Dinner</td>\n",
       "      <td>2</td>\n",
       "    </tr>\n",
       "  </tbody>\n",
       "</table>\n",
       "<p>244 rows × 7 columns</p>\n",
       "</div>"
      ],
      "text/plain": [
       "     total_bill   tip     sex smoker   day    time  size\n",
       "0         16.99  1.01  Female     No   Sun  Dinner     2\n",
       "1         10.34  1.66    Male     No   Sun  Dinner     3\n",
       "2         21.01  3.50    Male     No   Sun  Dinner     3\n",
       "3         23.68  3.31    Male     No   Sun  Dinner     2\n",
       "4         24.59  3.61  Female     No   Sun  Dinner     4\n",
       "..          ...   ...     ...    ...   ...     ...   ...\n",
       "239       29.03  5.92    Male     No   Sat  Dinner     3\n",
       "240       27.18  2.00  Female    Yes   Sat  Dinner     2\n",
       "241       22.67  2.00    Male    Yes   Sat  Dinner     2\n",
       "242       17.82  1.75    Male     No   Sat  Dinner     2\n",
       "243       18.78  3.00  Female     No  Thur  Dinner     2\n",
       "\n",
       "[244 rows x 7 columns]"
      ]
     },
     "execution_count": 122,
     "metadata": {},
     "output_type": "execute_result"
    }
   ],
   "source": [
    "dataset"
   ]
  },
  {
   "cell_type": "code",
   "execution_count": 123,
   "id": "f7f01e40",
   "metadata": {},
   "outputs": [
    {
     "name": "stdout",
     "output_type": "stream",
     "text": [
      "<class 'pandas.core.frame.DataFrame'>\n",
      "RangeIndex: 244 entries, 0 to 243\n",
      "Data columns (total 7 columns):\n",
      " #   Column      Non-Null Count  Dtype   \n",
      "---  ------      --------------  -----   \n",
      " 0   total_bill  244 non-null    float64 \n",
      " 1   tip         244 non-null    float64 \n",
      " 2   sex         244 non-null    category\n",
      " 3   smoker      244 non-null    category\n",
      " 4   day         244 non-null    category\n",
      " 5   time        244 non-null    category\n",
      " 6   size        244 non-null    int64   \n",
      "dtypes: category(4), float64(2), int64(1)\n",
      "memory usage: 7.4 KB\n"
     ]
    }
   ],
   "source": [
    "dataset.info()"
   ]
  },
  {
   "cell_type": "code",
   "execution_count": 124,
   "id": "e6df0ca4",
   "metadata": {},
   "outputs": [
    {
     "data": {
      "text/plain": [
       "Index(['total_bill', 'tip', 'sex', 'smoker', 'day', 'time', 'size'], dtype='object')"
      ]
     },
     "execution_count": 124,
     "metadata": {},
     "output_type": "execute_result"
    }
   ],
   "source": [
    "dataset.columns"
   ]
  },
  {
   "cell_type": "code",
   "execution_count": 125,
   "id": "f02444bd",
   "metadata": {},
   "outputs": [
    {
     "data": {
      "text/html": [
       "<div>\n",
       "<style scoped>\n",
       "    .dataframe tbody tr th:only-of-type {\n",
       "        vertical-align: middle;\n",
       "    }\n",
       "\n",
       "    .dataframe tbody tr th {\n",
       "        vertical-align: top;\n",
       "    }\n",
       "\n",
       "    .dataframe thead th {\n",
       "        text-align: right;\n",
       "    }\n",
       "</style>\n",
       "<table border=\"1\" class=\"dataframe\">\n",
       "  <thead>\n",
       "    <tr style=\"text-align: right;\">\n",
       "      <th></th>\n",
       "      <th>sex</th>\n",
       "      <th>smoker</th>\n",
       "    </tr>\n",
       "  </thead>\n",
       "  <tbody>\n",
       "    <tr>\n",
       "      <th>0</th>\n",
       "      <td>Female</td>\n",
       "      <td>No</td>\n",
       "    </tr>\n",
       "    <tr>\n",
       "      <th>1</th>\n",
       "      <td>Male</td>\n",
       "      <td>No</td>\n",
       "    </tr>\n",
       "    <tr>\n",
       "      <th>2</th>\n",
       "      <td>Male</td>\n",
       "      <td>No</td>\n",
       "    </tr>\n",
       "    <tr>\n",
       "      <th>3</th>\n",
       "      <td>Male</td>\n",
       "      <td>No</td>\n",
       "    </tr>\n",
       "    <tr>\n",
       "      <th>4</th>\n",
       "      <td>Female</td>\n",
       "      <td>No</td>\n",
       "    </tr>\n",
       "    <tr>\n",
       "      <th>...</th>\n",
       "      <td>...</td>\n",
       "      <td>...</td>\n",
       "    </tr>\n",
       "    <tr>\n",
       "      <th>239</th>\n",
       "      <td>Male</td>\n",
       "      <td>No</td>\n",
       "    </tr>\n",
       "    <tr>\n",
       "      <th>240</th>\n",
       "      <td>Female</td>\n",
       "      <td>Yes</td>\n",
       "    </tr>\n",
       "    <tr>\n",
       "      <th>241</th>\n",
       "      <td>Male</td>\n",
       "      <td>Yes</td>\n",
       "    </tr>\n",
       "    <tr>\n",
       "      <th>242</th>\n",
       "      <td>Male</td>\n",
       "      <td>No</td>\n",
       "    </tr>\n",
       "    <tr>\n",
       "      <th>243</th>\n",
       "      <td>Female</td>\n",
       "      <td>No</td>\n",
       "    </tr>\n",
       "  </tbody>\n",
       "</table>\n",
       "<p>244 rows × 2 columns</p>\n",
       "</div>"
      ],
      "text/plain": [
       "        sex smoker\n",
       "0    Female     No\n",
       "1      Male     No\n",
       "2      Male     No\n",
       "3      Male     No\n",
       "4    Female     No\n",
       "..      ...    ...\n",
       "239    Male     No\n",
       "240  Female    Yes\n",
       "241    Male    Yes\n",
       "242    Male     No\n",
       "243  Female     No\n",
       "\n",
       "[244 rows x 2 columns]"
      ]
     },
     "execution_count": 125,
     "metadata": {},
     "output_type": "execute_result"
    }
   ],
   "source": [
    "dataset[['sex','smoker']]"
   ]
  },
  {
   "cell_type": "code",
   "execution_count": 126,
   "id": "2ed5be61",
   "metadata": {},
   "outputs": [],
   "source": [
    "dataset_table = pd.crosstab(dataset[\"sex\"],dataset['smoker'])"
   ]
  },
  {
   "cell_type": "code",
   "execution_count": 127,
   "id": "a39f2e03",
   "metadata": {},
   "outputs": [
    {
     "data": {
      "text/plain": [
       "array([[60, 97],\n",
       "       [33, 54]], dtype=int64)"
      ]
     },
     "execution_count": 127,
     "metadata": {},
     "output_type": "execute_result"
    }
   ],
   "source": [
    "dataset_table.values #observered value"
   ]
  },
  {
   "cell_type": "code",
   "execution_count": 128,
   "id": "d947873f",
   "metadata": {},
   "outputs": [],
   "source": [
    "dataset_array = dataset_table.values"
   ]
  },
  {
   "cell_type": "code",
   "execution_count": 129,
   "id": "89fa138a",
   "metadata": {},
   "outputs": [
    {
     "name": "stdout",
     "output_type": "stream",
     "text": [
      "Our observed value(real value)\n",
      " [[60 97]\n",
      " [33 54]]\n"
     ]
    }
   ],
   "source": [
    "print(f\"Our observed value(real value)\\n {dataset_array}\")"
   ]
  },
  {
   "cell_type": "code",
   "execution_count": 130,
   "id": "8ab1c4d0",
   "metadata": {},
   "outputs": [],
   "source": [
    "#contingency\n",
    "import scipy.stats as stats"
   ]
  },
  {
   "cell_type": "code",
   "execution_count": 131,
   "id": "ee813645",
   "metadata": {},
   "outputs": [
    {
     "data": {
      "text/plain": [
       "(0.0,\n",
       " 1.0,\n",
       " 1,\n",
       " array([[59.84016393, 97.15983607],\n",
       "        [33.15983607, 53.84016393]]))"
      ]
     },
     "execution_count": 131,
     "metadata": {},
     "output_type": "execute_result"
    }
   ],
   "source": [
    "stats.chi2_contingency(dataset_array)"
   ]
  },
  {
   "cell_type": "code",
   "execution_count": 132,
   "id": "6ecbbb9d",
   "metadata": {},
   "outputs": [],
   "source": [
    "# upper satement give me 4 value i.e stats_test, p, dof, expected_value."
   ]
  },
  {
   "cell_type": "code",
   "execution_count": 133,
   "id": "b720ec6c",
   "metadata": {},
   "outputs": [],
   "source": [
    "stats_test, p, dof, expected_value = stats.chi2_contingency(dataset_array)"
   ]
  },
  {
   "cell_type": "code",
   "execution_count": 134,
   "id": "6c6ef5b5",
   "metadata": {},
   "outputs": [
    {
     "data": {
      "text/plain": [
       "0.0"
      ]
     },
     "execution_count": 134,
     "metadata": {},
     "output_type": "execute_result"
    }
   ],
   "source": [
    "stats_test"
   ]
  },
  {
   "cell_type": "code",
   "execution_count": 135,
   "id": "3700e299",
   "metadata": {},
   "outputs": [
    {
     "data": {
      "text/plain": [
       "1.0"
      ]
     },
     "execution_count": 135,
     "metadata": {},
     "output_type": "execute_result"
    }
   ],
   "source": [
    "p"
   ]
  },
  {
   "cell_type": "code",
   "execution_count": 136,
   "id": "b88b6b43",
   "metadata": {},
   "outputs": [
    {
     "data": {
      "text/plain": [
       "1"
      ]
     },
     "execution_count": 136,
     "metadata": {},
     "output_type": "execute_result"
    }
   ],
   "source": [
    "dof"
   ]
  },
  {
   "cell_type": "code",
   "execution_count": 137,
   "id": "ac4f786c",
   "metadata": {},
   "outputs": [
    {
     "data": {
      "text/plain": [
       "array([[59.84016393, 97.15983607],\n",
       "       [33.15983607, 53.84016393]])"
      ]
     },
     "execution_count": 137,
     "metadata": {},
     "output_type": "execute_result"
    }
   ],
   "source": [
    "expected_value"
   ]
  },
  {
   "cell_type": "code",
   "execution_count": 138,
   "id": "a305aaa3",
   "metadata": {},
   "outputs": [],
   "source": [
    "no_of_rows = dataset_table.iloc[0:2,0]"
   ]
  },
  {
   "cell_type": "code",
   "execution_count": 139,
   "id": "3684e586",
   "metadata": {},
   "outputs": [
    {
     "data": {
      "text/plain": [
       "sex\n",
       "Male      60\n",
       "Female    33\n",
       "Name: Yes, dtype: int64"
      ]
     },
     "execution_count": 139,
     "metadata": {},
     "output_type": "execute_result"
    }
   ],
   "source": [
    "no_of_rows"
   ]
  },
  {
   "cell_type": "code",
   "execution_count": 140,
   "id": "a6796a33",
   "metadata": {},
   "outputs": [],
   "source": [
    "no_of_columns = dataset_table.iloc[0,0:2]"
   ]
  },
  {
   "cell_type": "code",
   "execution_count": 141,
   "id": "df66002d",
   "metadata": {},
   "outputs": [
    {
     "data": {
      "text/plain": [
       "smoker\n",
       "Yes    60\n",
       "No     97\n",
       "Name: Male, dtype: int64"
      ]
     },
     "execution_count": 141,
     "metadata": {},
     "output_type": "execute_result"
    }
   ],
   "source": [
    "no_of_columns"
   ]
  },
  {
   "cell_type": "code",
   "execution_count": 142,
   "id": "44e28a51",
   "metadata": {},
   "outputs": [],
   "source": [
    "dof = ((len(no_of_rows)-1) * len(no_of_columns)-1)"
   ]
  },
  {
   "cell_type": "code",
   "execution_count": 143,
   "id": "23bee83f",
   "metadata": {},
   "outputs": [
    {
     "data": {
      "text/plain": [
       "1"
      ]
     },
     "execution_count": 143,
     "metadata": {},
     "output_type": "execute_result"
    }
   ],
   "source": [
    "dof"
   ]
  },
  {
   "cell_type": "code",
   "execution_count": 144,
   "id": "829a6ea1",
   "metadata": {},
   "outputs": [
    {
     "name": "stdout",
     "output_type": "stream",
     "text": [
      "(array([60, 97], dtype=int64), array([59.84016393, 97.15983607]))\n",
      "(array([33, 54], dtype=int64), array([33.15983607, 53.84016393]))\n"
     ]
    }
   ],
   "source": [
    "for i in zip(dataset_array,expected_value):\n",
    "    print(i)"
   ]
  },
  {
   "cell_type": "code",
   "execution_count": 145,
   "id": "02ba33c7",
   "metadata": {},
   "outputs": [],
   "source": [
    "from scipy.stats import chi2\n",
    "chisquare_test = sum([(o-e)**2./e for o,e in zip(dataset_array,expected_value)])"
   ]
  },
  {
   "cell_type": "code",
   "execution_count": 146,
   "id": "f32baca8",
   "metadata": {},
   "outputs": [
    {
     "data": {
      "text/plain": [
       "array([0.00119737, 0.00073745])"
      ]
     },
     "execution_count": 146,
     "metadata": {},
     "output_type": "execute_result"
    }
   ],
   "source": [
    "chisquare_test"
   ]
  },
  {
   "cell_type": "code",
   "execution_count": 147,
   "id": "f5d0cd31",
   "metadata": {},
   "outputs": [
    {
     "data": {
      "text/plain": [
       "0.001934818536627623"
      ]
     },
     "execution_count": 147,
     "metadata": {},
     "output_type": "execute_result"
    }
   ],
   "source": [
    "chisquare_test[0] + chisquare_test[1]"
   ]
  },
  {
   "cell_type": "code",
   "execution_count": 148,
   "id": "244a3300",
   "metadata": {},
   "outputs": [],
   "source": [
    "chi_square_statistics = chisquare_test[0] + chisquare_test[1]"
   ]
  },
  {
   "cell_type": "code",
   "execution_count": 149,
   "id": "597beec7",
   "metadata": {},
   "outputs": [],
   "source": [
    "alpha = 0.05"
   ]
  },
  {
   "cell_type": "code",
   "execution_count": 150,
   "id": "fb60c949",
   "metadata": {},
   "outputs": [
    {
     "data": {
      "text/plain": [
       "1"
      ]
     },
     "execution_count": 150,
     "metadata": {},
     "output_type": "execute_result"
    }
   ],
   "source": [
    "dof"
   ]
  },
  {
   "cell_type": "code",
   "execution_count": 151,
   "id": "390e9507",
   "metadata": {},
   "outputs": [],
   "source": [
    "from scipy.stats import chi2\n",
    "critical_value = chi2.ppf(1-alpha,df=dof)"
   ]
  },
  {
   "cell_type": "code",
   "execution_count": 152,
   "id": "6e79a06c",
   "metadata": {},
   "outputs": [
    {
     "name": "stdout",
     "output_type": "stream",
     "text": [
      "Retain h0, there is no realtion between 2 categorical variables\n"
     ]
    }
   ],
   "source": [
    "if chi_square_statistics>=critical_value:\n",
    "    print(\"Reject H0, there is a realation betwwen 2 categorical variable\")\n",
    "else:\n",
    "    print(\"Retain h0, there is no realtion between 2 categorical variables\")"
   ]
  },
  {
   "cell_type": "code",
   "execution_count": 153,
   "id": "618a7538",
   "metadata": {},
   "outputs": [
    {
     "name": "stdout",
     "output_type": "stream",
     "text": [
      "Retain h0, there is no realtion between 2 categorical variables\n"
     ]
    }
   ],
   "source": [
    "if p_value<=alpha:\n",
    "    print(\"Reject H0, there is a relation betwwen 2 categorical variables\")\n",
    "else:\n",
    "    print(\"Retain h0, there is no realtion between 2 categorical variables\")"
   ]
  },
  {
   "cell_type": "code",
   "execution_count": 154,
   "id": "a3b39bcb",
   "metadata": {},
   "outputs": [],
   "source": [
    "# for p- value\n",
    "p_value = 1-chi2.cdf(x=chi_square_statistics,df=dof)"
   ]
  },
  {
   "cell_type": "code",
   "execution_count": 155,
   "id": "eb1d9905",
   "metadata": {},
   "outputs": [
    {
     "data": {
      "text/plain": [
       "0.964915107315732"
      ]
     },
     "execution_count": 155,
     "metadata": {},
     "output_type": "execute_result"
    }
   ],
   "source": [
    "p_value"
   ]
  }
 ],
 "metadata": {
  "kernelspec": {
   "display_name": "Python 3 (ipykernel)",
   "language": "python",
   "name": "python3"
  },
  "language_info": {
   "codemirror_mode": {
    "name": "ipython",
    "version": 3
   },
   "file_extension": ".py",
   "mimetype": "text/x-python",
   "name": "python",
   "nbconvert_exporter": "python",
   "pygments_lexer": "ipython3",
   "version": "3.9.12"
  }
 },
 "nbformat": 4,
 "nbformat_minor": 5
}
