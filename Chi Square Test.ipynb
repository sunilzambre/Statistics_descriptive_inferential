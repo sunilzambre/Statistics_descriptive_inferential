{
 "cells": [
  {
   "cell_type": "code",
   "execution_count": 1,
   "id": "f5e27b6f",
   "metadata": {},
   "outputs": [],
   "source": [
    "import scipy.stats as stat\n",
    "import numpy as np"
   ]
  },
  {
   "cell_type": "code",
   "execution_count": 2,
   "id": "78a11249",
   "metadata": {},
   "outputs": [],
   "source": [
    "# Number of hours student study in a weekly basis daily\n",
    "# in this data there is a sequence of days(categories) - monday ,tuesday.......\n",
    "expected_data = [8,6,7,9,6,9,7]\n",
    "observed_data = [7,8,6,9,9,6,7]"
   ]
  },
  {
   "cell_type": "code",
   "execution_count": 3,
   "id": "4f5e322d",
   "metadata": {},
   "outputs": [
    {
     "data": {
      "text/plain": [
       "(52, 52)"
      ]
     },
     "execution_count": 3,
     "metadata": {},
     "output_type": "execute_result"
    }
   ],
   "source": [
    "# here expected_data must be equals to expected_data \n",
    "sum(expected_data),sum(observed_data)"
   ]
  },
  {
   "cell_type": "code",
   "execution_count": 4,
   "id": "36ca7005",
   "metadata": {},
   "outputs": [],
   "source": [
    "# Chi-Square Goodness of Fit test\n",
    "chisqure_test_stat ,p_value =   stat.chisquare(observed_data,expected_data)"
   ]
  },
  {
   "cell_type": "code",
   "execution_count": 5,
   "id": "f4fff600",
   "metadata": {},
   "outputs": [
    {
     "data": {
      "text/plain": [
       "(3.4345238095238093, 0.7526596580922865)"
      ]
     },
     "execution_count": 5,
     "metadata": {},
     "output_type": "execute_result"
    }
   ],
   "source": [
    "chisqure_test_stat,p_value"
   ]
  },
  {
   "cell_type": "code",
   "execution_count": 6,
   "id": "ada9165b",
   "metadata": {},
   "outputs": [],
   "source": [
    "# parameters for critical value\n",
    "significane_value = 0.05\n",
    "degree_of_freedom = len(expected_data)-1"
   ]
  },
  {
   "cell_type": "code",
   "execution_count": 7,
   "id": "5f15bbc8",
   "metadata": {},
   "outputs": [
    {
     "data": {
      "text/plain": [
       "12.591587243743977"
      ]
     },
     "execution_count": 7,
     "metadata": {},
     "output_type": "execute_result"
    }
   ],
   "source": [
    "# finding the critical value\n",
    "critical_value = stat.chi2.ppf(1-significane_value,degree_of_freedom)\n",
    "critical_value"
   ]
  },
  {
   "cell_type": "code",
   "execution_count": 8,
   "id": "cfa02d29",
   "metadata": {},
   "outputs": [
    {
     "name": "stdout",
     "output_type": "stream",
     "text": [
      "accept the null hypothesis\n"
     ]
    }
   ],
   "source": [
    "if chisqure_test_stat > critical_value:\n",
    "    print('reject the null hypothesis')\n",
    "else :\n",
    "    print('accept the null hypothesis')"
   ]
  }
 ],
 "metadata": {
  "kernelspec": {
   "display_name": "Python 3 (ipykernel)",
   "language": "python",
   "name": "python3"
  },
  "language_info": {
   "codemirror_mode": {
    "name": "ipython",
    "version": 3
   },
   "file_extension": ".py",
   "mimetype": "text/x-python",
   "name": "python",
   "nbconvert_exporter": "python",
   "pygments_lexer": "ipython3",
   "version": "3.9.12"
  }
 },
 "nbformat": 4,
 "nbformat_minor": 5
}
