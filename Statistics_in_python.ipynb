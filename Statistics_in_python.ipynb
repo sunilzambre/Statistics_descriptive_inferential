{
 "cells": [
  {
   "cell_type": "code",
   "execution_count": 1,
   "id": "7baddc1f",
   "metadata": {},
   "outputs": [],
   "source": [
    "import math"
   ]
  },
  {
   "cell_type": "markdown",
   "id": "1122b4d3",
   "metadata": {},
   "source": [
    "# MEAN"
   ]
  },
  {
   "cell_type": "code",
   "execution_count": 2,
   "id": "c504e898",
   "metadata": {},
   "outputs": [
    {
     "name": "stdout",
     "output_type": "stream",
     "text": [
      "mean : 3.0\n"
     ]
    }
   ],
   "source": [
    "def mean(*args):\n",
    "    val_sum = sum(args)\n",
    "    return val_sum / len(args)\n",
    "\n",
    "print(f\"mean : {mean(1,2,3,4,5)}\")"
   ]
  },
  {
   "cell_type": "markdown",
   "id": "c6bedc07",
   "metadata": {},
   "source": [
    "# MEDIAN"
   ]
  },
  {
   "cell_type": "code",
   "execution_count": 3,
   "id": "bf8da3c3",
   "metadata": {},
   "outputs": [
    {
     "name": "stdout",
     "output_type": "stream",
     "text": [
      "median: 3\n",
      "median: 4.5\n"
     ]
    }
   ],
   "source": [
    "def median(*args):\n",
    "    if len(args) % 2 == 0:\n",
    "        i = round((len(args) + 1) / 2)\n",
    "        j = i - 1\n",
    "        return (args[i] + args[j]) / 2\n",
    "    else:\n",
    "        k = round(len(args) / 2)\n",
    "        return args[k]\n",
    "\n",
    "print(f\"median: {median(1,2,3,4,5)}\")\n",
    "print(f\"median: {median(1,2,3,4,5,6)}\")"
   ]
  },
  {
   "cell_type": "markdown",
   "id": "977c3049",
   "metadata": {},
   "source": [
    "# MODE"
   ]
  },
  {
   "cell_type": "code",
   "execution_count": 4,
   "id": "e98f9f4f",
   "metadata": {},
   "outputs": [
    {
     "name": "stdout",
     "output_type": "stream",
     "text": [
      "mode : [5]\n"
     ]
    }
   ],
   "source": [
    "def mode(*args):\n",
    "    dict_vals = {i: args.count(i) for i in args}\n",
    "    max_list = [k for k, v in dict_vals.items() if v == max(dict_vals.values())]\n",
    "    return max_list\n",
    "\n",
    "print(f\"mode : {mode(1,2,3,4,5,5)}\")"
   ]
  },
  {
   "cell_type": "markdown",
   "id": "5723677b",
   "metadata": {},
   "source": [
    "# VARIANCE"
   ]
  },
  {
   "cell_type": "code",
   "execution_count": 5,
   "id": "3ffeb20f",
   "metadata": {},
   "outputs": [
    {
     "name": "stdout",
     "output_type": "stream",
     "text": [
      "variance : 2.5\n"
     ]
    }
   ],
   "source": [
    "def variance(*args):\n",
    "    mean_val = mean(*args)\n",
    "    numerator = 0\n",
    "    for i in args:\n",
    "        numerator += (i - mean_val) ** 2\n",
    "    denominator = len(args) - 1\n",
    "    return numerator / denominator\n",
    "\n",
    "print(f'variance : {variance(4,6,3,5,2)}')"
   ]
  },
  {
   "cell_type": "markdown",
   "id": "f9cefd43",
   "metadata": {},
   "source": [
    "# STANDARD DEVIATION(SD)"
   ]
  },
  {
   "cell_type": "code",
   "execution_count": 6,
   "id": "e439a6c8",
   "metadata": {},
   "outputs": [
    {
     "name": "stdout",
     "output_type": "stream",
     "text": [
      "standard deviation: 1.5811388300841898\n"
     ]
    }
   ],
   "source": [
    "def standard_deviation(*args):\n",
    "    return math.sqrt(variance(*args))\n",
    "\n",
    "print(f\"standard deviation: {standard_deviation(4,6,3,5,2)}\")"
   ]
  },
  {
   "cell_type": "markdown",
   "id": "12dd0e6f",
   "metadata": {},
   "source": [
    "# COEFFICIENT OF VARIATION"
   ]
  },
  {
   "cell_type": "code",
   "execution_count": 7,
   "id": "5615936c",
   "metadata": {},
   "outputs": [
    {
     "name": "stdout",
     "output_type": "stream",
     "text": [
      "Coefficient Variation (miles): 0.17213259316477408\n",
      "Coefficient Variation (kms): 0.17214686292344047\n"
     ]
    }
   ],
   "source": [
    "def coefficient_variation(*args):\n",
    "    return standard_deviation(*args) / mean(*args)\n",
    "\n",
    "print(f\"Coefficient Variation (miles): {coefficient_variation(3, 4, 4.5, 3.5)}\")\n",
    "print(f\"Coefficient Variation (kms): {coefficient_variation(4.828, 6.437, 7.242, 5.632)}\")"
   ]
  },
  {
   "cell_type": "markdown",
   "id": "7c5a1743",
   "metadata": {},
   "source": [
    "# COVARIANCE"
   ]
  },
  {
   "cell_type": "code",
   "execution_count": 8,
   "id": "b95e642c",
   "metadata": {},
   "outputs": [
    {
     "name": "stdout",
     "output_type": "stream",
     "text": [
      "Covariance : 5803.200000000001\n"
     ]
    }
   ],
   "source": [
    "def covariance(*args):\n",
    "    #Using a list comprehension to get all values stored in the 1st & 2nd list\n",
    "    list_1 = [i[0] for i in args]\n",
    "    list_2 = [i[1] for i in args]\n",
    "    list_1_mean = mean(*list_1[0])\n",
    "    list_2_mean = mean(*list_2[0])\n",
    "    numerator = 0\n",
    "\n",
    "    # We must have the same number of elements in both lists\n",
    "    if len(list_1[0]) == len(list_2[0]):\n",
    "        for i in range(len(list_1[0])):\n",
    "                                       #  xi - x mean * yi - y mean\n",
    "            numerator += (list_1[0][i] - list_1_mean) * (list_2[0][i] - list_2_mean)\n",
    "        denominator = len(list_1[0]) - 1\n",
    "        return numerator / denominator\n",
    "    else:\n",
    "        print(\"Error\")\n",
    "\n",
    "list = [[1532, 1488, 1343, 928, 615], [58, 35, 75, 41, 17]]\n",
    "print(f\"Covariance : {covariance(list)}\")"
   ]
  },
  {
   "cell_type": "markdown",
   "id": "8f235848",
   "metadata": {},
   "source": [
    "# CORRELATION COEFFICIENT"
   ]
  },
  {
   "cell_type": "code",
   "execution_count": 9,
   "id": "357c284d",
   "metadata": {},
   "outputs": [
    {
     "name": "stdout",
     "output_type": "stream",
     "text": [
      "List1 Standard Deviation : 396.2508044155873\n",
      "List2 Standard Deviation : 22.185580902919806\n",
      "Correlation Coefficient : 0.660125602195931\n"
     ]
    }
   ],
   "source": [
    "def correlation_coefficient(*args):\n",
    "    list_1 = [i[0] for i in args]\n",
    "    list_2 = [i[1] for i in args]\n",
    "\n",
    "    # Passing these lists to get their standard deviations\n",
    "    list_1_sd = standard_deviation(*list_1[0])\n",
    "    list_2_sd = standard_deviation(*list_2[0])\n",
    "    print(f\"List1 Standard Deviation : {list_1_sd}\")\n",
    "    print(f\"List2 Standard Deviation : {list_2_sd}\")\n",
    "    denominator = list_1_sd * list_2_sd\n",
    "\n",
    "    # Getting the covariance\n",
    "    numerator = covariance(*args)\n",
    "    return numerator / denominator\n",
    "\n",
    "list = [[1532, 1488, 1343, 928, 615], [58, 35, 75, 41, 17]]\n",
    "print(f\"Correlation Coefficient : {correlation_coefficient(list)}\")"
   ]
  }
 ],
 "metadata": {
  "kernelspec": {
   "display_name": "Python 3 (ipykernel)",
   "language": "python",
   "name": "python3"
  },
  "language_info": {
   "codemirror_mode": {
    "name": "ipython",
    "version": 3
   },
   "file_extension": ".py",
   "mimetype": "text/x-python",
   "name": "python",
   "nbconvert_exporter": "python",
   "pygments_lexer": "ipython3",
   "version": "3.9.12"
  }
 },
 "nbformat": 4,
 "nbformat_minor": 5
}
