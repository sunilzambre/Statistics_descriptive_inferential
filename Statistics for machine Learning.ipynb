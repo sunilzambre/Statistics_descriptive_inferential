{
 "cells": [
  {
   "cell_type": "markdown",
   "id": "fe66b172",
   "metadata": {},
   "source": [
    "## Descriptive Statistics"
   ]
  },
  {
   "cell_type": "markdown",
   "id": "e16b4d87",
   "metadata": {},
   "source": [
    "- Descriptive statistical analysis helps you to understand your data and is a very important part of machine learning. \n",
    "- This is due to machine learning being all about making predictions. \n",
    "- On the other hand, statistics is all about drawing conclusions from data, which is a necessary initial step."
   ]
  },
  {
   "cell_type": "markdown",
   "id": "318bc079",
   "metadata": {},
   "source": [
    "***Statistics concepts for machine learning***"
   ]
  },
  {
   "cell_type": "markdown",
   "id": "777c6296",
   "metadata": {},
   "source": [
    "- **Mean:** It is the average value of a set of numbers. In machine learning, mean is often used to represent the average              of a target variable in a dataset.\n",
    "\n",
    "- **Median:** It is the middle value of a set of numbers when they are arranged in order. In machine learning, median is             used to represent the central tendency of a target variable in a dataset when the data is skewed or has outliers.\n",
    "\n",
    "- **Mode:** It is the most frequent value in a set of numbers. In machine learning, mode is used to represent the most                 frequent class or value of a target variable in a dataset.\n",
    "\n",
    "- **Variance:** It is a measure of how far each number in a set is from the mean. In machine learning, variance is used to                 represent the spread of the data and to calculate the standard deviation.\n",
    "\n",
    "- **Standard Deviation:** It is the square root of the variance and represents the average distance of each number from the                         mean. In machine learning, standard deviation is used to represent the variability of the data.\n",
    "\n",
    "- **Correlation:** It is a statistical measure that represents the linear relationship between two variables. In machine           learning, correlation is used to identify the relationship between features and the target variable, and to select         features for building models.\n",
    "\n",
    "- **Covariance:** It is a measure of the joint variability between two variables. In machine learning, covariance is used               to calculate the correlation between two variables."
   ]
  },
  {
   "cell_type": "markdown",
   "id": "d0e3e49e",
   "metadata": {},
   "source": [
    "## 1.IMPORTING LIBRARIES"
   ]
  },
  {
   "cell_type": "code",
   "execution_count": 1,
   "id": "0eda4619",
   "metadata": {},
   "outputs": [],
   "source": [
    "import seaborn as sns\n",
    "import matplotlib.pyplot as plt\n",
    "import pandas as pd\n",
    "import numpy as np\n",
    "import math\n",
    "from scipy import stats\n",
    "import warnings\n",
    "warnings.filterwarnings(\"ignore\")"
   ]
  },
  {
   "cell_type": "markdown",
   "id": "4853c1c0",
   "metadata": {},
   "source": [
    "# 2. CREATING RANDOM LIST OF NUMBERS."
   ]
  },
  {
   "cell_type": "code",
   "execution_count": 2,
   "id": "1ff601b2",
   "metadata": {},
   "outputs": [],
   "source": [
    "# Random list of numbers\n",
    "a = [i for i in range(1, 101)]\n",
    "b = [i for i in range(1, 101) if i % 2 == 0]\n",
    "c = [i for i in range(1, 25)]"
   ]
  },
  {
   "cell_type": "code",
   "execution_count": 3,
   "id": "91ab546d",
   "metadata": {},
   "outputs": [
    {
     "data": {
      "text/plain": [
       "174"
      ]
     },
     "execution_count": 3,
     "metadata": {},
     "output_type": "execute_result"
    }
   ],
   "source": [
    "#Counting total numbers in list\n",
    "len(a) + len(b) + len(c)"
   ]
  },
  {
   "cell_type": "code",
   "execution_count": 5,
   "id": "cfc040ee",
   "metadata": {},
   "outputs": [],
   "source": [
    "#creating for loop to iterate a, b, & c and appending values in data\n",
    "data = []\n",
    "for i in a:\n",
    "      data.append(i)\n",
    "for j in b:\n",
    "      data.append(j)\n",
    "for k in c:\n",
    "      data.append(k)"
   ]
  },
  {
   "cell_type": "code",
   "execution_count": 6,
   "id": "a0317bc9",
   "metadata": {},
   "outputs": [
    {
     "data": {
      "text/plain": [
       "174"
      ]
     },
     "execution_count": 6,
     "metadata": {},
     "output_type": "execute_result"
    }
   ],
   "source": [
    "#Counting total numbers in data\n",
    "len(data)"
   ]
  },
  {
   "cell_type": "code",
   "execution_count": 7,
   "id": "0bf2a9b0",
   "metadata": {},
   "outputs": [
    {
     "name": "stdout",
     "output_type": "stream",
     "text": [
      "<class 'pandas.core.frame.DataFrame'>\n",
      "RangeIndex: 174 entries, 0 to 173\n",
      "Data columns (total 1 columns):\n",
      " #   Column  Non-Null Count  Dtype\n",
      "---  ------  --------------  -----\n",
      " 0   0       174 non-null    int64\n",
      "dtypes: int64(1)\n",
      "memory usage: 1.5 KB\n"
     ]
    }
   ],
   "source": [
    "#Converting into dataframe\n",
    "df = pd.DataFrame(data)\n",
    "df.info()"
   ]
  },
  {
   "cell_type": "code",
   "execution_count": 8,
   "id": "7066fe84",
   "metadata": {},
   "outputs": [
    {
     "data": {
      "text/html": [
       "<div>\n",
       "<style scoped>\n",
       "    .dataframe tbody tr th:only-of-type {\n",
       "        vertical-align: middle;\n",
       "    }\n",
       "\n",
       "    .dataframe tbody tr th {\n",
       "        vertical-align: top;\n",
       "    }\n",
       "\n",
       "    .dataframe thead th {\n",
       "        text-align: right;\n",
       "    }\n",
       "</style>\n",
       "<table border=\"1\" class=\"dataframe\">\n",
       "  <thead>\n",
       "    <tr style=\"text-align: right;\">\n",
       "      <th></th>\n",
       "      <th>0</th>\n",
       "    </tr>\n",
       "  </thead>\n",
       "  <tbody>\n",
       "    <tr>\n",
       "      <th>0</th>\n",
       "      <td>1</td>\n",
       "    </tr>\n",
       "    <tr>\n",
       "      <th>1</th>\n",
       "      <td>2</td>\n",
       "    </tr>\n",
       "    <tr>\n",
       "      <th>2</th>\n",
       "      <td>3</td>\n",
       "    </tr>\n",
       "    <tr>\n",
       "      <th>3</th>\n",
       "      <td>4</td>\n",
       "    </tr>\n",
       "    <tr>\n",
       "      <th>4</th>\n",
       "      <td>5</td>\n",
       "    </tr>\n",
       "  </tbody>\n",
       "</table>\n",
       "</div>"
      ],
      "text/plain": [
       "   0\n",
       "0  1\n",
       "1  2\n",
       "2  3\n",
       "3  4\n",
       "4  5"
      ]
     },
     "execution_count": 8,
     "metadata": {},
     "output_type": "execute_result"
    }
   ],
   "source": [
    "#top 5 columns\n",
    "df.head()"
   ]
  },
  {
   "cell_type": "markdown",
   "id": "da8c60f2",
   "metadata": {},
   "source": [
    "# 3. Central Tendency"
   ]
  },
  {
   "cell_type": "code",
   "execution_count": 9,
   "id": "3e915ba6",
   "metadata": {},
   "outputs": [
    {
     "data": {
      "text/html": [
       "<div>\n",
       "<style scoped>\n",
       "    .dataframe tbody tr th:only-of-type {\n",
       "        vertical-align: middle;\n",
       "    }\n",
       "\n",
       "    .dataframe tbody tr th {\n",
       "        vertical-align: top;\n",
       "    }\n",
       "\n",
       "    .dataframe thead th {\n",
       "        text-align: right;\n",
       "    }\n",
       "</style>\n",
       "<table border=\"1\" class=\"dataframe\">\n",
       "  <thead>\n",
       "    <tr style=\"text-align: right;\">\n",
       "      <th></th>\n",
       "      <th>0</th>\n",
       "    </tr>\n",
       "  </thead>\n",
       "  <tbody>\n",
       "    <tr>\n",
       "      <th>count</th>\n",
       "      <td>174.000000</td>\n",
       "    </tr>\n",
       "    <tr>\n",
       "      <th>mean</th>\n",
       "      <td>45.402299</td>\n",
       "    </tr>\n",
       "    <tr>\n",
       "      <th>std</th>\n",
       "      <td>30.055040</td>\n",
       "    </tr>\n",
       "    <tr>\n",
       "      <th>min</th>\n",
       "      <td>1.000000</td>\n",
       "    </tr>\n",
       "    <tr>\n",
       "      <th>25%</th>\n",
       "      <td>18.000000</td>\n",
       "    </tr>\n",
       "    <tr>\n",
       "      <th>50%</th>\n",
       "      <td>42.500000</td>\n",
       "    </tr>\n",
       "    <tr>\n",
       "      <th>75%</th>\n",
       "      <td>71.750000</td>\n",
       "    </tr>\n",
       "    <tr>\n",
       "      <th>max</th>\n",
       "      <td>100.000000</td>\n",
       "    </tr>\n",
       "  </tbody>\n",
       "</table>\n",
       "</div>"
      ],
      "text/plain": [
       "                0\n",
       "count  174.000000\n",
       "mean    45.402299\n",
       "std     30.055040\n",
       "min      1.000000\n",
       "25%     18.000000\n",
       "50%     42.500000\n",
       "75%     71.750000\n",
       "max    100.000000"
      ]
     },
     "execution_count": 9,
     "metadata": {},
     "output_type": "execute_result"
    }
   ],
   "source": [
    "#Checking min,max, mean, std, qrt, and count\n",
    "df.describe()"
   ]
  },
  {
   "cell_type": "markdown",
   "id": "9ddf3fbf",
   "metadata": {},
   "source": [
    "# 4. Mode"
   ]
  },
  {
   "cell_type": "code",
   "execution_count": 10,
   "id": "7686d34e",
   "metadata": {},
   "outputs": [
    {
     "data": {
      "text/html": [
       "<div>\n",
       "<style scoped>\n",
       "    .dataframe tbody tr th:only-of-type {\n",
       "        vertical-align: middle;\n",
       "    }\n",
       "\n",
       "    .dataframe tbody tr th {\n",
       "        vertical-align: top;\n",
       "    }\n",
       "\n",
       "    .dataframe thead th {\n",
       "        text-align: right;\n",
       "    }\n",
       "</style>\n",
       "<table border=\"1\" class=\"dataframe\">\n",
       "  <thead>\n",
       "    <tr style=\"text-align: right;\">\n",
       "      <th></th>\n",
       "      <th>0</th>\n",
       "    </tr>\n",
       "  </thead>\n",
       "  <tbody>\n",
       "    <tr>\n",
       "      <th>0</th>\n",
       "      <td>2</td>\n",
       "    </tr>\n",
       "    <tr>\n",
       "      <th>1</th>\n",
       "      <td>4</td>\n",
       "    </tr>\n",
       "    <tr>\n",
       "      <th>2</th>\n",
       "      <td>6</td>\n",
       "    </tr>\n",
       "    <tr>\n",
       "      <th>3</th>\n",
       "      <td>8</td>\n",
       "    </tr>\n",
       "    <tr>\n",
       "      <th>4</th>\n",
       "      <td>10</td>\n",
       "    </tr>\n",
       "    <tr>\n",
       "      <th>5</th>\n",
       "      <td>12</td>\n",
       "    </tr>\n",
       "    <tr>\n",
       "      <th>6</th>\n",
       "      <td>14</td>\n",
       "    </tr>\n",
       "    <tr>\n",
       "      <th>7</th>\n",
       "      <td>16</td>\n",
       "    </tr>\n",
       "    <tr>\n",
       "      <th>8</th>\n",
       "      <td>18</td>\n",
       "    </tr>\n",
       "    <tr>\n",
       "      <th>9</th>\n",
       "      <td>20</td>\n",
       "    </tr>\n",
       "    <tr>\n",
       "      <th>10</th>\n",
       "      <td>22</td>\n",
       "    </tr>\n",
       "    <tr>\n",
       "      <th>11</th>\n",
       "      <td>24</td>\n",
       "    </tr>\n",
       "  </tbody>\n",
       "</table>\n",
       "</div>"
      ],
      "text/plain": [
       "     0\n",
       "0    2\n",
       "1    4\n",
       "2    6\n",
       "3    8\n",
       "4   10\n",
       "5   12\n",
       "6   14\n",
       "7   16\n",
       "8   18\n",
       "9   20\n",
       "10  22\n",
       "11  24"
      ]
     },
     "execution_count": 10,
     "metadata": {},
     "output_type": "execute_result"
    }
   ],
   "source": [
    "#counting mode in the list\n",
    "df.mode()"
   ]
  },
  {
   "cell_type": "code",
   "execution_count": 11,
   "id": "0cb25451",
   "metadata": {},
   "outputs": [
    {
     "name": "stdout",
     "output_type": "stream",
     "text": [
      "The mode of list a is: [2, 4, 6, 8, 10, 12, 14, 16, 18, 20, 22, 24]\n"
     ]
    }
   ],
   "source": [
    "def find_mode(numbers):\n",
    "    # Create a dictionary to store the frequency of each number\n",
    "    frequency = {}\n",
    "    for num in numbers:\n",
    "        if num in frequency:\n",
    "            frequency[num] += 1\n",
    "        else:\n",
    "            frequency[num] = 1\n",
    "    \n",
    "    # Find the maximum frequency and store it in max_frequency\n",
    "    max_frequency = max(frequency.values())\n",
    "    \n",
    "    # Find the number(s) with the maximum frequency\n",
    "    mode = [num for num, count in frequency.items() if count == max_frequency]\n",
    "    \n",
    "    return mode\n",
    "\n",
    "# Find the mode of list a\n",
    "mode = find_mode(data)\n",
    "print(\"The mode of list a is:\", mode)"
   ]
  },
  {
   "cell_type": "markdown",
   "id": "eeef33a6",
   "metadata": {},
   "source": [
    "# 5. Mean"
   ]
  },
  {
   "cell_type": "code",
   "execution_count": 12,
   "id": "78a17e47",
   "metadata": {},
   "outputs": [
    {
     "data": {
      "text/plain": [
       "0    45.402299\n",
       "dtype: float64"
      ]
     },
     "execution_count": 12,
     "metadata": {},
     "output_type": "execute_result"
    }
   ],
   "source": [
    "#Mean value in list\n",
    "df.mean()"
   ]
  },
  {
   "cell_type": "code",
   "execution_count": 13,
   "id": "ee5299ff",
   "metadata": {},
   "outputs": [
    {
     "name": "stdout",
     "output_type": "stream",
     "text": [
      "The mean of the list is: 45.40229885057471\n"
     ]
    }
   ],
   "source": [
    "def find_mean(numbers):\n",
    "    # Initialize a variable to store the total of all numbers\n",
    "    total = 0\n",
    "    \n",
    "    # Loop through each number in the list\n",
    "    for num in numbers:\n",
    "        # Add the current number to the total\n",
    "        total += num\n",
    "    \n",
    "    # Calculate the mean by dividing the total by the number of elements in the list\n",
    "    mean = total / len(numbers)\n",
    "    \n",
    "    # Return the mean\n",
    "    return mean\n",
    "\n",
    "# Find the mean of the list\n",
    "mean = find_mean(data)\n",
    "\n",
    "# Print the mean\n",
    "print(\"The mean of the list is:\", mean)"
   ]
  },
  {
   "cell_type": "markdown",
   "id": "684243f4",
   "metadata": {},
   "source": [
    "# 6. Median"
   ]
  },
  {
   "cell_type": "code",
   "execution_count": 14,
   "id": "cef3f534",
   "metadata": {},
   "outputs": [
    {
     "data": {
      "text/plain": [
       "0    42.5\n",
       "dtype: float64"
      ]
     },
     "execution_count": 14,
     "metadata": {},
     "output_type": "execute_result"
    }
   ],
   "source": [
    "#Median value in list\n",
    "df.median()"
   ]
  },
  {
   "cell_type": "code",
   "execution_count": 15,
   "id": "ef24f17c",
   "metadata": {},
   "outputs": [
    {
     "name": "stdout",
     "output_type": "stream",
     "text": [
      "The mean of the list is: 42.5\n"
     ]
    }
   ],
   "source": [
    "def find_median(numbers):\n",
    "    # Sort the list of numbers\n",
    "    numbers.sort()\n",
    "    \n",
    "    # Find the length of the list\n",
    "    length = len(numbers)\n",
    "    \n",
    "    # Check if the length of the list is even or odd\n",
    "    if length % 2 == 0:\n",
    "        # If the length is even, return the average of the two middle elements\n",
    "        median = (numbers[length//2 - 1] + numbers[length//2]) / 2\n",
    "    else:\n",
    "        # If the length is odd, return the middle element\n",
    "        median = numbers[length//2]\n",
    "    \n",
    "    return median\n",
    "\n",
    "# Find the mean of the list\n",
    "median = find_median(data)\n",
    "\n",
    "# Print the mean\n",
    "print(\"The mean of the list is:\", median)"
   ]
  },
  {
   "cell_type": "markdown",
   "id": "5e24a2be",
   "metadata": {},
   "source": [
    "# 7.DATA VISUALISATION\n",
    "Frequency Distribution of Data"
   ]
  },
  {
   "cell_type": "code",
   "execution_count": 16,
   "id": "316e4ac5",
   "metadata": {},
   "outputs": [
    {
     "name": "stdout",
     "output_type": "stream",
     "text": [
      "{1: 2, 2: 3, 3: 2, 4: 3, 5: 2, 6: 3, 7: 2, 8: 3, 9: 2, 10: 3, 11: 2, 12: 3, 13: 2, 14: 3, 15: 2, 16: 3, 17: 2, 18: 3, 19: 2, 20: 3, 21: 2, 22: 3, 23: 2, 24: 3, 25: 1, 26: 2, 27: 1, 28: 2, 29: 1, 30: 2, 31: 1, 32: 2, 33: 1, 34: 2, 35: 1, 36: 2, 37: 1, 38: 2, 39: 1, 40: 2, 41: 1, 42: 2, 43: 1, 44: 2, 45: 1, 46: 2, 47: 1, 48: 2, 49: 1, 50: 2, 51: 1, 52: 2, 53: 1, 54: 2, 55: 1, 56: 2, 57: 1, 58: 2, 59: 1, 60: 2, 61: 1, 62: 2, 63: 1, 64: 2, 65: 1, 66: 2, 67: 1, 68: 2, 69: 1, 70: 2, 71: 1, 72: 2, 73: 1, 74: 2, 75: 1, 76: 2, 77: 1, 78: 2, 79: 1, 80: 2, 81: 1, 82: 2, 83: 1, 84: 2, 85: 1, 86: 2, 87: 1, 88: 2, 89: 1, 90: 2, 91: 1, 92: 2, 93: 1, 94: 2, 95: 1, 96: 2, 97: 1, 98: 2, 99: 1, 100: 2}\n"
     ]
    }
   ],
   "source": [
    "counts = {}\n",
    "\n",
    "for num in data:\n",
    "    if num in counts:\n",
    "        counts[num] += 1\n",
    "    else:\n",
    "        counts[num] = 1\n",
    "\n",
    "print(counts)"
   ]
  },
  {
   "cell_type": "code",
   "execution_count": 17,
   "id": "42252b68",
   "metadata": {},
   "outputs": [
    {
     "data": {
      "image/png": "[encoded data removed]",
      "text/plain": [
       "<Figure size 432x288 with 1 Axes>"
      ]
     },
     "metadata": {
      "needs_background": "light"
     },
     "output_type": "display_data"
    }
   ],
   "source": [
    "# Get the values and the frequencies from the dictionary\n",
    "x = list(counts.keys())\n",
    "y = list(counts.values())\n",
    "\n",
    "# Plot the frequency distribution using Matplotlib's bar plot\n",
    "plt.bar(x, y, color='blue')\n",
    "\n",
    "# Add labels and title to the plot\n",
    "plt.xlabel('Values', fontsize=14)\n",
    "plt.ylabel('Frequency', fontsize=14)\n",
    "plt.title(\"Frequency Distribution of Data\", fontsize=10, fontweight=\"bold\")\n",
    "\n",
    "# Show the plot\n",
    "plt.show()"
   ]
  },
  {
   "cell_type": "markdown",
   "id": "ee3ec8d7",
   "metadata": {},
   "source": [
    "# Cluster Frequency Distribution of Data"
   ]
  },
  {
   "cell_type": "code",
   "execution_count": 18,
   "id": "733a9c47",
   "metadata": {},
   "outputs": [
    {
     "data": {
      "image/png": "[encoded data removed]",
      "text/plain": [
       "<Figure size 2016x504 with 1 Axes>"
      ]
     },
     "metadata": {
      "needs_background": "light"
     },
     "output_type": "display_data"
    }
   ],
   "source": [
    "# Set the figure size\n",
    "plt.figure(figsize=(28, 7))\n",
    "plt.grid(True, linestyle='--', color='gray', alpha=0.7)\n",
    "\n",
    "# Plot the frequency distribution using seaborn's distplot\n",
    "sns.distplot(data, kde=False, color=\"red\")\n",
    "\n",
    "# Add a background color\n",
    "plt.gca().set_facecolor(\"lightgray\")\n",
    "\n",
    "# Add labels and title to the plot\n",
    "plt.xlabel('Values', fontsize=14)\n",
    "plt.ylabel('Frequency', fontsize=14)\n",
    "plt.suptitle(\"Cluster Frequency Distribution of Data\", fontsize=18, fontweight=\"bold\")\n",
    "\n",
    "# Show the plot\n",
    "plt.show()"
   ]
  },
  {
   "cell_type": "markdown",
   "id": "ca45d737",
   "metadata": {},
   "source": [
    "**Measure of spread is a statistical term that refers to the degree of variation or dispersion of a set of values.** \n",
    "\n",
    "The most common measures of spread are the range, interquartile range (IQR), variance, and standard deviation.\n",
    "\n",
    "**Range:** The range is the difference between the largest and smallest values in a dataset. It provides a simple and easy-to-calculate measure of spread.\n",
    "\n",
    "**Interquartile Range (IQR):** The IQR is the difference between the 75th and 25th percentiles of a dataset. It provides a measure of spread that is resistant to outliers.\n",
    "\n",
    "**Variance:** The variance is the average of the squared differences of each value from the mean. It provides a measure of spread that takes into account all values in the dataset.\n",
    "\n",
    "**Standard Deviation:** The standard deviation is the square root of the variance. It provides a measure of spread that is expressed in the same units as the original data.\n",
    "\n",
    "These measures of spread can be useful in understanding the distribution of data and identifying outliers or patterns in the data."
   ]
  },
  {
   "cell_type": "markdown",
   "id": "3d5cda03",
   "metadata": {},
   "source": [
    "# 8. RANGE"
   ]
  },
  {
   "cell_type": "code",
   "execution_count": 19,
   "id": "c41fe288",
   "metadata": {},
   "outputs": [
    {
     "name": "stdout",
     "output_type": "stream",
     "text": [
      "Range: 99\n"
     ]
    }
   ],
   "source": [
    "def find_range(numbers):\n",
    "    # Find the minimum and maximum values in the list\n",
    "    minimum = min(numbers)\n",
    "    maximum = max(numbers)\n",
    "    \n",
    "    # Calculate the range by subtracting the minimum from the maximum\n",
    "    rng = maximum - minimum\n",
    "    \n",
    "    return rng\n",
    "\n",
    "range = find_range(data)\n",
    "\n",
    "print(\"Range:\", range)"
   ]
  },
  {
   "cell_type": "markdown",
   "id": "5eb0a730",
   "metadata": {},
   "source": [
    "# 9. Interquartile Range (IQR)"
   ]
  },
  {
   "cell_type": "code",
   "execution_count": 20,
   "id": "c527aab9",
   "metadata": {},
   "outputs": [
    {
     "name": "stdout",
     "output_type": "stream",
     "text": [
      "Interquartile: 54\n"
     ]
    }
   ],
   "source": [
    "def find_iqr(numbers):\n",
    "    # Sort the list of numbers\n",
    "    numbers.sort()\n",
    "    \n",
    "    # Find the length of the list\n",
    "    length = len(numbers)\n",
    "    \n",
    "    # Calculate the first and third quartiles\n",
    "    q1 = numbers[length//4]\n",
    "    q3 = numbers[3*length//4]\n",
    "    \n",
    "    # Calculate the interquartile range by subtracting the first quartile from the third quartile\n",
    "    iqr = q3 - q1\n",
    "    \n",
    "    return iqr\n",
    "\n",
    "iqr = find_iqr(data)\n",
    "print(\"Interquartile:\", iqr)"
   ]
  },
  {
   "cell_type": "markdown",
   "id": "8c344853",
   "metadata": {},
   "source": [
    "# Using numpy array IQR"
   ]
  },
  {
   "cell_type": "code",
   "execution_count": 22,
   "id": "9eb27462",
   "metadata": {},
   "outputs": [
    {
     "name": "stdout",
     "output_type": "stream",
     "text": [
      "Interquartile: 53.75\n"
     ]
    }
   ],
   "source": [
    "def find_iqr(numbers):\n",
    "    # Convert the list of numbers to a numpy array\n",
    "    numbers = np.array(numbers)\n",
    "    \n",
    "    # Find the quartiles of the numbers\n",
    "    q1, q3 = np.percentile(numbers, [25, 75])\n",
    "    \n",
    "    # Calculate the interquartile range by subtracting the first quartile from the third quartile\n",
    "    iqr = q3 - q1\n",
    "    \n",
    "    return iqr\n",
    "\n",
    "\n",
    "iqr = find_iqr(data)\n",
    "print(\"Interquartile:\", iqr)"
   ]
  },
  {
   "cell_type": "markdown",
   "id": "6f11cba7",
   "metadata": {},
   "source": [
    "- The difference in the results between the two implementations of the interquartile range (IQR) calculation is due to the   different methods used to calculate the first and third quartiles.\n",
    "\n",
    "- In the numpy implementation, the percentile function is used to calculate the quartiles. This function calculates the       quartiles based on the distribution of the data, by finding the values that correspond to the 25th and 75th percentiles.\n",
    "\n",
    "- In the normal Python implementation, the first and third quartiles are calculated by finding the middle value(s) of the     sorted list and dividing it by 4. This method is a simple approximation of the quartiles, but it may not always give       accurate results, especially if the data is not evenly distributed.\n",
    "\n",
    "- In general, if you have access to numpy, it's recommended to use it for calculating statistics, as it provides more         accurate and efficient methods than pure Python code."
   ]
  },
  {
   "cell_type": "markdown",
   "id": "b44db840",
   "metadata": {},
   "source": [
    "# 10.Variance"
   ]
  },
  {
   "cell_type": "code",
   "execution_count": 23,
   "id": "b11c8da1",
   "metadata": {},
   "outputs": [
    {
     "name": "stdout",
     "output_type": "stream",
     "text": [
      "Variance: 898.1140177037908\n"
     ]
    }
   ],
   "source": [
    "def find_variance(numbers):\n",
    "    # Find the mean of the numbers\n",
    "    mean = sum(numbers) / len(numbers)\n",
    "    \n",
    "    # Initialize a variable to store the sum of squared differences\n",
    "    squared_differences_sum = 0\n",
    "    \n",
    "    # Loop through each number in the list\n",
    "    for num in numbers:\n",
    "        # Calculate the difference between the current number and the mean\n",
    "        difference = num - mean\n",
    "        \n",
    "        # Square the difference and add it to the sum of squared differences\n",
    "        squared_differences_sum += difference**2\n",
    "    \n",
    "    # Calculate the variance by dividing the sum of squared differences by the number of elements in the list\n",
    "    variance = squared_differences_sum / len(numbers)\n",
    "    \n",
    "    return variance\n",
    "\n",
    "var = find_variance(data)\n",
    "print(\"Variance:\", var)"
   ]
  },
  {
   "cell_type": "markdown",
   "id": "80bcbfe8",
   "metadata": {},
   "source": [
    "# 11. Standard Deviation"
   ]
  },
  {
   "cell_type": "code",
   "execution_count": 24,
   "id": "cfb1eddb",
   "metadata": {},
   "outputs": [
    {
     "name": "stdout",
     "output_type": "stream",
     "text": [
      "Standard Deviation: 29.96855047718843\n"
     ]
    }
   ],
   "source": [
    "def find_standard_deviation(numbers):\n",
    "    # Find the variance of the numbers\n",
    "    variance = find_variance(numbers)\n",
    "    \n",
    "    # Calculate the standard deviation by taking the square root of the variance\n",
    "    standard_deviation = math.sqrt(variance)\n",
    "    \n",
    "    return standard_deviation\n",
    "\n",
    "std = find_standard_deviation(data)\n",
    "print(\"Standard Deviation:\", std)"
   ]
  },
  {
   "cell_type": "markdown",
   "id": "f6a48418",
   "metadata": {},
   "source": [
    "# Comparing two sets of data with descriptive statistics"
   ]
  },
  {
   "cell_type": "code",
   "execution_count": 25,
   "id": "84b07750",
   "metadata": {},
   "outputs": [
    {
     "name": "stdout",
     "output_type": "stream",
     "text": [
      "Data1 Mean: 5.320541384823421\n",
      "Data1 Median: 5.421397844941476\n",
      "Data1 Mode: -0.09124075412300492\n",
      "Data1 Standard Deviation: 1.7317474364542844\n",
      "Data2 Mean: 7.048938960599716\n",
      "Data2 Median: 6.8055943573131765\n",
      "Data2 Mode: 0.5951267585583668\n",
      "Data2 Standard Deviation: 2.720847398315446\n"
     ]
    },
    {
     "data": {
      "image/png": "[encoded data removed]",
      "text/plain": [
       "<Figure size 720x360 with 1 Axes>"
      ]
     },
     "metadata": {
      "needs_background": "light"
     },
     "output_type": "display_data"
    }
   ],
   "source": [
    "# Create two sets of random data\n",
    "data1 = np.random.normal(5, 2, 100)\n",
    "data2 = np.random.normal(7, 3, 100)\n",
    "\n",
    "# Combine the two sets of data into a single DataFrame\n",
    "df = pd.DataFrame({'Data1': data1, 'Data2': data2})\n",
    "\n",
    "# Calculate the descriptive statistics for each set of data\n",
    "data1_mean = np.mean(data1)\n",
    "data1_median = np.median(data1)\n",
    "data1_mode = stats.mode(data1).mode[0]\n",
    "data1_std = np.std(data1)\n",
    "\n",
    "data2_mean = np.mean(data2)\n",
    "data2_median = np.median(data2)\n",
    "data2_mode = stats.mode(data2).mode[0]\n",
    "data2_std = np.std(data2)\n",
    "\n",
    "# Print the descriptive statistics\n",
    "print(\"Data1 Mean:\", data1_mean)\n",
    "print(\"Data1 Median:\", data1_median)\n",
    "print(\"Data1 Mode:\", data1_mode)\n",
    "print(\"Data1 Standard Deviation:\", data1_std)\n",
    "\n",
    "print(\"Data2 Mean:\", data2_mean)\n",
    "print(\"Data2 Median:\", data2_median)\n",
    "print(\"Data2 Mode:\", data2_mode)\n",
    "print(\"Data2 Standard Deviation:\", data2_std)\n",
    "\n",
    "# Plot the two sets of data\n",
    "plt.figure(figsize=(10, 5))\n",
    "plt.grid(True, linestyle='--', color='gray', alpha=0.7)\n",
    "plt.hist(data1, alpha=0.5, label='Data1')\n",
    "plt.hist(data2, alpha=0.5, label='Data2')\n",
    "plt.legend(loc='upper right')\n",
    "plt.show()"
   ]
  },
  {
   "cell_type": "markdown",
   "id": "6f6914e3",
   "metadata": {},
   "source": [
    "## 12. Nominal numbers, ordinal numbers, interval numbers, and ratio numbers are different types of numerical data in statistics."
   ]
  },
  {
   "cell_type": "markdown",
   "id": "715f99fb",
   "metadata": {},
   "source": [
    "**Nominal numbers:** Nominal numbers are numbers used to label categories, such as gender, hair color, or eye color. These numbers do not have any mathematical properties, such as order or magnitude.\n",
    "\n",
    "**Ordinal numbers:** Ordinal numbers are used to indicate the order of items in a list. For example, the order of the months of the year, or the order of medals won in a competition (e.g. gold, silver, bronze).\n",
    "\n",
    "**Interval numbers:** Interval numbers indicate the difference between two values. For example, the difference between two temperatures, or the difference between two years. Interval numbers do not have an absolute zero point, meaning there is no true zero value.\n",
    "\n",
    "**Ratio numbers:** Ratio numbers indicate the ratio of one value to another. For example, the ratio of a person's height to their weight, or the ratio of the number of men to women in a population. Ratio numbers have an absolute zero point, meaning there is a true zero value, such as 0 height, 0 weight, or 0 people."
   ]
  },
  {
   "cell_type": "markdown",
   "id": "098dabf3",
   "metadata": {},
   "source": [
    "# Nominal numbers example"
   ]
  },
  {
   "cell_type": "code",
   "execution_count": 26,
   "id": "956fc1eb",
   "metadata": {},
   "outputs": [
    {
     "name": "stdout",
     "output_type": "stream",
     "text": [
      "Gender mapping: {'Male': 0, 'Female': 1, 'Other': 2}\n"
     ]
    }
   ],
   "source": [
    "gender = ['Male', 'Female', 'Other']\n",
    "gender_mapping = {gender: i for i, gender in enumerate(gender)}\n",
    "print(\"Gender mapping:\", gender_mapping)"
   ]
  },
  {
   "cell_type": "markdown",
   "id": "e51bae5d",
   "metadata": {},
   "source": [
    "# Ordinal numbers example"
   ]
  },
  {
   "cell_type": "code",
   "execution_count": 27,
   "id": "e5217381",
   "metadata": {},
   "outputs": [
    {
     "name": "stdout",
     "output_type": "stream",
     "text": [
      "Months mapping: {'Jan': 0, 'Feb': 1, 'Mar': 2, 'Apr': 3, 'May': 4, 'Jun': 5, 'Jul': 6, 'Aug': 7, 'Sep': 8, 'Oct': 9, 'Nov': 10, 'Dec': 11}\n"
     ]
    }
   ],
   "source": [
    "months = ['Jan', 'Feb', 'Mar', 'Apr', 'May', 'Jun', 'Jul', 'Aug', 'Sep', 'Oct', 'Nov', 'Dec']\n",
    "months_mapping = {month: i for i, month in enumerate(months)}\n",
    "print(\"Months mapping:\", months_mapping)"
   ]
  },
  {
   "cell_type": "markdown",
   "id": "0cb27bc2",
   "metadata": {},
   "source": [
    "# Interval numbers"
   ]
  },
  {
   "cell_type": "code",
   "execution_count": 28,
   "id": "39f01385",
   "metadata": {},
   "outputs": [
    {
     "name": "stdout",
     "output_type": "stream",
     "text": [
      "Interval differences: {0, 5, 10, 15, 20, 25, 30}\n"
     ]
    }
   ],
   "source": [
    "dataset = [20, 25, 30, 35, 40, 45, 50]\n",
    "interval = []\n",
    "for i in dataset:\n",
    "        for j in dataset:\n",
    "            if i >= j:    \n",
    "                continue\n",
    "        interval.append(j-i)\n",
    "print(\"Interval differences:\", set(interval))"
   ]
  },
  {
   "cell_type": "markdown",
   "id": "a65f683f",
   "metadata": {},
   "source": [
    "# Interval numbers"
   ]
  },
  {
   "cell_type": "code",
   "execution_count": 30,
   "id": "99bb3403",
   "metadata": {},
   "outputs": [
    {
     "name": "stdout",
     "output_type": "stream",
     "text": [
      "Interval differences statistics:\n",
      "Interval difference of 5 occurs 6 times\n",
      "Interval difference of 10 occurs 5 times\n",
      "Interval difference of 15 occurs 4 times\n",
      "Interval difference of 20 occurs 3 times\n",
      "Interval difference of 25 occurs 2 times\n",
      "Interval difference of 30 occurs 1 times\n"
     ]
    }
   ],
   "source": [
    "dataset = [20, 25, 30, 35, 40, 45, 50]\n",
    "interval = []\n",
    "for i in dataset:\n",
    "      for j in dataset:\n",
    "        if i >= j:\n",
    "              continue\n",
    "        interval.append(j-i) \n",
    "\n",
    "unique_intervals = list(set(interval))\n",
    "\n",
    "interval_counts = {}\n",
    "for i in unique_intervals:\n",
    "    interval_counts[i] = interval.count(i)\n",
    "\n",
    "print(\"Interval differences statistics:\")\n",
    "for i, count in interval_counts.items():\n",
    "    print(f\"Interval difference of {i} occurs {count} times\")"
   ]
  },
  {
   "cell_type": "markdown",
   "id": "10bec9a8",
   "metadata": {},
   "source": [
    "# Ratio numbers example"
   ]
  },
  {
   "cell_type": "code",
   "execution_count": 31,
   "id": "859a0017",
   "metadata": {},
   "outputs": [
    {
     "name": "stdout",
     "output_type": "stream",
     "text": [
      "Height-Weight ratios: [2.6666666666666665, 2.4285714285714284, 2.25, 2.111111111111111, 2.0]\n"
     ]
    }
   ],
   "source": [
    "heights = [160, 170, 180, 190, 200]\n",
    "weights = [60, 70, 80, 90, 100]\n",
    "height_weight_ratios = [height/weight for height, weight in zip(heights, weights)]\n",
    "print(\"Height-Weight ratios:\", height_weight_ratios)"
   ]
  },
  {
   "cell_type": "markdown",
   "id": "ba0fbe51",
   "metadata": {},
   "source": [
    "# 13. Correlation and covariance Algortihms"
   ]
  },
  {
   "cell_type": "markdown",
   "id": "e95d7a28",
   "metadata": {},
   "source": [
    "Correlation and covariance are important in machine learning because they help to understand the relationship between two or more variables. They are used to identify the relationship between features and the target variable, and to select features for building models.\n",
    "\n",
    "Here's an example of how correlation and covariance can be used in a real-world scenario:\n",
    "\n",
    "Suppose you are working for a company that sells home appliances and you want to understand the relationship between the sales of refrigerators and the sales of washing machines. You collect data on the sales of these two products for the past year, and you want to know if there is a relationship between the sales of refrigerators and washing machines.\n",
    "\n",
    "To do this, you can calculate the covariance and correlation between the sales of refrigerators and washing machines. If the covariance is positive, it means that the sales of refrigerators and washing machines are positively correlated, which means that when the sales of refrigerators increase, the sales of washing machines also increase. If the covariance is negative, it means that the sales of refrigerators and washing machines are negatively correlated, which means that when the sales of refrigerators increase, the sales of washing machines decrease.\n",
    "\n",
    "The correlation provides a normalized measure of the relationship between two variables, where the value ranges from -1 to 1. A value of 1 means that there is a perfect positive correlation, a value of -1 means that there is a perfect negative correlation, and a value of 0 means that there is no correlation.\n",
    "\n",
    "In this example, if you find that the correlation between the sales of refrigerators and washing machines is positive and strong, you can use this information to target your marketing efforts to increase sales of both products. If you find that the correlation is negative or weak, you may want to consider other factors that could be affecting the sales of these products."
   ]
  },
  {
   "cell_type": "markdown",
   "id": "c2c7df37",
   "metadata": {},
   "source": [
    "### Dataset with two variables (X and Y)"
   ]
  },
  {
   "cell_type": "code",
   "execution_count": 32,
   "id": "71da71b8",
   "metadata": {},
   "outputs": [],
   "source": [
    "data = np.array([[1, 2], [2, 3], [3, 4], [4, 5], [5, 6]])"
   ]
  },
  {
   "cell_type": "markdown",
   "id": "c6305817",
   "metadata": {},
   "source": [
    "### Extract X and Y from the dataset"
   ]
  },
  {
   "cell_type": "code",
   "execution_count": 33,
   "id": "46b24059",
   "metadata": {},
   "outputs": [],
   "source": [
    "X = data[:, 0]\n",
    "Y = data[:, 1]"
   ]
  },
  {
   "cell_type": "code",
   "execution_count": 34,
   "id": "ef803905",
   "metadata": {},
   "outputs": [
    {
     "data": {
      "text/plain": [
       "array([1, 2, 3, 4, 5])"
      ]
     },
     "execution_count": 34,
     "metadata": {},
     "output_type": "execute_result"
    }
   ],
   "source": [
    "X"
   ]
  },
  {
   "cell_type": "code",
   "execution_count": 35,
   "id": "c0d1a021",
   "metadata": {},
   "outputs": [
    {
     "data": {
      "text/plain": [
       "array([2, 3, 4, 5, 6])"
      ]
     },
     "execution_count": 35,
     "metadata": {},
     "output_type": "execute_result"
    }
   ],
   "source": [
    "Y"
   ]
  },
  {
   "cell_type": "markdown",
   "id": "05d37971",
   "metadata": {},
   "source": [
    "# Calculate the covariance between X and Y"
   ]
  },
  {
   "cell_type": "code",
   "execution_count": 36,
   "id": "238a6795",
   "metadata": {},
   "outputs": [
    {
     "name": "stdout",
     "output_type": "stream",
     "text": [
      "Covariance between X and Y: 2.0\n"
     ]
    }
   ],
   "source": [
    "covariance = np.cov(X, Y, bias=True)[0][1]\n",
    "print(\"Covariance between X and Y:\", covariance)"
   ]
  },
  {
   "cell_type": "markdown",
   "id": "86489e58",
   "metadata": {},
   "source": [
    "# Calculate the correlation between X and Y"
   ]
  },
  {
   "cell_type": "code",
   "execution_count": 37,
   "id": "e51f522c",
   "metadata": {},
   "outputs": [
    {
     "name": "stdout",
     "output_type": "stream",
     "text": [
      "Correlation between X and Y: 0.9999999999999999\n"
     ]
    }
   ],
   "source": [
    "correlation = np.corrcoef(X, Y)[0][1]\n",
    "print(\"Correlation between X and Y:\", correlation)"
   ]
  },
  {
   "cell_type": "markdown",
   "id": "00b18293",
   "metadata": {},
   "source": [
    "- The relationship between two variables, you can plot a scatter plot, which is a graph that shows the relationship between   two variables by plotting their values as points on a coordinate system.\n",
    "\n",
    "**An example of how you can plot a scatter plot to visualize the relationship between the X and Y variables in the code you provided**"
   ]
  },
  {
   "cell_type": "code",
   "execution_count": 38,
   "id": "9d6a2543",
   "metadata": {},
   "outputs": [
    {
     "data": {
      "image/png": "[encoded data removed]",
      "text/plain": [
       "<Figure size 432x288 with 1 Axes>"
      ]
     },
     "metadata": {
      "needs_background": "light"
     },
     "output_type": "display_data"
    }
   ],
   "source": [
    "# Dataset with two variables (X and Y)\n",
    "data = np.array([[1, 2], [2, 3], [3, 4], [4, 5], [5, 6]])\n",
    "\n",
    "# Extract X and Y from the dataset\n",
    "X = data[:, 0]\n",
    "Y = data[:, 1]\n",
    "\n",
    "# Plot the scatter plot\n",
    "plt.scatter(X, Y)\n",
    "plt.xlabel(\"X\")\n",
    "plt.ylabel(\"Y\")\n",
    "plt.show()"
   ]
  },
  {
   "cell_type": "markdown",
   "id": "b8e1e3e0",
   "metadata": {},
   "source": [
    "**The algorithms for calculating covariance and correlation are as follows**\n",
    "\n",
    "- Covariance:\n",
    "\n",
    "Calculate the mean of each variable. Subtract the mean from each value of the variable. Multiply the deviations of each variable. Sum the product of the deviations. Divide the sum by the sample size minus one to get the sample covariance. Here's the mathematical formula for covariance between two variables X and Y:\n",
    "\n",
    "cov(X, Y) = (1 / (n-1)) * Σ(x_i - mean(X)) * (y_i - mean(Y))\n",
    "\n",
    "- Correlation:\n",
    "\n",
    "Calculate the covariance between two variables.\n",
    "Divide the covariance by the product of the standard deviation of each variable.\n",
    "Here's the mathematical formula for correlation between two variables X and Y: corr(X, Y) = cov(X, Y) / (std(X) * std(Y))"
   ]
  },
  {
   "cell_type": "code",
   "execution_count": 39,
   "id": "17cdfd88",
   "metadata": {},
   "outputs": [
    {
     "name": "stdout",
     "output_type": "stream",
     "text": [
      "Covariance between X and Y: 2.5\n",
      "Correlation between X and Y: 1.2499999999999998\n"
     ]
    }
   ],
   "source": [
    "# Dataset with two variables (X and Y)\n",
    "data = [[1, 2], [2, 3], [3, 4], [4, 5], [5, 6]]\n",
    "\n",
    "# Calculate the mean of each variable\n",
    "mean_X = sum(x[0] for x in data) / len(data)\n",
    "mean_Y = sum(x[1] for x in data) / len(data)\n",
    "\n",
    "# Calculate the deviations from the mean\n",
    "deviations_X = [(x[0] - mean_X) for x in data]\n",
    "deviations_Y = [(x[1] - mean_Y) for x in data]\n",
    "\n",
    "# Calculate the sum of the product of deviations\n",
    "sum_of_product_of_deviations = sum(x * y for x, y in zip(deviations_X, deviations_Y))\n",
    "\n",
    "# Calculate the covariance\n",
    "covariance = sum_of_product_of_deviations / (len(data) - 1)\n",
    "print(\"Covariance between X and Y:\", covariance)\n",
    "\n",
    "# Calculate the standard deviation of each variable\n",
    "std_X = (sum(x ** 2 for x in deviations_X) / len(data)) ** 0.5\n",
    "std_Y = (sum(y ** 2 for y in deviations_Y) / len(data)) ** 0.5\n",
    "\n",
    "# Calculate the correlation\n",
    "correlation = covariance / (std_X * std_Y)\n",
    "print(\"Correlation between X and Y:\", correlation)"
   ]
  },
  {
   "cell_type": "markdown",
   "id": "3035ab1c",
   "metadata": {},
   "source": [
    "- The two sets of code are using different methods to calculate covariance and correlation, which is why the results may     not match.\n",
    "\n",
    "- In the first set of code, the covariance and correlation are calculated using a manual implementation, while in the         second set of code, the covariance and correlation are calculated using the np.cov() and np.corrcoef() functions from the   numpy library.\n",
    "\n",
    "- The manual implementation in the first set of code is correct, but it may not be as efficient as the numpy functions,       which are optimized for speed and accuracy. Additionally, the np.cov() function calculates the sample covariance by         default, which is why the bias parameter is set to True in the second set of code, whereas the manual implementation in     the first set of code calculates the sample covariance by dividing by n-1 by default.\n",
    "\n",
    "- It's possible that the discrepancy between the results from the two sets of code is due to differences in rounding, as     the numpy functions may use more precise calculations."
   ]
  }
 ],
 "metadata": {
  "kernelspec": {
   "display_name": "Python 3 (ipykernel)",
   "language": "python",
   "name": "python3"
  },
  "language_info": {
   "codemirror_mode": {
    "name": "ipython",
    "version": 3
   },
   "file_extension": ".py",
   "mimetype": "text/x-python",
   "name": "python",
   "nbconvert_exporter": "python",
   "pygments_lexer": "ipython3",
   "version": "3.9.12"
  }
 },
 "nbformat": 4,
 "nbformat_minor": 5
}
