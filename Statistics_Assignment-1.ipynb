{
 "cells": [
  {
   "cell_type": "raw",
   "id": "3739a585",
   "metadata": {},
   "source": [
    "1) A survey of 1000 adults found that 480 of them prefer coffee over tea. \n",
    "What is the proportion of adults who prefer coffee? What is the 95% confidence interval for this proportion?"
   ]
  },
  {
   "cell_type": "code",
   "execution_count": 1,
   "id": "ecc5de6b",
   "metadata": {},
   "outputs": [
    {
     "name": "stdout",
     "output_type": "stream",
     "text": [
      "Proportion of adults who prefer coffee: 0.48\n",
      "95% Confidence Interval:(0.4490344811120498, 0.5109655188879502)\n"
     ]
    }
   ],
   "source": [
    "import statsmodels.api as sm\n",
    "import numpy as np\n",
    "\n",
    "# Sample size\n",
    "n = 1000\n",
    "\n",
    "# Number of adults who prefer coffee\n",
    "x = 480\n",
    "\n",
    "# Proportion of adults who prefer coffee\n",
    "p_hat = x/n\n",
    "\n",
    "# Standard error\n",
    "se = np.sqrt(p_hat * (1 - p_hat) / n)\n",
    "\n",
    "# Margin of error for 95% confidence interval\n",
    "moe = 1.96 * se\n",
    "\n",
    "# 95% confidence interval\n",
    "ci = (p_hat - moe, p_hat + moe)\n",
    "\n",
    "print(f\"Proportion of adults who prefer coffee: {p_hat}\")\n",
    "print(f\"95% Confidence Interval:{ci}\")"
   ]
  },
  {
   "cell_type": "raw",
   "id": "c2a9c51c",
   "metadata": {},
   "source": [
    "2)A company has four sales representatives, and their monthly sales (in thousands of dollars) are as follows: 15, 20, 25, 30. \n",
    "  Calculate the mean, median, and mode of the sales."
   ]
  },
  {
   "cell_type": "code",
   "execution_count": 2,
   "id": "318b265e",
   "metadata": {},
   "outputs": [
    {
     "name": "stdout",
     "output_type": "stream",
     "text": [
      "  Mean: 22.5\n",
      "Median: 22.5\n",
      "  Mode: 15\n"
     ]
    }
   ],
   "source": [
    "import statistics as stats\n",
    "\n",
    "sales = [15, 20, 25, 30]\n",
    "\n",
    "# Mean\n",
    "mean = np.mean(sales)\n",
    "\n",
    "# Median\n",
    "median = np.median(sales)\n",
    "\n",
    "# Mode\n",
    "mode = stats.mode(sales)\n",
    "\n",
    "print(f\"  Mean: {mean}\")\n",
    "print(f\"Median: {median}\")\n",
    "print(f\"  Mode: {mode}\")"
   ]
  },
  {
   "cell_type": "raw",
   "id": "ee4ad376",
   "metadata": {},
   "source": [
    "3)A dataset contains the heights (in centimeters) of 1000 individuals.The mean height is 170 cm and the standard deviation is   10 cm.If we assume that the heights are normally distributed, what percentage of individuals have a height between 160 cm and 180 cm?"
   ]
  },
  {
   "cell_type": "code",
   "execution_count": 3,
   "id": "3c92e6fb",
   "metadata": {},
   "outputs": [
    {
     "name": "stdout",
     "output_type": "stream",
     "text": [
      "Percentage of individuals with height between 160 cm and 180 cm: 68.26894921370858%\n"
     ]
    }
   ],
   "source": [
    "from scipy.stats import norm\n",
    "\n",
    "# Mean and standard deviation of heights\n",
    "mu = 170\n",
    "sigma = 10\n",
    "\n",
    "# Probability of a height between 160 cm and 180 cm\n",
    "p = norm.cdf(180, mu, sigma) - norm.cdf(160, mu, sigma)\n",
    "\n",
    "print(f\"Percentage of individuals with height between 160 cm and 180 cm: {p*100}%\")"
   ]
  },
  {
   "cell_type": "raw",
   "id": "24359353",
   "metadata": {},
   "source": [
    "4)A study compared the effectiveness of two different treatments for a certain medical condition. \n",
    "Treatment A was given to 100 patients and 70 of them showed improvement. \n",
    "Treatment B was given to 120 patients and 90 of them showed improvement. \n",
    "Is there significant evidence that one treatment is better than the other? Use a significance level of 0.05."
   ]
  },
  {
   "cell_type": "code",
   "execution_count": 4,
   "id": "fd3585e6",
   "metadata": {},
   "outputs": [
    {
     "name": "stdout",
     "output_type": "stream",
     "text": [
      "There is no significant evidence that one treatment is better than the other.\n"
     ]
    }
   ],
   "source": [
    "from statsmodels.stats.proportion import proportions_ztest\n",
    "\n",
    "# Number of patients and number of successes for each treatment\n",
    "n1 = 100\n",
    "x1 = 70\n",
    "n2 = 120\n",
    "x2 = 90\n",
    "\n",
    "# Two-sample proportions test\n",
    "count = np.array([x1, x2])\n",
    "nobs = np.array([n1, n2])\n",
    "z, p_value = proportions_ztest(count, nobs, alternative='two-sided')\n",
    "\n",
    "if p_value < 0.05:\n",
    "    print(f\"There is significant evidence that one treatment is better than the other.\")\n",
    "else:\n",
    "    print(f\"There is no significant evidence that one treatment is better than the other.\")"
   ]
  },
  {
   "cell_type": "raw",
   "id": "fb97cfe6",
   "metadata": {},
   "source": [
    "5)A random sample of 50 observations from a population has a mean of 60 and a standard deviation of 10. \n",
    "Construct a 99% confidence interval for the population mean."
   ]
  },
  {
   "cell_type": "code",
   "execution_count": 5,
   "id": "fb2dfe62",
   "metadata": {},
   "outputs": [
    {
     "name": "stdout",
     "output_type": "stream",
     "text": [
      "99% Confidence Interval: (56.21273607996485, 63.78726392003515)\n"
     ]
    }
   ],
   "source": [
    "# Sample mean and standard deviation\n",
    "x_bar = 60\n",
    "s = 10\n",
    "\n",
    "# Sample size\n",
    "n = 50\n",
    "\n",
    "# t-value for a 99% confidence interval with n-1 degrees of freedom\n",
    "t = 2.678\n",
    "\n",
    "# Margin of error for 99% confidence interval\n",
    "moe = t * s / np.sqrt(n)\n",
    "\n",
    "# 99% confidence interval\n",
    "ci = (x_bar - moe, x_bar + moe)\n",
    "\n",
    "print(f\"99% Confidence Interval: {ci}\")"
   ]
  }
 ],
 "metadata": {
  "kernelspec": {
   "display_name": "Python 3 (ipykernel)",
   "language": "python",
   "name": "python3"
  },
  "language_info": {
   "codemirror_mode": {
    "name": "ipython",
    "version": 3
   },
   "file_extension": ".py",
   "mimetype": "text/x-python",
   "name": "python",
   "nbconvert_exporter": "python",
   "pygments_lexer": "ipython3",
   "version": "3.9.12"
  }
 },
 "nbformat": 4,
 "nbformat_minor": 5
}
